{
 "cells": [
  {
   "cell_type": "markdown",
   "metadata": {},
   "source": [
    "# Python aplicado: Bolsa de valores"
   ]
  },
  {
   "cell_type": "markdown",
   "metadata": {},
   "source": [
    "# Funcionamento do mercado de ações\n",
    "\n",
    "O produto conhecido como ação é nada mais que a fração de uma empresa, ou seja, quando você adquire uma ação você está de certa forma tornando-se sócio da empresa, podendo ganhar dinheiro com a valorização e o lucro dela. \n",
    "De forma geral, as ações são negociadas na chamada bolsa de valores, e cada páis tem a sua própria bolsa, podendo inclusive, ter mais de uma. No Brasil a bolsa de valores está sediada em São Paulo e é chamada de B3.\n",
    "Para negociar cada ação geralmente usa-se o que é chamado de corretora, sendo através dela que uma ordem de compra ou de venda é enviada para a bolsa de valores. \n",
    "Conforme as ordens de compras e vendas são executadas ao longo dos dias, semanas e meses, um histórico de negociação vai sendo formado. É com base nesse histórico que é possível avaliar o desempenho de uma ação ou papel. A obtenção deste histórico pode ser feita de várias formas, incluíndo obtenção de dados em tempo real. Para fins de estudos, iremos trabalhar com uma base de dados históricos e não em tempo real."
   ]
  },
  {
   "cell_type": "markdown",
   "metadata": {},
   "source": [
    "# Instalação do ambiente de desenvolvimento\n",
    "\n",
    "Neste curso iremos trabalhar com 3 bibliotecas principais:\n",
    "<br>\n",
    "- pandas: biblioteca para de manipulação de estrutura de dados \n",
    "- pandas-datareader: responsável por buscar nossos dados históricos e converte-los em um formato que podemos trabalhar com pandas\n",
    "- plotly: biblioteca para plotagem dos dados. Nencessário gerar um chave no site https://plot.ly/python/\n",
    "\n",
    "### Criando um ambiente virtual\n",
    "\n",
    "Primeira vamos criar um ambiente virtual, com o venv, nativo do python3:\n",
    "\n",
    "python -m venv python-finance\n",
    "\n",
    "cd python-finance\n",
    "\n",
    "Scripts\\activate\n",
    "\n",
    "mkdir lessons\n",
    "\n",
    "cd lessons"
   ]
  },
  {
   "cell_type": "markdown",
   "metadata": {},
   "source": [
    "# Treino"
   ]
  },
  {
   "cell_type": "code",
   "execution_count": null,
   "metadata": {},
   "outputs": [],
   "source": [
    "import pandas_datareader as pdr\n",
    "import datetime \n",
    "\n",
    "vale3 = pdr.get_data_yahoo('VALE3.SA', \n",
    "                          start=datetime.datetime(2016, 10, 1), \n",
    "                          end=datetime.datetime(2019, 1, 1))\n",
    "\n",
    "# analyszng the dataset \n",
    "\n",
    "# get first 5 rows\n",
    "display(vale3.head())\n",
    "\n",
    "# get last 5 rows\n",
    "display(vale3.tail())\n",
    "\n",
    "# get statistcs of dataset \n",
    "display(vale3.describe())"
   ]
  },
  {
   "cell_type": "code",
   "execution_count": null,
   "metadata": {},
   "outputs": [],
   "source": [
    "# Inspect the index \n",
    "print(vale3.index)\n",
    "\n",
    "# Inspect the columns\n",
    "print(vale3.columns)"
   ]
  },
  {
   "cell_type": "code",
   "execution_count": null,
   "metadata": {},
   "outputs": [],
   "source": [
    "vale3['2018-01-01':].head(10)"
   ]
  },
  {
   "cell_type": "code",
   "execution_count": null,
   "metadata": {},
   "outputs": [],
   "source": [
    "pct_c = (vale3.Close / vale3.Open).apply(lambda x: x - 1) * 100\n",
    "display(pct_c.head(10))"
   ]
  },
  {
   "cell_type": "code",
   "execution_count": null,
   "metadata": {},
   "outputs": [],
   "source": [
    "import numpy as np\n",
    "\n",
    "# Assign `Adj Close` to `daily_close`\n",
    "daily_close = vale3.Close\n",
    "\n",
    "# Daily returns\n",
    "daily_pct_change = daily_close.pct_change()\n",
    "\n",
    "# Replace NA values with 0\n",
    "daily_pct_change.fillna(0, inplace=True)\n",
    "\n",
    "# Inspect daily returns\n",
    "display(daily_pct_change.head(10))\n",
    "\n",
    "# Daily log returns\n",
    "daily_log_returns = np.log(daily_close.pct_change()+1)\n",
    "\n",
    "# Print daily log returns\n",
    "display(daily_log_returns.head(10))"
   ]
  },
  {
   "cell_type": "code",
   "execution_count": null,
   "metadata": {},
   "outputs": [],
   "source": [
    "# Daily log returns\n",
    "daily_log_returns = np.log(vale3.Close.pct_change()+1)"
   ]
  },
  {
   "cell_type": "code",
   "execution_count": null,
   "metadata": {},
   "outputs": [],
   "source": [
    "import plotly.plotly as py\n",
    "import plotly.figure_factory as ff\n",
    "import numpy as np\n",
    "\n",
    "plotly_username = \"\"\n",
    "plotly_key = \"\"\n",
    "\n",
    "# auth to plotly \n",
    "py.sign_in(plotly_username, plotly_key)"
   ]
  },
  {
   "cell_type": "code",
   "execution_count": null,
   "metadata": {},
   "outputs": [],
   "source": [
    "\n",
    "data = [go.Histogram(x=daily_log_returns)]\n",
    "py.iplot(data, filename='basic histogram')"
   ]
  },
  {
   "cell_type": "markdown",
   "metadata": {},
   "source": [
    "# Obtendo os dados\n",
    "\n",
    "Nossos dados serão obtidos atravás da biblioteca pandas-datareader. Vamos testar com 3 ativos (ações):"
   ]
  },
  {
   "cell_type": "code",
   "execution_count": null,
   "metadata": {},
   "outputs": [],
   "source": [
    "import pandas as pd\n",
    "import numpy as np\n",
    "import plotly.plotly as py\n",
    "import datetime\n",
    "import pandas_datareader as pdr\n",
    "import plotly.graph_objs as go"
   ]
  },
  {
   "cell_type": "markdown",
   "metadata": {},
   "source": [
    "Autenticando no serviço do plotly"
   ]
  },
  {
   "cell_type": "code",
   "execution_count": null,
   "metadata": {},
   "outputs": [],
   "source": [
    "plotly_username = \"\"\n",
    "plotly_key = \"\"\n",
    "\n",
    "# auth to plotly \n",
    "py.sign_in(plotly_username, plotly_key)"
   ]
  },
  {
   "cell_type": "markdown",
   "metadata": {},
   "source": [
    "Funções para retornar os dados"
   ]
  },
  {
   "cell_type": "code",
   "execution_count": null,
   "metadata": {},
   "outputs": [],
   "source": [
    "# we download the stock prices for each ticker and then we do a mapping between data and name of the ticker\n",
    "def get(tickers, startdate, enddate):\n",
    "  def data(ticker):\n",
    "    return (pdr.get_data_yahoo(ticker, start=startdate, end=enddate))\n",
    "  datas = map (data, tickers)\n",
    "  return(pd.concat(datas, keys=tickers, names=['Ticker', 'Date']))\n"
   ]
  },
  {
   "cell_type": "markdown",
   "metadata": {},
   "source": [
    "Download dos dados"
   ]
  },
  {
   "cell_type": "code",
   "execution_count": null,
   "metadata": {},
   "outputs": [],
   "source": [
    "# we download the stock prices for each ticker and then we do a mapping between data and name of the ticker\n",
    "def get(tickers, startdate, enddate):\n",
    "  def data(ticker):\n",
    "    return (pdr.get_data_yahoo(ticker, start=startdate, end=enddate))\n",
    "  datas = map (data, tickers)\n",
    "  return(pd.concat(datas, keys=tickers, names=['Ticker', 'Date']))\n"
   ]
  },
  {
   "cell_type": "markdown",
   "metadata": {},
   "source": [
    "Download dos dados"
   ]
  },
  {
   "cell_type": "code",
   "execution_count": null,
   "metadata": {},
   "outputs": [],
   "source": [
    "# Define the stocks to download. We'll download of Apple, Microsoft and the S&P500 index.\n",
    "tickers = ['AAPL', 'MSFT', '^GSPC']\n",
    "\n",
    "# We would like all available data from 01/01/2000 until 31/12/2018.\n",
    "start_date = datetime.datetime(2016, 1, 1)\n",
    "end_date = datetime.datetime(2019, 12, 31)\n",
    "\n",
    "all_data = get(tickers, start_date, end_date)"
   ]
  },
  {
   "cell_type": "code",
   "execution_count": null,
   "metadata": {},
   "outputs": [],
   "source": [
    "all_data.head(10)"
   ]
  },
  {
   "cell_type": "code",
   "execution_count": null,
   "metadata": {},
   "outputs": [],
   "source": [
    "all_data.tail(10)"
   ]
  },
  {
   "cell_type": "markdown",
   "metadata": {},
   "source": [
    "Calculando o ganho da carteira de maneira simplista"
   ]
  },
  {
   "cell_type": "code",
   "execution_count": null,
   "metadata": {},
   "outputs": [],
   "source": [
    "# transform rows in columns\n",
    "daily_close_px = all_data[['Adj Close']].reset_index().pivot('Date', 'Ticker', 'Adj Close')\n",
    "\n",
    "# get the actual price and split by previous price to find the price variation\n",
    "cart_pct_change = daily_close_px / daily_close_px.shift(1) - 1"
   ]
  },
  {
   "cell_type": "markdown",
   "metadata": {},
   "source": [
    "Também podemos verificar o valor acumulado diariamente, através da função cumprod, que retorna o valor acumulado da lista, neste exemplo, o percentual acumulado"
   ]
  },
  {
   "cell_type": "code",
   "execution_count": null,
   "metadata": {},
   "outputs": [],
   "source": [
    "# sum all prices variation percentages\n",
    "cart_return = (1 + cart_pct_change).cumprod()\n",
    "\n",
    "cart_return.head(10)"
   ]
  },
  {
   "cell_type": "markdown",
   "metadata": {},
   "source": [
    "Por fim, para verificarmos o rendimento final da carteira, basta visualizar o último valor da lista de produtos acumulados"
   ]
  },
  {
   "cell_type": "code",
   "execution_count": null,
   "metadata": {},
   "outputs": [],
   "source": [
    "# percentual values\n",
    "final_return = cart_return[-1:].apply(lambda x: (x - 1) *100)\n",
    "display(final_return)"
   ]
  },
  {
   "cell_type": "markdown",
   "metadata": {},
   "source": [
    "# Plotando Candlestick"
   ]
  },
  {
   "cell_type": "code",
   "execution_count": null,
   "metadata": {},
   "outputs": [],
   "source": [
    "trace = go.Candlestick(x=all_data.loc['MSFT'].index,\n",
    "                open=all_data.loc['MSFT'].Open,\n",
    "                high=all_data.loc['MSFT'].High,\n",
    "                low=all_data.loc['MSFT'].Low,\n",
    "                close=all_data.loc['MSFT'].Close)\n",
    "data = [trace]\n",
    "py.iplot(data)"
   ]
  },
  {
   "cell_type": "markdown",
   "metadata": {},
   "source": [
    "# Preparando os dados"
   ]
  },
  {
   "cell_type": "markdown",
   "metadata": {},
   "source": [
    "Primemiro reogarnizamos a estrutura do dataset para facilitar a manipulação dos dados e pegamos o preço de fechamento"
   ]
  },
  {
   "cell_type": "code",
   "execution_count": null,
   "metadata": {},
   "outputs": [],
   "source": [
    "# rearrange data\n",
    "data = all_data.reset_index()\n",
    "data = data.set_index(['Date','Ticker']).sort_index()\n",
    "\n",
    "# Getting just the adjusted closing prices. This will return a Pandas DataFrame\n",
    "# The index in this DataFrame is the major index of the panel_data.\n",
    "close = data['Close']"
   ]
  },
  {
   "cell_type": "markdown",
   "metadata": {},
   "source": [
    "Descobrimos quais foram os dias úteis no período dentro do range de data que selecionamos anteriormente. Então reindexamos nosso dataset com esse novo range de data. Isto fará com que data inexistentes sejam criadas com o valores nulos (NaN)"
   ]
  },
  {
   "cell_type": "code",
   "execution_count": null,
   "metadata": {},
   "outputs": [],
   "source": [
    "# Getting all weekdays between 01/01/2000 and 31/12/2018\n",
    "all_weekdays = pd.date_range(start=start_date, end=end_date, freq='B')\n",
    "\n",
    "# How do we align the existing prices in adj_close with our new set of dates?\n",
    "# All we need to do is reindex close using all_weekdays as the new index\n",
    "close = close.reindex( pd.MultiIndex.from_product([all_weekdays,  tickers], names=['Date', 'Ticker']),fill_value=np.NaN)\n",
    "#close = close.fillna(0)\n",
    "close.head(10)"
   ]
  },
  {
   "cell_type": "markdown",
   "metadata": {},
   "source": [
    "Por fim, iremos transformar a coluna ticker em 3 colunas distintas, uma para cada ativo."
   ]
  },
  {
   "cell_type": "code",
   "execution_count": null,
   "metadata": {},
   "outputs": [],
   "source": [
    "close = close.reset_index().pivot(index=\"Date\", columns=\"Ticker\", values=\"Close\")"
   ]
  },
  {
   "cell_type": "markdown",
   "metadata": {},
   "source": [
    "Agora nosso dataset está pronto e podemos dar uma olhlada nele."
   ]
  },
  {
   "cell_type": "code",
   "execution_count": null,
   "metadata": {},
   "outputs": [],
   "source": [
    "close.describe()"
   ]
  },
  {
   "cell_type": "markdown",
   "metadata": {},
   "source": [
    "Calcular o  alor percentual utilizando a função pct_change"
   ]
  },
  {
   "cell_type": "code",
   "execution_count": null,
   "metadata": {},
   "outputs": [],
   "source": [
    "data = all_data.pct_change(1)\n",
    "data.loc['MSFT'].Close.head()"
   ]
  },
  {
   "cell_type": "markdown",
   "metadata": {},
   "source": [
    "É o equivalente ao que fizemos no cálculo do ganho da carteira"
   ]
  },
  {
   "cell_type": "code",
   "execution_count": null,
   "metadata": {},
   "outputs": [],
   "source": [
    "(daily_close_px / daily_close_px.shift(1) - 1)['MSFT'].head()"
   ]
  },
  {
   "cell_type": "markdown",
   "metadata": {},
   "source": [
    "Como iremos trabalhar na forma logaritimica, iremos usar uma outra estratégia para cálculo do percentual. Primeiro aplicamos o logaritimo no valor do número e depois calculamos a diferança através função diff, que calcula a diferença dos valores ao longo de uma lista (out[n] = a[n+1] - a[n])"
   ]
  },
  {
   "cell_type": "code",
   "execution_count": null,
   "metadata": {},
   "outputs": [],
   "source": [
    "log_returns = np.log(close.dropna()).diff()\n",
    "log_returns.head()"
   ]
  },
  {
   "cell_type": "markdown",
   "metadata": {},
   "source": [
    "Além do preço relativo ou percentual da ação, muitas vezes também se trabalha com o total relativo acumalado, que é a medida que indica a rentabibilidade de um dado período.\n",
    "Os gráfico abaixo representamo o valorp percentual da ação seguido pelo gráfico representando o total acumulado. Por exemplo, no gráfico de total acumulado, notamos que se uma pessoa tivesse  investido 1000 na Apple no inicio dos anos 2000, teria aumentado seu capital em quase 6 vezes."
   ]
  },
  {
   "cell_type": "code",
   "execution_count": null,
   "metadata": {},
   "outputs": [],
   "source": [
    "layout = go.Layout(\n",
    "    title='Result',\n",
    "    yaxis=dict(\n",
    "        title='Cumulative log returns',\n",
    "        titlefont=dict(\n",
    "            size=26,\n",
    "            color='#7f7f7f'\n",
    "        )\n",
    "    )\n",
    ")\n",
    "    \n",
    "axis = []\n",
    "\n",
    "for d in log_returns:\n",
    "    axi = go.Scatter(\n",
    "                x=log_returns.index,\n",
    "                y=log_returns[d].cumsum(),\n",
    "                name = d,\n",
    "                opacity = 1)\n",
    "    axis.append(axi)\n",
    "    \n",
    "fig = dict(data=axis, layout=layout)\n",
    "py.iplot(fig)"
   ]
  },
  {
   "cell_type": "code",
   "execution_count": null,
   "metadata": {},
   "outputs": [],
   "source": [
    "layout = go.Layout(\n",
    "    title='Result',\n",
    "    yaxis=dict(\n",
    "        title='Total relative returns (%)',\n",
    "        titlefont=dict(\n",
    "            size=18,\n",
    "            color='#7f7f7f'\n",
    "        )\n",
    "    )\n",
    ")\n",
    "axis = []\n",
    "\n",
    "for d in log_returns:\n",
    "    axi = go.Scatter(\n",
    "                x=log_returns.index,\n",
    "                y= 100 * (np.exp(log_returns[d].cumsum()) -1),\n",
    "                name = d,\n",
    "                opacity = 1)\n",
    "    axis.append(axi)\n",
    "    \n",
    "fig = dict(data=axis, layout=layout)\n",
    "py.iplot(fig)"
   ]
  },
  {
   "cell_type": "markdown",
   "metadata": {},
   "source": [
    "# Buy and Hold\n",
    "Vamos assumir que iremos cálcular o rendimemnto do último dia disponível na nossa carteira. A forma mais simples de realizar este cálculo e multiplicando a matriz de pesos pela matriz de preços da ação neste dia. Primeiro devemos transpor a matriz dos preços"
   ]
  },
  {
   "cell_type": "code",
   "execution_count": null,
   "metadata": {},
   "outputs": [],
   "source": [
    "r_t = log_returns.tail(1).transpose()\n",
    "r_t"
   ]
  },
  {
   "cell_type": "markdown",
   "metadata": {},
   "source": [
    "Em seguida criar a matriz dos pesos das ações dentro da carteira. Aqui utilizamos 1/3, pois cada uma das três ações possuem o mesmo peso dentro da carteira."
   ]
  },
  {
   "cell_type": "code",
   "execution_count": null,
   "metadata": {},
   "outputs": [],
   "source": [
    "weights_vector = pd.DataFrame(1 / 3, index=r_t.index, columns=r_t.columns)\n",
    "weights_vector"
   ]
  },
  {
   "cell_type": "markdown",
   "metadata": {},
   "source": [
    "Realizamos a multiplicação e temos o rendimento da carteira como um todo"
   ]
  },
  {
   "cell_type": "code",
   "execution_count": null,
   "metadata": {},
   "outputs": [],
   "source": [
    "portfolio_log_return = weights_vector.transpose().dot(r_t)\n",
    "portfolio_log_return"
   ]
  },
  {
   "cell_type": "markdown",
   "metadata": {},
   "source": [
    "A fim de calcular para todo o período de tempo"
   ]
  },
  {
   "cell_type": "code",
   "execution_count": null,
   "metadata": {},
   "outputs": [],
   "source": [
    "weights_matrix = pd.DataFrame(1 / 3, index=log_returns.index, columns=log_returns.columns)\n",
    "weights_matrix.head()"
   ]
  },
  {
   "cell_type": "code",
   "execution_count": null,
   "metadata": {},
   "outputs": [],
   "source": [
    "temp_var = weights_matrix.dot(log_returns.transpose())\n",
    "temp_var.tail()"
   ]
  },
  {
   "cell_type": "markdown",
   "metadata": {},
   "source": [
    "O valor que procuramos está na diganoal da matriz, pois veja que é quando as datas das matrizes de origem se interseccionam. Para estrar este valor utilizamos a função diag, do numpy"
   ]
  },
  {
   "cell_type": "code",
   "execution_count": null,
   "metadata": {},
   "outputs": [],
   "source": [
    "portfolio_log_returns = pd.Series(np.diag(temp_var), index=log_returns.index)\n",
    "portfolio_log_returns = portfolio_log_returns[1:]\n",
    "portfolio_log_returns.tail()"
   ]
  },
  {
   "cell_type": "markdown",
   "metadata": {},
   "source": [
    "A plotagem dos gráficos são similares ao que já fizemos anteriormente"
   ]
  },
  {
   "cell_type": "code",
   "execution_count": null,
   "metadata": {},
   "outputs": [],
   "source": [
    "layout = go.Layout(\n",
    "    title='Result',\n",
    "    yaxis=dict(\n",
    "        title='Portfolio cumulative log returns',\n",
    "        titlefont=dict(\n",
    "            size=18,\n",
    "            color='#7f7f7f'\n",
    "        )\n",
    "    )\n",
    ")\n",
    "    \n",
    "axis = go.Scatter(\n",
    "            x=portfolio_log_returns.index,\n",
    "            y=portfolio_log_returns.cumsum(),\n",
    "            opacity = 1)\n",
    "    \n",
    "fig = dict(data=[axis], layout=layout)\n",
    "py.iplot(fig)"
   ]
  },
  {
   "cell_type": "code",
   "execution_count": null,
   "metadata": {},
   "outputs": [],
   "source": [
    "total_relative_returns = (np.exp(portfolio_log_returns.cumsum()) - 1)\n",
    "\n",
    "layout = go.Layout(\n",
    "    title='Result',\n",
    "    yaxis=dict(\n",
    "        title='Portfolio total relative returns (%)',\n",
    "        titlefont=dict(\n",
    "            size=18,\n",
    "            color='#7f7f7f'\n",
    "        )\n",
    "    )\n",
    ")\n",
    "    \n",
    "axis = go.Scatter(\n",
    "            x = total_relative_returns.index,\n",
    "            y = total_relative_returns * 100,\n",
    "            opacity = 1)\n",
    "    \n",
    "fig = dict(data=[axis], layout=layout)\n",
    "py.iplot(fig)"
   ]
  },
  {
   "cell_type": "markdown",
   "metadata": {},
   "source": [
    "# Análise de trading por médias móveis"
   ]
  },
  {
   "cell_type": "markdown",
   "metadata": {},
   "source": [
    "## Média móvel simples"
   ]
  },
  {
   "cell_type": "code",
   "execution_count": null,
   "metadata": {},
   "outputs": [],
   "source": [
    "# Get the MSFT timeseries. This now returns a Pandas Series object indexed by date and drop NA rows.\n",
    "msft = all_data.loc['MSFT'].dropna()\n",
    "msft = msft['2018-06-01':]\n",
    "\n",
    "window = 21\n",
    "# Calculate the  21 days moving averages of the closing prices\n",
    "MA = msft.Close.rolling(window=window).mean()\n",
    "\n",
    "\n",
    "\n",
    "trace_avg = go.Scatter(\n",
    "                x=MA.index,\n",
    "                y=MA,\n",
    "                name = \"MSFT MA(21)\",\n",
    "                line = dict(color = '#BEBECF'),\n",
    "                opacity = 1)\n",
    "\n",
    "trace_candles = go.Candlestick(x=msft.index,\n",
    "                    open=msft.Open,\n",
    "                    high=msft.High,\n",
    "                    low=msft.Low,\n",
    "                    close=msft.Close,\n",
    "                    name = \"Price\")\n",
    "\n",
    "data = [trace_avg, trace_candles]\n",
    "\n",
    "fig = dict(data=data)\n",
    "py.iplot(fig)"
   ]
  },
  {
   "cell_type": "markdown",
   "metadata": {},
   "source": [
    "## Média móvel exponencial"
   ]
  },
  {
   "cell_type": "code",
   "execution_count": null,
   "metadata": {},
   "outputs": [],
   "source": [
    "window = 21\n",
    "K = ( 2 / (window + 1))\n",
    "\n",
    "msft = all_data.loc['MSFT'].dropna()\n",
    "msft = msft['2018-06-01':]\n",
    "\n",
    "MA = msft.Close.rolling(window=window).mean().dropna()\n"
   ]
  },
  {
   "cell_type": "code",
   "execution_count": null,
   "metadata": {},
   "outputs": [],
   "source": [
    "ema_data = pd.DataFrame(index=MA.index)\n",
    "ema_data['Price'] = msft.Close\n",
    "ema_data['MA'] = MA\n",
    "ema_data['EMA'] = np.NaN\n",
    "\n",
    "ema_data.EMA[0] = ema_data.MA[1]\n",
    "\n",
    "for i in range(1, len(ema_data)):\n",
    "    ema_data.EMA[i] = (ema_data.Price[i] * K) + ((1 - K) * ema_data.EMA[i-1]) "
   ]
  },
  {
   "cell_type": "code",
   "execution_count": null,
   "metadata": {},
   "outputs": [],
   "source": [
    "trace_ma = go.Scatter(\n",
    "                x=ema_data.index,\n",
    "                y=ema_data.MA,\n",
    "                name = \"MSFT MA(21)\",\n",
    "                line = dict(color = '#BEBECF'),\n",
    "                opacity = 1)\n",
    "\n",
    "trace_ema = go.Scatter(\n",
    "                x=ema_data.index,\n",
    "                y=ema_data.EMA,\n",
    "                name = \"MSFT EMA(21)\",\n",
    "                line = dict(color = '#17BECF'),\n",
    "                opacity = 1)\n",
    "\n",
    "trace_candles = go.Candlestick(x=msft.index,\n",
    "                    open=msft.Open,\n",
    "                    high=msft.High,\n",
    "                    low=msft.Low,\n",
    "                    close=msft.Close,\n",
    "                    name = \"Price\")\n",
    "\n",
    "data = [trace_ma, trace_ema, trace_candles]\n",
    "\n",
    "fig = dict(data=data)\n",
    "py.iplot(fig)"
   ]
  },
  {
   "cell_type": "markdown",
   "metadata": {},
   "source": [
    "# Cruzamento de Médias\n",
    "Calcular as duas médias móveis, de 9 e 21 períodos"
   ]
  },
  {
   "cell_type": "code",
   "execution_count": null,
   "metadata": {},
   "outputs": [],
   "source": [
    "# Get the MSFT timeseries. This now returns a Pandas Series object indexed by date and drop NA rows.\n",
    "msft = close.loc[:, 'MSFT'].dropna()\n",
    "\n",
    "# Calculate the 9 and 21 days moving averages of the closing prices\n",
    "short_rolling_msft = msft.rolling(window=9).mean()\n",
    "long_rolling_msft = msft.rolling(window=21).mean()"
   ]
  },
  {
   "cell_type": "markdown",
   "metadata": {},
   "source": [
    "A função rolling foi utilizada em conjunto com a função mean(). Neste cenário estamos calculando as média dos valores selecionadas na nossa \"janela\" de tempo. Poderiamos utilizar outras funções, como sum() para somá-los ou std() para cálcular o desvio padrão.\n",
    "\n",
    "Para plotagem do gráfico, iremos utilziar o plotly. Começamos por criar os 3 eixos necessários: eixo da média curta, eixo da média longa, eixo do preço."
   ]
  },
  {
   "cell_type": "code",
   "execution_count": null,
   "metadata": {},
   "outputs": [],
   "source": [
    "trace_short = go.Scatter(\n",
    "                x=short_rolling_msft.index,\n",
    "                y=short_rolling_msft,\n",
    "                name = \"MSFT Short\",\n",
    "                line = dict(color = '#17BECF'),\n",
    "                opacity = 1)\n",
    "\n",
    "trace_long = go.Scatter(\n",
    "                x=long_rolling_msft.index,\n",
    "                y=long_rolling_msft,\n",
    "                name = \"MSFT Long\",\n",
    "                line = dict(color = '#7F7F7F'),\n",
    "                opacity = 1)\n",
    "\n",
    "trace_price = go.Scatter(\n",
    "                x=msft.index,\n",
    "                y=msft,\n",
    "                name = \"MSFT Price\",\n",
    "                line = dict(color = '#B22222'),\n",
    "                opacity = 0.8)\n",
    "\n",
    "data = [trace_short, trace_long, trace_price]"
   ]
  },
  {
   "cell_type": "markdown",
   "metadata": {},
   "source": [
    "Então invocamos a função de plotagem"
   ]
  },
  {
   "cell_type": "code",
   "execution_count": null,
   "metadata": {},
   "outputs": [],
   "source": [
    "fig = dict(data=data)\n",
    "py.iplot(fig)"
   ]
  },
  {
   "cell_type": "markdown",
   "metadata": {},
   "source": [
    "# MACD"
   ]
  },
  {
   "cell_type": "code",
   "execution_count": null,
   "metadata": {},
   "outputs": [],
   "source": [
    "from plotly import tools\n",
    "\n",
    "msft = all_data.loc['MSFT'].dropna()\n",
    "msft = msft['2018-06-01':]"
   ]
  },
  {
   "cell_type": "code",
   "execution_count": null,
   "metadata": {},
   "outputs": [],
   "source": [
    "def get_ema(window, prices):\n",
    "    K = ( 2 / (window + 1))\n",
    "    ma = prices.rolling(window=window).mean().dropna()\n",
    "\n",
    "    data = pd.DataFrame(index=ma.index)\n",
    "    data['Price'] = prices\n",
    "    data['EMA'] = np.NaN\n",
    "\n",
    "    data.EMA[0] = ma[1]\n",
    "\n",
    "    for i in range(1, len(data)):\n",
    "        data.EMA[i] = (data.Price[i] * K) + ((1 - K) * data.EMA[i-1]) \n",
    "\n",
    "    return data"
   ]
  },
  {
   "cell_type": "code",
   "execution_count": null,
   "metadata": {},
   "outputs": [],
   "source": [
    "mm_12 = get_ema(12, msft.Close)\n",
    "mm_26 = get_ema(26, msft.Close)\n",
    "\n",
    "mm_macd = mm_12.EMA - mm_26.EMA\n",
    "mm_signal = get_ema(9, mm_macd.dropna()).EMA"
   ]
  },
  {
   "cell_type": "code",
   "execution_count": null,
   "metadata": {},
   "outputs": [],
   "source": [
    "msft = msft[mm_signal.index[0]:]\n",
    "\n",
    "trace_macd = go.Scatter(\n",
    "                    x=mm_macd.index,\n",
    "                    y=mm_macd,\n",
    "                    name = \"MACD\",\n",
    "                    line = dict(color = '#17BECF'),\n",
    "                    opacity = 1)\n",
    "\n",
    "trace_signal = go.Scatter(\n",
    "                    x=mm_signal.index,\n",
    "                    y=mm_signal,\n",
    "                    name = \"Signal\",\n",
    "                    line = dict(color = '#B22222'),\n",
    "                    opacity = 1)\n",
    "\n",
    "trace_candles = go.Candlestick(x=msft.index,\n",
    "                    open=msft.Open,\n",
    "                    high=msft.High,\n",
    "                    low=msft.Low,\n",
    "                    close=msft.Close)\n",
    "\n",
    "fig = tools.make_subplots(rows=2, cols=1)\n",
    "\n",
    "fig.append_trace(trace_candles, 1, 1)\n",
    "fig.append_trace(trace_macd, 2, 1)\n",
    "fig.append_trace(trace_signal, 2, 1)\n",
    "\n",
    "fig['layout']['yaxis2'].update(range=[-3, 5])\n",
    "\n",
    "py.iplot(fig, filename='macd-line')"
   ]
  },
  {
   "cell_type": "markdown",
   "metadata": {},
   "source": [
    "## Histograma MACD"
   ]
  },
  {
   "cell_type": "code",
   "execution_count": null,
   "metadata": {},
   "outputs": [],
   "source": [
    "hist_macd = mm_macd - mm_signal\n",
    "\n",
    "trace_hist_macd = go.Scatter(\n",
    "                    x=hist_macd.index,\n",
    "                    y=hist_macd,\n",
    "                    fill='tozeroy')\n",
    "\n",
    "trace_candles = go.Candlestick(x=msft.index,\n",
    "                    open=msft.Open,\n",
    "                    high=msft.High,\n",
    "                    low=msft.Low,\n",
    "                    close=msft.Close)\n",
    "\n",
    "fig = tools.make_subplots(rows=2, cols=1)\n",
    "\n",
    "fig.append_trace(trace_candles, 1, 1)\n",
    "fig.append_trace(trace_hist_macd, 2, 1)\n",
    "\n",
    "fig['layout']['yaxis2'].update(range=[-2, 2])\n",
    "\n",
    "py.iplot(fig, filename='hist-macd-line')"
   ]
  },
  {
   "cell_type": "markdown",
   "metadata": {},
   "source": [
    "# HiLo Activator"
   ]
  },
  {
   "cell_type": "markdown",
   "metadata": {},
   "source": [
    "Calcular as médias do hilo"
   ]
  },
  {
   "cell_type": "code",
   "execution_count": null,
   "metadata": {},
   "outputs": [],
   "source": [
    "aapl = all_data.loc['AAPL']['2018-01-01':'2018-12-31'].dropna()\n",
    "\n",
    "aapl_high_avg = aapl.High.rolling(window=8).mean()\n",
    "aapl_low_avg = aapl.Low.rolling(window=8).mean()"
   ]
  },
  {
   "cell_type": "markdown",
   "metadata": {},
   "source": [
    "Plotar as médias em conjunto com o candle"
   ]
  },
  {
   "cell_type": "code",
   "execution_count": null,
   "metadata": {},
   "outputs": [],
   "source": [
    "trace_high = go.Scatter(\n",
    "                x=aapl_high_avg.index,\n",
    "                y=aapl_high_avg,\n",
    "                name = \"AAPL High Avg\",\n",
    "                line = dict(color = '#17BECF'),\n",
    "                opacity = 1)\n",
    "\n",
    "trace_low = go.Scatter(\n",
    "                x=aapl_low_avg.index,\n",
    "                y=aapl_low_avg,\n",
    "                name = \"AAPL Low Avg\",\n",
    "                line = dict(color = '#B22222'),\n",
    "                opacity = 1)\n",
    "\n",
    "trace = go.Candlestick(x=aapl.index,\n",
    "                open=aapl.Open,\n",
    "                high=aapl.High,\n",
    "                low=aapl.Low,\n",
    "                close=aapl.Close)\n",
    "data = [trace_high, trace_low, trace]\n",
    "py.iplot(data)"
   ]
  },
  {
   "cell_type": "code",
   "execution_count": null,
   "metadata": {},
   "outputs": [],
   "source": [
    "aapl_high = pd.DataFrame(index=aapl.index)\n",
    "aapl_low = pd.DataFrame(index=aapl.index)"
   ]
  },
  {
   "cell_type": "code",
   "execution_count": null,
   "metadata": {},
   "outputs": [],
   "source": [
    "aapl_high['high'] = np.where(aapl.Close > aapl_high_avg, aapl_low_avg, np.NaN)\n",
    "aapl_low['low'] = np.where(aapl.Close < aapl_low_avg, aapl_high_avg, np.NaN)"
   ]
  },
  {
   "cell_type": "code",
   "execution_count": null,
   "metadata": {},
   "outputs": [],
   "source": [
    "trace_high = go.Scatter(\n",
    "                x=aapl_high.index,\n",
    "                y=aapl_high,\n",
    "                line = dict(color = '#17BECF'),\n",
    "                opacity = 1)\n",
    "\n",
    "trace_low = go.Scatter(\n",
    "                x=aapl_low.index,\n",
    "                y=aapl_low,\n",
    "                line = dict(color = '#B22222'),\n",
    "                opacity = 1)\n",
    "\n",
    "trace = go.Candlestick(x=aapl.index,\n",
    "                open=aapl.Open,\n",
    "                high=aapl.High,\n",
    "                low=aapl.Low,\n",
    "                close=aapl.Close)\n",
    "data = [trace_high, trace_low, trace]\n",
    "py.iplot(data)"
   ]
  },
  {
   "cell_type": "markdown",
   "metadata": {},
   "source": [
    "# Bandas de Bollinger"
   ]
  },
  {
   "cell_type": "code",
   "execution_count": null,
   "metadata": {},
   "outputs": [],
   "source": [
    "window = 20\n",
    "\n",
    "aapl = all_data.loc['AAPL']['2018-01-01':'2018-12-31'].dropna()\n",
    "\n",
    "aapl_avg = aapl.Close.rolling(window=window).mean().dropna()\n",
    "aapl_std = aapl.Close.rolling(window=window).std().dropna()"
   ]
  },
  {
   "cell_type": "code",
   "execution_count": null,
   "metadata": {},
   "outputs": [],
   "source": [
    "aapl_bollinger = pd.DataFrame(index=aapl_avg.index)\n",
    "aapl_bollinger['mband'] = aapl_avg\n",
    "aapl_bollinger['uband'] = aapl_avg + aapl_std.apply(lambda x: (x * 2))\n",
    "aapl_bollinger['lband'] = aapl_avg - aapl_std.apply(lambda x: (x * 2))"
   ]
  },
  {
   "cell_type": "code",
   "execution_count": null,
   "metadata": {},
   "outputs": [],
   "source": [
    "aapl_prices = aapl[aapl_bollinger.index[0]:]\n",
    "\n",
    "prices = go.Candlestick(x=aapl_prices.index,\n",
    "                open=aapl_prices.Open,\n",
    "                high=aapl_prices.High,\n",
    "                low=aapl_prices.Low,\n",
    "                name = \"Prices\",\n",
    "                close=aapl_prices.Close)\n",
    "\n",
    "uband = go.Scatter(\n",
    "                x=aapl_bollinger.index,\n",
    "                y=aapl_bollinger.uband,\n",
    "                name = \"Upper Band\",\n",
    "                line = dict(color = '#17BECF'),\n",
    "                opacity = 1)\n",
    "\n",
    "mband = go.Scatter(\n",
    "                x=aapl_bollinger.index,\n",
    "                y=aapl_bollinger.mband,\n",
    "                name = \"Moving average\",\n",
    "                line = dict(color = '#B22222'),\n",
    "                opacity = 1)\n",
    "\n",
    "lband = go.Scatter(\n",
    "                x=aapl_bollinger.index,\n",
    "                y=aapl_bollinger.lband,\n",
    "                name = \"Lower Band\",\n",
    "                line = dict(color = '#17BECF'),\n",
    "                opacity = 1)\n",
    "data = [prices, uband, lband, mband]\n",
    "py.iplot(data)"
   ]
  },
  {
   "cell_type": "markdown",
   "metadata": {},
   "source": [
    "# IFR"
   ]
  },
  {
   "cell_type": "code",
   "execution_count": null,
   "metadata": {},
   "outputs": [],
   "source": [
    "window = 14\n",
    "\n",
    "aapl = all_data.loc['AAPL'].dropna()\n",
    "aapl = aapl['2018-06-01':'2019-02-22']\n",
    "\n",
    "ifr = pd.DataFrame(index=aapl.index)\n",
    "\n",
    "# get the percentual changes between day[i] and day[i-1]\n",
    "ifr_changes = aapl.Close.diff(1)\n",
    "\n",
    "# get days with positive profit (gain)\n",
    "ifr['gain'] = ifr_changes[ifr_changes > 0]\n",
    "\n",
    "# get days with negative profit (loss)\n",
    "ifr['loss'] = ifr_changes[ifr_changes < 0] * (-1)\n",
    "\n",
    "# gain and loss mean\n",
    "ifr['gainAvg'] = np.NaN\n",
    "ifr['lossAvg'] = np.NaN\n",
    "\n",
    "# get the mean for \"window\" period\n",
    "ifr.gainAvg[window] = ifr.iloc[0:window].gain.mean()\n",
    "ifr.lossAvg[window] = ifr.iloc[0:window].loss.mean()\n",
    "\n",
    "ifr = ifr[window:].fillna(0.0)\n",
    "\n",
    "# apply the formula\n",
    "for i in range(1, len(ifr)):\n",
    "    ifr.gainAvg[i] = (ifr.gainAvg[i-1] * (window -1) + ifr.gain[i]) / window\n",
    "    ifr.lossAvg[i] = (ifr.lossAvg[i-1] * (window -1) + ifr.loss[i]) / window\n",
    "        \n",
    "ifr['value'] = 100 - (100 / (1 + (ifr.gainAvg / ifr.lossAvg )))\n"
   ]
  },
  {
   "cell_type": "code",
   "execution_count": null,
   "metadata": {},
   "outputs": [],
   "source": [
    "trace_ifr = go.Scatter(\n",
    "                    x=ifr.index,\n",
    "                    y=ifr.value,\n",
    "                    xaxis='x2',\n",
    "                    yaxis='y2')\n",
    "\n",
    "trace_candles = go.Candlestick(x=aapl.index,\n",
    "                    open=aapl.Open,\n",
    "                    high=aapl.High,\n",
    "                    low=aapl.Low,\n",
    "                    close=aapl.Close)\n",
    "\n",
    "data = [trace_ifr, trace_candles]\n",
    "\n",
    "layout = go.Layout(\n",
    "    xaxis=dict(\n",
    "        domain=[0, 1],\n",
    "        rangeslider={\"visible\": False},\n",
    "    ),\n",
    "    yaxis=dict(\n",
    "        domain=[0.75, 1],        \n",
    "    ),\n",
    "    xaxis2=dict(\n",
    "        domain=[0, 1],\n",
    "        anchor='y2'\n",
    "    ),\n",
    "    yaxis2=dict(\n",
    "        domain=[0, 0.45],\n",
    "        anchor='x2',\n",
    "        range=[0, 100]\n",
    "        \n",
    "    ),\n",
    "        shapes=[\n",
    "            # Line Horizontal\n",
    "            {\n",
    "                'xref': 'x2',\n",
    "                'yref': 'y2',\n",
    "                'type': 'line',\n",
    "                'x0': aapl.index[0],\n",
    "                'y0': '20',\n",
    "                'x1': aapl.index[-1],\n",
    "                'y1': '20',\n",
    "                'line': {\n",
    "                    'color': 'rgb(50, 171, 96)',\n",
    "                    'width': 2,\n",
    "                    'dash': 'dashdot',\n",
    "                },\n",
    "            },\n",
    "            {\n",
    "                'xref': 'x2',\n",
    "                'yref': 'y2',\n",
    "                'type': 'line',\n",
    "                'x0': aapl.index[0],\n",
    "                'y0': '70',\n",
    "                'x1': aapl.index[-1],\n",
    "                'y1': '70',\n",
    "                'line': {\n",
    "                    'color': 'rgb(50, 171, 96)',\n",
    "                    'width': 2,\n",
    "                    'dash': 'dashdot',\n",
    "                },\n",
    "            }        \n",
    "        ]        \n",
    "    \n",
    ")\n",
    "fig = go.Figure(data=data, layout=layout)\n",
    "\n",
    "py.iplot(fig, filename='ifr-plot')"
   ]
  },
  {
   "cell_type": "markdown",
   "metadata": {},
   "source": [
    "# OBV"
   ]
  },
  {
   "cell_type": "code",
   "execution_count": null,
   "metadata": {},
   "outputs": [],
   "source": [
    "aapl = all_data.loc['AAPL'].dropna()\n",
    "aapl = aapl['2018-06-01':'2019-02-22']\n",
    "\n",
    "obv = pd.DataFrame(index=aapl.index)\n",
    "\n",
    "# get the percentual changes between day[i] and day[i-1]\n",
    "obv_changes = aapl.Close - aapl.Open\n",
    "\n",
    "obv['open'] = aapl.Open\n",
    "obv['close'] = aapl.Close\n",
    "obv['volume'] = np.where(obv_changes > 0, aapl.Volume , aapl.Volume * (-1))\n",
    "\n",
    "# get days with positive profit (gain)\n",
    "obv['volume_sum'] = obv.volume.cumsum()"
   ]
  },
  {
   "cell_type": "code",
   "execution_count": null,
   "metadata": {},
   "outputs": [],
   "source": [
    "trace_obv = go.Scatter(\n",
    "                    x=obv.index,\n",
    "                    y=obv.volume_sum,\n",
    "                    xaxis='x2',\n",
    "                    yaxis='y2')\n",
    "\n",
    "trace_candles = go.Candlestick(x=aapl.index,\n",
    "                    open=aapl.Open,\n",
    "                    high=aapl.High,\n",
    "                    low=aapl.Low,\n",
    "                    close=aapl.Close)\n",
    "\n",
    "data = [trace_obv, trace_candles]\n",
    "\n",
    "layout = go.Layout(\n",
    "    xaxis=dict(\n",
    "        domain=[0, 1],\n",
    "        rangeslider={\"visible\": False},\n",
    "    ),\n",
    "    yaxis=dict(\n",
    "        domain=[0.75, 1],        \n",
    "    ),\n",
    "    xaxis2=dict(\n",
    "        domain=[0, 1],\n",
    "        anchor='y2'\n",
    "        \n",
    "    ),\n",
    "    yaxis2=dict(\n",
    "        domain=[0, 0.45],\n",
    "        anchor='x2'\n",
    "        \n",
    "    )\n",
    ")\n",
    "fig = go.Figure(data=data, layout=layout)\n",
    "\n",
    "py.iplot(fig, filename='obv-plot')"
   ]
  },
  {
   "cell_type": "markdown",
   "metadata": {},
   "source": [
    "# Estratégia média 9"
   ]
  },
  {
   "cell_type": "code",
   "execution_count": null,
   "metadata": {},
   "outputs": [],
   "source": [
    "tickers = ['VALE3.SA']\n",
    "\n",
    "start_date = datetime.datetime(2018, 1, 1)\n",
    "end_date = datetime.datetime(2018, 6, 28)\n",
    "\n",
    "all_data = get(tickers, start_date, end_date)"
   ]
  },
  {
   "cell_type": "code",
   "execution_count": null,
   "metadata": {},
   "outputs": [],
   "source": [
    "\n",
    "vale3 = all_data.loc['VALE3.SA'].dropna()\n",
    "\n",
    "vale3['EMA'] = get_ema(9, vale3.Close).EMA\n",
    "\n",
    "# get the \"slope of EMA9 9\"\n",
    "dif = vale3.EMA - vale3.shift(1).EMA\n",
    "\n",
    "# ema 9 crossed the candle (open/close price) and ema 9 has an ascendent slope  ?\n",
    "vale3['mark_max'] = np.where((vale3.EMA < vale3.High) & (vale3.EMA > vale3.Low) & (dif > 0), vale3.High, 0)\n",
    "\n",
    "# ema 9 crossed the candle (open/close price) and ema 9 has an descendent slope  ?\n",
    "vale3['mark_min'] = np.where((vale3.EMA > vale3.Low) & (vale3.EMA < vale3.High) & (dif < 0), vale3.Low, 0)\n",
    "\n",
    "# get start point\n",
    "vale3['buy_start'] = np.where((vale3.Low < vale3.shift(1).mark_max) & (vale3.High > vale3.shift(1).mark_max), vale3.shift(1).mark_max, np.NaN)\n",
    "vale3['sell_start'] = np.where((vale3.Low < vale3.shift(1).mark_min) & (vale3.High > vale3.shift(1).mark_min), vale3.shift(1).mark_min, np.NaN)\n",
    "\n",
    "# set stop loss\n",
    "vale3['buy_stop'] = np.where((vale3.Low < vale3.shift(1).mark_max) & (vale3.High > vale3.shift(1).mark_max), vale3.shift(1).Low, np.NaN)\n",
    "vale3['sell_stop'] = np.where((vale3.Low < vale3.shift(1).mark_min) & (vale3.High > vale3.shift(1).mark_min), vale3.shift(1).High, np.NaN)\n",
    "\n",
    "display(vale3[[\"buy_start\", \"buy_stop\"]][(vale3.buy_start > 0)])\n",
    "display(vale3[[\"sell_start\", \"sell_stop\"]][(vale3.sell_start > 0)])"
   ]
  },
  {
   "cell_type": "markdown",
   "metadata": {},
   "source": [
    "## Média 9 com duas médias"
   ]
  },
  {
   "cell_type": "code",
   "execution_count": null,
   "metadata": {},
   "outputs": [],
   "source": [
    "tickers = ['VALE3.SA']\n",
    "\n",
    "start_date = datetime.datetime(2018, 1, 1)\n",
    "end_date = datetime.datetime(2018, 6, 28)\n",
    "\n",
    "all_data = get(tickers, start_date, end_date)"
   ]
  },
  {
   "cell_type": "code",
   "execution_count": null,
   "metadata": {},
   "outputs": [],
   "source": [
    "vale3 = all_data.loc['VALE3.SA'].dropna()\n",
    "\n",
    "vale3['EMA9'] = get_ema(9, vale3.Close).EMA\n",
    "vale3['EMA1'] = get_ema(1, vale3.Close).EMA\n",
    "\n",
    "\n",
    "buy_cross = (vale3.shift(1).EMA1 < vale3.shift(1).EMA9) & (vale3.EMA1 > vale3.shift(1).EMA9)\n",
    "sell_cross = (vale3.shift(1).EMA1 > vale3.shift(1).EMA9) & (vale3.EMA1 < vale3.shift(1).EMA9)\n",
    "\n",
    "# ema 9 crossed the candle (open/close price) and ema 9 has an ascendent slope  ?\n",
    "vale3['mark_max'] = np.where((vale3.EMA9 < vale3.High) & (vale3.EMA9 > vale3.Low) & (buy_cross == True), vale3.High, 0)\n",
    "\n",
    "# ema 9 crossed the candle (open/close price) and ema 9 has an descendent slope  ?\n",
    "vale3['mark_min'] = np.where((vale3.EMA9 > vale3.Low) & (vale3.EMA9 < vale3.High) & (sell_cross == True), vale3.Low, 0)\n",
    "\n",
    "# get start point\n",
    "vale3['buy_start'] = np.where((vale3.Low < vale3.shift(1).mark_max) & (vale3.High > vale3.shift(1).mark_max), vale3.shift(1).mark_max, np.NaN)\n",
    "vale3['sell_start'] = np.where((vale3.Low < vale3.shift(1).mark_min) & (vale3.High > vale3.shift(1).mark_min), vale3.shift(1).mark_min, np.NaN)\n",
    "\n",
    "# set stop loss\n",
    "vale3['buy_stop'] = np.where((vale3.Low < vale3.shift(1).mark_max) & (vale3.High > vale3.shift(1).mark_max), vale3.shift(1).Low, np.NaN)\n",
    "vale3['sell_stop'] = np.where((vale3.Low < vale3.shift(1).mark_min) & (vale3.High > vale3.shift(1).mark_min), vale3.shift(1).High, np.NaN)\n",
    "\n",
    "display(vale3[[\"buy_start\", \"buy_stop\"]][(vale3.buy_start > 0)])\n",
    "display(vale3[[\"sell_start\", \"sell_stop\"]][(vale3.sell_start > 0)])"
   ]
  },
  {
   "cell_type": "code",
   "execution_count": null,
   "metadata": {},
   "outputs": [],
   "source": [
    "trace_short = go.Scatter(\n",
    "                x=vale3.index,\n",
    "                y=vale3.EMA1,\n",
    "                name = \"EMA(1)\",\n",
    "                line = dict(color = '#FF00CF'),\n",
    "                opacity = 1)\n",
    "\n",
    "trace_long = go.Scatter(\n",
    "                x=vale3.index,\n",
    "                y=vale3.EMA9,\n",
    "                name = \"EMA(9)\",\n",
    "                line = dict(color = '#17BECF'),\n",
    "                opacity = 1)\n",
    "\n",
    "trace_candles = go.Candlestick(x=vale3.index,\n",
    "                    open=vale3.Open,\n",
    "                    high=vale3.High,\n",
    "                    low=vale3.Low,\n",
    "                    close=vale3.Close)\n",
    "\n",
    "data = [trace_short, trace_long, trace_candles]\n",
    "\n",
    "fig = go.Figure(data=data)\n",
    "\n",
    "py.iplot(fig, filename='cross-mm9-plot')"
   ]
  },
  {
   "cell_type": "markdown",
   "metadata": {},
   "source": [
    "# ADX"
   ]
  },
  {
   "cell_type": "code",
   "execution_count": null,
   "metadata": {},
   "outputs": [],
   "source": [
    "tickers = ['VALE3.SA']\n",
    "\n",
    "start_date = datetime.datetime(2018, 1, 1)\n",
    "end_date = datetime.datetime(2018, 12, 31)\n",
    "\n",
    "data = get(tickers, start_date, end_date).loc['VALE3.SA'].dropna()\n",
    "\n",
    "\n",
    "data_ant = data.shift(1)\n",
    "\n",
    "# intermediate dataset, whose purpose is to find out the TR value\n",
    "tr = pd.DataFrame([\n",
    "        data.High - data.Low, \n",
    "        np.absolute(data.High - data_ant.Close), \n",
    "        np.absolute(data.Low - data_ant.Close)])\n",
    "\n",
    "# to facilitate our calculation, we have to transpose the matrix, \n",
    "tr = tr.transpose()\n",
    "\n",
    "# get the max value of each row\n",
    "tr= tr.max(axis=1)\n",
    "\n",
    "# assign TR to our dataset\n",
    "data['tr'] = tr\n",
    "\n",
    "\n",
    "# get +DM\n",
    "dm_plus = np.where((data.High - data_ant.High) > (data_ant.Low - data.Low), \n",
    "                     (data.High - data_ant.High).apply(\n",
    "                             lambda x: np.max([x, 0])),\n",
    "                     0)\n",
    "\n",
    "# get -DM\n",
    "dm_minus = np.where((data_ant.Low - data.Low) > (data.High - data_ant.High), \n",
    "                     (data_ant.Low - data.Low).apply(\n",
    "                             lambda x: np.max([x, 0])),\n",
    "                     0)\n",
    "\n",
    "# assign DM's to our dataset\n",
    "data['dmPlus'] = dm_plus\n",
    "data['dmMinus'] = dm_minus\n",
    "\n",
    "# remove first line, becouse we won't use it\n",
    "data = data[1:]\n",
    "\n",
    "data.head()"
   ]
  },
  {
   "cell_type": "code",
   "execution_count": null,
   "metadata": {},
   "outputs": [],
   "source": [
    "window = 14\n",
    "\n",
    "data['trAvg'] = np.NaN\n",
    "data['dmPlusAvg'] = np.NaN\n",
    "data['dmMinusAvg'] = np.NaN\n",
    "\n",
    "# sum of 14 periodos for calcaulation of the tr, dmPlus and dmMinus\n",
    "data.trAvg[window-1] = np.sum(data.iloc[0:window].tr)\n",
    "data.dmPlusAvg[window-1] = np.sum(data.iloc[0:window].dmPlus)\n",
    "data.dmMinusAvg[window-1] = np.sum(data.iloc[0:window].dmMinus)\n",
    "\n",
    "# get data from 14th row until end of the dataset\n",
    "for i in range(window, len(data)):\n",
    "    data.trAvg[i] = data.trAvg[i-1] - (data.trAvg[i-1] / window) + data.tr[i]\n",
    "    data.dmPlusAvg[i] = data.dmPlusAvg[i-1] - (data.dmPlusAvg[i-1] / window) + data.dmPlus[i]\n",
    "    data.dmMinusAvg[i] = data.dmMinusAvg[i-1] - (data.dmMinusAvg[i-1] / window) + data.dmMinus[i]\n",
    "    \n",
    "data = data.dropna()\n",
    "data.head()    "
   ]
  },
  {
   "cell_type": "code",
   "execution_count": null,
   "metadata": {},
   "outputs": [],
   "source": [
    "# get DI's values\n",
    "data['diPlus'] = (data.dmPlusAvg / data.trAvg) * 100\n",
    "data['diMinus'] = (data.dmMinusAvg / data.trAvg) * 100\n",
    "\n",
    "data.head()"
   ]
  },
  {
   "cell_type": "code",
   "execution_count": null,
   "metadata": {},
   "outputs": [],
   "source": [
    "# get DX value\n",
    "data['DX'] = (np.absolute(data.diPlus - data.diMinus) / (data.diPlus + data.diMinus)) * 100\n",
    "data.head()"
   ]
  },
  {
   "cell_type": "code",
   "execution_count": null,
   "metadata": {},
   "outputs": [],
   "source": [
    "data['ADX'] = np.NaN\n",
    "\n",
    "# average of 14 periods \n",
    "data.ADX[window-1] = data.DX[0:window].mean()\n",
    "\n",
    "# get data from 14th row until end of the dataset\n",
    "for i in range(window, len(data)):\n",
    "    data.ADX[i] = (data.ADX[i-1] * (window - 1) + data.DX[i]) / window\n",
    "    \n",
    "data = data.dropna()\n",
    "data.head()"
   ]
  },
  {
   "cell_type": "code",
   "execution_count": null,
   "metadata": {},
   "outputs": [],
   "source": [
    "trace_candles = go.Candlestick(x=data.index,\n",
    "                    name=\"VALE3.SA\",\n",
    "                    open=data.Open,\n",
    "                    high=data.High,\n",
    "                    low=data.Low,\n",
    "                    close=data.Close)\n",
    "\n",
    "trace_di_minus = go.Scatter(\n",
    "                    x=data.index,\n",
    "                    y=data.diMinus,\n",
    "                    name = \"-DI\",\n",
    "                    line = dict(color = '#B22222'),\n",
    "                    opacity = 1)\n",
    "\n",
    "trace_di_plus = go.Scatter(\n",
    "                    x=data.index,\n",
    "                    y=data.diPlus,\n",
    "                    name = \"+DI\",\n",
    "                    line = dict(color = '#17BECF'),\n",
    "                    opacity = 1)\n",
    "\n",
    "trace_adx = go.Scatter(\n",
    "                    x=data.index,\n",
    "                    y=data.ADX,\n",
    "                    name = \"ADX\",\n",
    "                    line = dict(color = '#9932CC'),\n",
    "                    opacity = 1)\n",
    "\n",
    "fig = dict(data=[trace_di_minus, trace_di_plus, trace_adx])\n",
    "\n",
    "py.iplot(fig, filename='adx-line')"
   ]
  },
  {
   "cell_type": "code",
   "execution_count": null,
   "metadata": {},
   "outputs": [],
   "source": [
    "fig = tools.make_subplots(rows=2, cols=1)\n",
    "\n",
    "fig.append_trace(trace_candles, 1, 1)\n",
    "fig.append_trace(trace_di_minus, 2, 1)\n",
    "fig.append_trace(trace_di_plus, 2, 1)\n",
    "fig.append_trace(trace_adx, 2, 1)\n",
    "\n",
    "fig['layout']['yaxis2'].update(range=[0, 100])\n",
    "\n",
    "py.iplot(fig, filename='adx-line')"
   ]
  },
  {
   "cell_type": "markdown",
   "metadata": {},
   "source": [
    "# Backtest"
   ]
  },
  {
   "cell_type": "code",
   "execution_count": null,
   "metadata": {},
   "outputs": [],
   "source": [
    "from enum import Enum\n",
    "\n",
    "class TradeType(Enum):\n",
    "    NONE = 0\n",
    "    LONG = 1\n",
    "    SHORT  = -1\n",
    "\n",
    "class BackTest:\n",
    "    def __init__(self, stock, signals, **kwargs):\n",
    "        self._position = 0\n",
    "        self._position_opened = False\n",
    "        self._amount = 0\n",
    "        self._stock = stock\n",
    "        self.trades = []\n",
    "        self._signals = signals\n",
    "        self._status = None\n",
    "        self._std_qty_shares = 100\n",
    "        self._reverse = True\n",
    "        \n",
    "        self._show_logs = (\"log\" in kwargs) and (kwargs[\"log\"])\n",
    "        \n",
    "        self.win_trades = 0\n",
    "        self.loss_trades = 0\n",
    "        \n",
    "        \n",
    "    def _get_win_trades(self, x):\n",
    "        return x >= 0 \n",
    "    \n",
    "    def _get_loss_trades(self, x):\n",
    "        return x < 0\n",
    "    \n",
    "    def _trade(self, position, index):\n",
    "        \"\"\"        \n",
    "        execute a trade\n",
    "        :position : LONG or SHORT\n",
    "        :index : index of stock list        \n",
    "        \"\"\"\n",
    "        \n",
    "        # if has a opened trading, then it will close the position\n",
    "        if self._position_opened:   \n",
    "            # set the operating profit\n",
    "            profit = ((self._std_qty_shares * self._stock.Close[index]) - self._amount)  * (self._position * -1) \n",
    "            \n",
    "            # add proft to trade list\n",
    "            self.trades.append(profit)            \n",
    "            \n",
    "            # close position\n",
    "            self._position_opened = False            \n",
    "            \n",
    "            # log            \n",
    "            if self._show_logs:\n",
    "                print(f'Opened[{self._amount}] -> Closed[{self._std_qty_shares * self._stock.Close[index]}] {position.name}')                             \n",
    "        else:\n",
    "            # If it hasn't an opened position, open it.\n",
    "            self._position_opened = True\n",
    "            self._amount = self._std_qty_shares * self._stock.Close[index]\n",
    "    \n",
    "    def start(self): \n",
    "        \"\"\"\n",
    "            execute the backtest\n",
    "        \"\"\"\n",
    "        for index, item in self._stock.iterrows():\n",
    "            \n",
    "            # for long signal (buy)\n",
    "            if TradeType(self._signals.signal[index]) == TradeType.LONG:\n",
    "                # Was last signal long signal? go to next iteration\n",
    "                if TradeType(self._position) == TradeType.LONG: continue\n",
    "\n",
    "                self._position = self._signals.signal[index]                      \n",
    "                #if it has a opened short position, then sell\n",
    "                if self._position_opened:\n",
    "                    self._trade(TradeType.SHORT, index)\n",
    "                    # because I'm want to revert my position\n",
    "                    if self._reverse:\n",
    "                        self._trade(TradeType.LONG, index)\n",
    "                else:\n",
    "                    # ok, I need to open a position\n",
    "                    self._trade(TradeType.LONG, index)\n",
    "\n",
    "            # for short signal (sell)\n",
    "            if TradeType(self._signals.signal[index]) == TradeType.SHORT:\n",
    "                if TradeType(self._position) == TradeType.SHORT: continue\n",
    "\n",
    "                self._position = self._signals.signal[index]       \n",
    "\n",
    "                if self._position_opened:\n",
    "                    self._trade(TradeType.LONG, index)\n",
    "                    if self._reverse:\n",
    "                        self._trade(TradeType.SHORT, index)\n",
    "                else:\n",
    "                    self._trade(TradeType.SHORT, index)\n",
    "\n",
    "        self.win_trades = len(list(filter(self._get_win_trades, self.trades)))\n",
    "        self.loss_trades = len(list(filter(self._get_loss_trades, self.trades)))"
   ]
  },
  {
   "cell_type": "code",
   "execution_count": null,
   "metadata": {},
   "outputs": [],
   "source": [
    "signal_start_date = '2018-01-01'\n",
    "signal_end_date = '2018-12-31'\n",
    "aapl = all_data.loc['AAPL'][signal_start_date:signal_end_date].dropna()\n",
    "\n",
    "def build_hilo_signal_list(window=5):\n",
    "    aapl_high_avg = aapl.High.rolling(window=window).mean()\n",
    "    aapl_low_avg = aapl.Low.rolling(window=window).mean()\n",
    "\n",
    "    aapl_hilo = pd.DataFrame(index=aapl.index)\n",
    "    aapl_hilo['high'] = np.where(aapl.Close > aapl_high_avg, 1, 0)\n",
    "    aapl_hilo['low'] = np.where(aapl.Close < aapl_low_avg, 1, 0)\n",
    "    aapl_hilo['signal'] = (aapl_hilo.high - aapl_hilo.low)\n",
    "    \n",
    "    return aapl_hilo"
   ]
  },
  {
   "cell_type": "code",
   "execution_count": null,
   "metadata": {},
   "outputs": [],
   "source": [
    "signals = build_hilo_signal_list(window=8)\n",
    "bb = BackTest(aapl, signals, log=True)        \n",
    "bb.start()\n",
    "display(sum(bb.trades))"
   ]
  },
  {
   "cell_type": "code",
   "execution_count": null,
   "metadata": {},
   "outputs": [],
   "source": [
    "best_profit = None\n",
    "print(f'BACKTEST HILO - Start Date: {signal_start_date} / End Date: {signal_end_date}')\n",
    "print('-' * 100)\n",
    "\n",
    "for window in range(2, 22):\n",
    "    signals = build_hilo_signal_list(window=window)\n",
    "    bb = BackTest(aapl, signals, log=False)        \n",
    "    bb.start()\n",
    "    \n",
    "    profit = sum(bb.trades)\n",
    "    \n",
    "    if (best_profit is None) or (best_profit[1] < profit):\n",
    "        best_profit = (window, profit)\n",
    "    \n",
    "    print(f'Profit for window={window}: {profit}')\n",
    "    \n",
    "print('-' * 100)    \n",
    "print(f'Best Profit: window={best_profit[0]}: {best_profit[1]}')    "
   ]
  },
  {
   "cell_type": "code",
   "execution_count": null,
   "metadata": {},
   "outputs": [],
   "source": [
    "signal_start_date = '2018-01-01'\n",
    "signal_end_date = '2018-12-31'\n",
    "aapl = all_data.loc['AAPL'][signal_start_date:signal_end_date].dropna()\n",
    "\n",
    "def build_cross_avg_signal_list(short_window=5, long_window=9):\n",
    "    aapl_short_avg = aapl.Close.rolling(window=short_window).mean()\n",
    "    aapl_long_avg = aapl.Close.rolling(window=long_window).mean()\n",
    "\n",
    "    aapl_cross_avg = pd.DataFrame(index=aapl.index)\n",
    "    aapl_cross_avg['signal'] = np.where(aapl_short_avg > aapl_long_avg, 1, -1)\n",
    "    \n",
    "    return aapl_cross_avg"
   ]
  },
  {
   "cell_type": "code",
   "execution_count": null,
   "metadata": {},
   "outputs": [],
   "source": [
    "signals = build_cross_avg_signal_list(short_window=5, long_window=9)\n",
    "bb = BackTest(aapl, signals, log=False)        \n",
    "bb.start()\n",
    "    \n",
    "print(sum(bb.trades))\n",
    "display(bb.win_trades)\n",
    "display(bb.loss_trades)"
   ]
  },
  {
   "cell_type": "code",
   "execution_count": null,
   "metadata": {},
   "outputs": [],
   "source": [
    "best_profit = None\n",
    "print(f'BACKTEST CROSS AVG - Start Date: {signal_start_date} / End Date: {signal_end_date}')\n",
    "print('-' * 100)\n",
    "\n",
    "for short_window in range(2, 22):\n",
    "    for long_window in range(2, 22):\n",
    "        signals = build_cross_avg_signal_list(short_window=short_window, long_window=long_window)\n",
    "        bb = BackTest(aapl, signals, log=False)        \n",
    "        bb.start()\n",
    "\n",
    "        profit = sum(bb.trades)\n",
    "\n",
    "        if (best_profit is None) or (best_profit[1] < profit):\n",
    "            best_profit = ((short_window,long_window), profit)\n",
    "\n",
    "        print(f'Profit for window={short_window}/{long_window}: {profit}')\n",
    "    \n",
    "print('-' * 100)    \n",
    "print(f'Best Profit: window={best_profit[0]}: {best_profit[1]}')    "
   ]
  },
  {
   "cell_type": "code",
   "execution_count": null,
   "metadata": {},
   "outputs": [],
   "source": [
    "buy = float(100 * aapl.head(1).Close)\n",
    "sell = float(100 * aapl.tail(1).Close)\n",
    "\n",
    "print(f'BACKTEST BUY AND HOLD - Start Date: {signal_start_date} / End Date: {signal_end_date}')\n",
    "print('-' * 100)\n",
    "\n",
    "print(f'Profit: {buy - sell}')"
   ]
  },
  {
   "cell_type": "markdown",
   "metadata": {},
   "source": [
    "# Script para apagar os gráficos gerados no plotly"
   ]
  },
  {
   "cell_type": "code",
   "execution_count": null,
   "metadata": {},
   "outputs": [],
   "source": [
    "import json\n",
    "import requests\n",
    "from requests.auth import HTTPBasicAuth\n",
    "\n",
    "username = plotly_username\n",
    "api_key = plotly_key\n",
    "headers = {'Plotly-Client-Platform': 'python'}\n",
    "\n",
    "auth = HTTPBasicAuth(username, api_key)\n",
    "\n",
    "def get_pages(username, page_size):\n",
    "    url = 'https://api.plot.ly/v2/folders/all?user='+username+'&page_size='+str(page_size)\n",
    "    response = requests.get(url, auth=auth, headers=headers)\n",
    "    if response.status_code != 200:\n",
    "        return\n",
    "    page = json.loads(response.content)\n",
    "    yield page\n",
    "    while True:\n",
    "        resource = page['children']['next'] \n",
    "        if not resource:\n",
    "            break\n",
    "        response = requests.get(resource, auth=auth, headers=headers)\n",
    "        if response.status_code != 200:\n",
    "            break\n",
    "        page = json.loads(response.content)\n",
    "        yield page\n",
    "        \n",
    "def permanently_delete_files(username, page_size=500, filetype_to_delete='plot'):\n",
    "    for page in get_pages(username, page_size):\n",
    "        for x in range(0, len(page['children']['results'])):\n",
    "            fid = page['children']['results'][x]['fid']\n",
    "            res = requests.get('https://api.plot.ly/v2/files/' + fid, auth=auth, headers=headers)\n",
    "            res.raise_for_status()\n",
    "            if res.status_code == 200:\n",
    "                json_res = json.loads(res.content)\n",
    "                if json_res['filetype'] == filetype_to_delete:\n",
    "                    # move to trash\n",
    "                    requests.post('https://api.plot.ly/v2/files/'+fid+'/trash', auth=auth, headers=headers)\n",
    "                    # permanently delete\n",
    "                    requests.delete('https://api.plot.ly/v2/files/'+fid+'/permanent_delete', auth=auth, headers=headers)\n",
    "\n",
    "\n",
    "permanently_delete_files(username, filetype_to_delete='plot')\n",
    "permanently_delete_files(username, filetype_to_delete='grid')"
   ]
  },
  {
   "cell_type": "code",
   "execution_count": null,
   "metadata": {},
   "outputs": [],
   "source": [
    "aapl = all_data.loc['AAPL']['2018-01-01':'2018-12-31'].dropna()"
   ]
  },
  {
   "cell_type": "code",
   "execution_count": null,
   "metadata": {},
   "outputs": [],
   "source": []
  }
 ],
 "metadata": {
  "kernelspec": {
   "display_name": "Python 3",
   "language": "python",
   "name": "python3"
  },
  "language_info": {
   "codemirror_mode": {
    "name": "ipython",
    "version": 3
   },
   "file_extension": ".py",
   "mimetype": "text/x-python",
   "name": "python",
   "nbconvert_exporter": "python",
   "pygments_lexer": "ipython3",
   "version": "3.6.6"
  }
 },
 "nbformat": 4,
 "nbformat_minor": 2
}
