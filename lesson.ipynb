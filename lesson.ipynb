{
 "cells": [
  {
   "cell_type": "markdown",
   "metadata": {},
   "source": [
    "# Python aplicado: Bolsa de valores"
   ]
  },
  {
   "cell_type": "markdown",
   "metadata": {},
   "source": [
    "# Funcionamento do mercado de ações\n",
    "\n",
    "O produto conhecido como ação é nada mais que a fração de uma empresa, ou seja, quando você adquire uma ação você está de certa forma tornando-se sócio da empresa, podendo ganhar dinheiro com a valorização e o lucro dela. \n",
    "De forma geral, as ações são negociadas na chamada bolsa de valores, e cada páis tem a sua própria bolsa, podendo inclusive, ter mais de uma. No Brasil a bolsa de valores está sediada em São Paulo e é chamada de B3.\n",
    "Para negociar cada ação geralmente usa-se o que é chamado de corretora, sendo através dela que uma ordem de compra ou de venda é enviada para a bolsa de valores. \n",
    "Conforme as ordens de compras e vendas são executadas ao longo dos dias, semanas e meses, um histórico de negociação vai sendo formado. É com base nesse histórico que é possível avaliar o desempenho de uma ação ou papel. A obtenção deste histórico pode ser feita de várias formas, incluíndo obtenção de dados em tempo real. Para fins de estudos, iremos trabalhar com uma base de dados históricos e não em tempo real."
   ]
  },
  {
   "cell_type": "markdown",
   "metadata": {},
   "source": [
    "# Instalação do ambiente de desenvolvimento\n",
    "\n",
    "Neste curso iremos trabalhar com 3 bibliotecas principais:\n",
    "<br>\n",
    "- pandas: biblioteca para de manipulação de estrutura de dados \n",
    "- pandas-datareader: responsável por buscar nossos dados históricos e converte-los em um formato que podemos trabalhar com pandas\n",
    "- plotly: biblioteca para plotagem dos dados. Nencessário gerar um chave no site https://plot.ly/python/\n",
    "\n",
    "### Criando um ambiente virtual\n",
    "\n",
    "Primeira vamos criar um ambiente virtual, com o venv, nativo do python3:\n",
    "\n",
    "python -m venv python-finance\n",
    "\n",
    "cd python-finance\n",
    "\n",
    "Scripts\\activate\n",
    "\n",
    "mkdir lessons\n",
    "\n",
    "cd lessons"
   ]
  },
  {
   "cell_type": "markdown",
   "metadata": {},
   "source": [
    "# Treino"
   ]
  },
  {
   "cell_type": "code",
   "execution_count": null,
   "metadata": {},
   "outputs": [],
   "source": [
    "import pandas_datareader as pdr\n",
    "import datetime \n",
    "\n",
    "vale3 = pdr.get_data_yahoo('VALE3.SA', \n",
    "                          start=datetime.datetime(2016, 10, 1), \n",
    "                          end=datetime.datetime(2019, 1, 1))\n",
    "\n",
    "# analyszng the dataset \n",
    "\n",
    "# get first 5 rows\n",
    "display(vale3.head())\n",
    "\n",
    "# get last 5 rows\n",
    "display(vale3.tail())\n",
    "\n",
    "# get statistcs of dataset \n",
    "display(vale3.describe())"
   ]
  },
  {
   "cell_type": "code",
   "execution_count": null,
   "metadata": {},
   "outputs": [],
   "source": [
    "# Inspect the index \n",
    "print(vale3.index)\n",
    "\n",
    "# Inspect the columns\n",
    "print(vale3.columns)"
   ]
  },
  {
   "cell_type": "code",
   "execution_count": null,
   "metadata": {},
   "outputs": [],
   "source": [
    "vale3['2018-01-01':].head(10)"
   ]
  },
  {
   "cell_type": "code",
   "execution_count": null,
   "metadata": {},
   "outputs": [],
   "source": [
    "pct_c = (vale3.Close / vale3.Open).apply(lambda x: x - 1) * 100\n",
    "display(pct_c.head(10))"
   ]
  },
  {
   "cell_type": "code",
   "execution_count": null,
   "metadata": {},
   "outputs": [],
   "source": [
    "import numpy as np\n",
    "\n",
    "# Assign `Adj Close` to `daily_close`\n",
    "daily_close = vale3.Close\n",
    "\n",
    "# Daily returns\n",
    "daily_pct_change = daily_close.pct_change()\n",
    "\n",
    "# Replace NA values with 0\n",
    "daily_pct_change.fillna(0, inplace=True)\n",
    "\n",
    "# Inspect daily returns\n",
    "display(daily_pct_change.head(10))\n",
    "\n",
    "# Daily log returns\n",
    "daily_log_returns = np.log(daily_close.pct_change()+1)\n",
    "\n",
    "# Print daily log returns\n",
    "display(daily_log_returns.head(10))"
   ]
  },
  {
   "cell_type": "code",
   "execution_count": null,
   "metadata": {},
   "outputs": [],
   "source": [
    "# Daily log returns\n",
    "daily_log_returns = np.log(vale3.Close.pct_change()+1)"
   ]
  },
  {
   "cell_type": "code",
   "execution_count": null,
   "metadata": {},
   "outputs": [],
   "source": [
    "import plotly.plotly as py\n",
    "import plotly.figure_factory as ff\n",
    "import numpy as np\n",
    "\n",
    "plotly_username = \"\"\n",
    "plotly_key = \"\"\n",
    "\n",
    "# auth to plotly \n",
    "py.sign_in(plotly_username, plotly_key)"
   ]
  },
  {
   "cell_type": "code",
   "execution_count": null,
   "metadata": {},
   "outputs": [],
   "source": [
    "\n",
    "data = [go.Histogram(x=daily_log_returns)]\n",
    "py.iplot(data, filename='basic histogram')"
   ]
  },
  {
   "cell_type": "markdown",
   "metadata": {},
   "source": [
    "# Obtendo os dados\n",
    "\n",
    "Nossos dados serão obtidos atravás da biblioteca pandas-datareader. Vamos testar com 3 ativos (ações):"
   ]
  },
  {
   "cell_type": "code",
<<<<<<< HEAD
   "execution_count": null,
=======
   "execution_count": 3,
>>>>>>> fcc47fd0cf449ba27e57979c91745ab0d7acf858
   "metadata": {},
   "outputs": [],
   "source": [
    "import pandas as pd\n",
    "import numpy as np\n",
    "import plotly.plotly as py\n",
    "import datetime\n",
    "import pandas_datareader as pdr\n",
    "import plotly.graph_objs as go"
   ]
  },
  {
   "cell_type": "markdown",
   "metadata": {},
   "source": [
    "Autenticando no serviço do plotly"
   ]
  },
  {
   "cell_type": "code",
<<<<<<< HEAD
   "execution_count": null,
=======
   "execution_count": 2,
>>>>>>> fcc47fd0cf449ba27e57979c91745ab0d7acf858
   "metadata": {},
   "outputs": [],
   "source": [
    "plotly_username = \"\"\n",
    "plotly_key = \"\"\n",
    "\n",
    "# auth to plotly \n",
<<<<<<< HEAD
    "py.sign_in(plotly_username, plotly_key)"
=======
    "py.sign_in('user','apikey')"
>>>>>>> fcc47fd0cf449ba27e57979c91745ab0d7acf858
   ]
  },
  {
   "cell_type": "markdown",
   "metadata": {},
   "source": [
    "Funções para retornar os dados"
   ]
  },
  {
   "cell_type": "code",
   "execution_count": null,
   "metadata": {},
   "outputs": [],
   "source": [
    "# we download the stock prices for each ticker and then we do a mapping between data and name of the ticker\n",
    "def get(tickers, startdate, enddate):\n",
    "  def data(ticker):\n",
    "    return (pdr.get_data_yahoo(ticker, start=startdate, end=enddate))\n",
    "  datas = map (data, tickers)\n",
    "  return(pd.concat(datas, keys=tickers, names=['Ticker', 'Date']))\n"
   ]
  },
  {
   "cell_type": "markdown",
   "metadata": {},
   "source": [
    "Download dos dados"
   ]
  },
  {
   "cell_type": "code",
   "execution_count": null,
   "metadata": {},
   "outputs": [],
   "source": [
    "# Define the stocks to download. We'll download of Apple, Microsoft and the S&P500 index.\n",
    "tickers = ['AAPL', 'MSFT', '^GSPC']\n",
    "\n",
    "# We would like all available data from 01/01/2000 until 31/12/2018.\n",
    "start_date = datetime.datetime(2016, 1, 1)\n",
    "end_date = datetime.datetime(2019, 12, 31)\n",
    "\n",
    "all_data = get(tickers, start_date, end_date)"
   ]
  },
  {
   "cell_type": "code",
   "execution_count": null,
   "metadata": {},
   "outputs": [],
   "source": [
    "all_data.head(10)"
   ]
  },
  {
   "cell_type": "code",
<<<<<<< HEAD
   "execution_count": null,
   "metadata": {},
   "outputs": [],
=======
   "execution_count": 6,
   "metadata": {},
   "outputs": [
    {
     "data": {
      "text/html": [
       "<div>\n",
       "<style scoped>\n",
       "    .dataframe tbody tr th:only-of-type {\n",
       "        vertical-align: middle;\n",
       "    }\n",
       "\n",
       "    .dataframe tbody tr th {\n",
       "        vertical-align: top;\n",
       "    }\n",
       "\n",
       "    .dataframe thead th {\n",
       "        text-align: right;\n",
       "    }\n",
       "</style>\n",
       "<table border=\"1\" class=\"dataframe\">\n",
       "  <thead>\n",
       "    <tr style=\"text-align: right;\">\n",
       "      <th></th>\n",
       "      <th></th>\n",
       "      <th>High</th>\n",
       "      <th>Low</th>\n",
       "      <th>Open</th>\n",
       "      <th>Close</th>\n",
       "      <th>Volume</th>\n",
       "      <th>Adj Close</th>\n",
       "    </tr>\n",
       "    <tr>\n",
       "      <th>Ticker</th>\n",
       "      <th>Date</th>\n",
       "      <th></th>\n",
       "      <th></th>\n",
       "      <th></th>\n",
       "      <th></th>\n",
       "      <th></th>\n",
       "      <th></th>\n",
       "    </tr>\n",
       "  </thead>\n",
       "  <tbody>\n",
       "    <tr>\n",
       "      <th rowspan=\"10\" valign=\"top\">^GSPC</th>\n",
       "      <th>2018-12-17</th>\n",
       "      <td>2601.129883</td>\n",
       "      <td>2530.540039</td>\n",
       "      <td>2590.750000</td>\n",
       "      <td>2545.939941</td>\n",
       "      <td>4.616350e+09</td>\n",
       "      <td>2545.939941</td>\n",
       "    </tr>\n",
       "    <tr>\n",
       "      <th>2018-12-18</th>\n",
       "      <td>2573.989990</td>\n",
       "      <td>2528.709961</td>\n",
       "      <td>2559.899902</td>\n",
       "      <td>2546.159912</td>\n",
       "      <td>4.470880e+09</td>\n",
       "      <td>2546.159912</td>\n",
       "    </tr>\n",
       "    <tr>\n",
       "      <th>2018-12-19</th>\n",
       "      <td>2585.290039</td>\n",
       "      <td>2488.959961</td>\n",
       "      <td>2547.050049</td>\n",
       "      <td>2506.959961</td>\n",
       "      <td>5.127940e+09</td>\n",
       "      <td>2506.959961</td>\n",
       "    </tr>\n",
       "    <tr>\n",
       "      <th>2018-12-20</th>\n",
       "      <td>2509.629883</td>\n",
       "      <td>2441.179932</td>\n",
       "      <td>2496.770020</td>\n",
       "      <td>2467.419922</td>\n",
       "      <td>5.585780e+09</td>\n",
       "      <td>2467.419922</td>\n",
       "    </tr>\n",
       "    <tr>\n",
       "      <th>2018-12-21</th>\n",
       "      <td>2504.409912</td>\n",
       "      <td>2408.550049</td>\n",
       "      <td>2465.379883</td>\n",
       "      <td>2416.620117</td>\n",
       "      <td>7.609010e+09</td>\n",
       "      <td>2416.620117</td>\n",
       "    </tr>\n",
       "    <tr>\n",
       "      <th>2018-12-24</th>\n",
       "      <td>2410.340088</td>\n",
       "      <td>2351.100098</td>\n",
       "      <td>2400.560059</td>\n",
       "      <td>2351.100098</td>\n",
       "      <td>2.613930e+09</td>\n",
       "      <td>2351.100098</td>\n",
       "    </tr>\n",
       "    <tr>\n",
       "      <th>2018-12-26</th>\n",
       "      <td>2467.760010</td>\n",
       "      <td>2346.580078</td>\n",
       "      <td>2363.120117</td>\n",
       "      <td>2467.699951</td>\n",
       "      <td>4.233990e+09</td>\n",
       "      <td>2467.699951</td>\n",
       "    </tr>\n",
       "    <tr>\n",
       "      <th>2018-12-27</th>\n",
       "      <td>2489.100098</td>\n",
       "      <td>2397.939941</td>\n",
       "      <td>2442.500000</td>\n",
       "      <td>2488.830078</td>\n",
       "      <td>4.096610e+09</td>\n",
       "      <td>2488.830078</td>\n",
       "    </tr>\n",
       "    <tr>\n",
       "      <th>2018-12-28</th>\n",
       "      <td>2520.270020</td>\n",
       "      <td>2472.889893</td>\n",
       "      <td>2498.770020</td>\n",
       "      <td>2485.739990</td>\n",
       "      <td>3.702620e+09</td>\n",
       "      <td>2485.739990</td>\n",
       "    </tr>\n",
       "    <tr>\n",
       "      <th>2018-12-31</th>\n",
       "      <td>2509.239990</td>\n",
       "      <td>2482.820068</td>\n",
       "      <td>2498.939941</td>\n",
       "      <td>2506.850098</td>\n",
       "      <td>3.442870e+09</td>\n",
       "      <td>2506.850098</td>\n",
       "    </tr>\n",
       "  </tbody>\n",
       "</table>\n",
       "</div>"
      ],
      "text/plain": [
       "                          High          Low         Open        Close  \\\n",
       "Ticker Date                                                             \n",
       "^GSPC  2018-12-17  2601.129883  2530.540039  2590.750000  2545.939941   \n",
       "       2018-12-18  2573.989990  2528.709961  2559.899902  2546.159912   \n",
       "       2018-12-19  2585.290039  2488.959961  2547.050049  2506.959961   \n",
       "       2018-12-20  2509.629883  2441.179932  2496.770020  2467.419922   \n",
       "       2018-12-21  2504.409912  2408.550049  2465.379883  2416.620117   \n",
       "       2018-12-24  2410.340088  2351.100098  2400.560059  2351.100098   \n",
       "       2018-12-26  2467.760010  2346.580078  2363.120117  2467.699951   \n",
       "       2018-12-27  2489.100098  2397.939941  2442.500000  2488.830078   \n",
       "       2018-12-28  2520.270020  2472.889893  2498.770020  2485.739990   \n",
       "       2018-12-31  2509.239990  2482.820068  2498.939941  2506.850098   \n",
       "\n",
       "                         Volume    Adj Close  \n",
       "Ticker Date                                   \n",
       "^GSPC  2018-12-17  4.616350e+09  2545.939941  \n",
       "       2018-12-18  4.470880e+09  2546.159912  \n",
       "       2018-12-19  5.127940e+09  2506.959961  \n",
       "       2018-12-20  5.585780e+09  2467.419922  \n",
       "       2018-12-21  7.609010e+09  2416.620117  \n",
       "       2018-12-24  2.613930e+09  2351.100098  \n",
       "       2018-12-26  4.233990e+09  2467.699951  \n",
       "       2018-12-27  4.096610e+09  2488.830078  \n",
       "       2018-12-28  3.702620e+09  2485.739990  \n",
       "       2018-12-31  3.442870e+09  2506.850098  "
      ]
     },
     "execution_count": 6,
     "metadata": {},
     "output_type": "execute_result"
    }
   ],
>>>>>>> fcc47fd0cf449ba27e57979c91745ab0d7acf858
   "source": [
    "all_data.tail(10)"
   ]
  },
  {
   "cell_type": "markdown",
   "metadata": {},
   "source": [
    "Calculando o ganho da carteira de maneira simplista"
   ]
  },
  {
   "cell_type": "code",
<<<<<<< HEAD
   "execution_count": null,
=======
   "execution_count": 7,
>>>>>>> fcc47fd0cf449ba27e57979c91745ab0d7acf858
   "metadata": {},
   "outputs": [],
   "source": [
    "# transform rows in columns\n",
    "daily_close_px = all_data[['Adj Close']].reset_index().pivot('Date', 'Ticker', 'Adj Close')\n",
    "\n",
    "# get the actual price and split by previous price to find the price variation\n",
    "cart_pct_change = daily_close_px / daily_close_px.shift(1) - 1"
   ]
  },
  {
   "cell_type": "markdown",
   "metadata": {},
   "source": [
    "Também podemos verificar o valor acumulado diariamente, através da função cumprod, que retorna o valor acumulado da lista, neste exemplo, o percentual acumulado"
   ]
  },
  {
   "cell_type": "code",
<<<<<<< HEAD
   "execution_count": null,
   "metadata": {},
   "outputs": [],
=======
   "execution_count": 8,
   "metadata": {},
   "outputs": [
    {
     "data": {
      "text/html": [
       "<div>\n",
       "<style scoped>\n",
       "    .dataframe tbody tr th:only-of-type {\n",
       "        vertical-align: middle;\n",
       "    }\n",
       "\n",
       "    .dataframe tbody tr th {\n",
       "        vertical-align: top;\n",
       "    }\n",
       "\n",
       "    .dataframe thead th {\n",
       "        text-align: right;\n",
       "    }\n",
       "</style>\n",
       "<table border=\"1\" class=\"dataframe\">\n",
       "  <thead>\n",
       "    <tr style=\"text-align: right;\">\n",
       "      <th>Ticker</th>\n",
       "      <th>AAPL</th>\n",
       "      <th>MSFT</th>\n",
       "      <th>^GSPC</th>\n",
       "    </tr>\n",
       "    <tr>\n",
       "      <th>Date</th>\n",
       "      <th></th>\n",
       "      <th></th>\n",
       "      <th></th>\n",
       "    </tr>\n",
       "  </thead>\n",
       "  <tbody>\n",
       "    <tr>\n",
       "      <th>2000-01-03</th>\n",
       "      <td>NaN</td>\n",
       "      <td>NaN</td>\n",
       "      <td>NaN</td>\n",
       "    </tr>\n",
       "    <tr>\n",
       "      <th>2000-01-04</th>\n",
       "      <td>0.915689</td>\n",
       "      <td>0.966219</td>\n",
       "      <td>0.961655</td>\n",
       "    </tr>\n",
       "    <tr>\n",
       "      <th>2000-01-05</th>\n",
       "      <td>0.929090</td>\n",
       "      <td>0.976408</td>\n",
       "      <td>0.963504</td>\n",
       "    </tr>\n",
       "    <tr>\n",
       "      <th>2000-01-06</th>\n",
       "      <td>0.848688</td>\n",
       "      <td>0.943700</td>\n",
       "      <td>0.964425</td>\n",
       "    </tr>\n",
       "    <tr>\n",
       "      <th>2000-01-07</th>\n",
       "      <td>0.888889</td>\n",
       "      <td>0.956032</td>\n",
       "      <td>0.990551</td>\n",
       "    </tr>\n",
       "    <tr>\n",
       "      <th>2000-01-10</th>\n",
       "      <td>0.873255</td>\n",
       "      <td>0.963003</td>\n",
       "      <td>1.001635</td>\n",
       "    </tr>\n",
       "    <tr>\n",
       "      <th>2000-01-11</th>\n",
       "      <td>0.828587</td>\n",
       "      <td>0.938338</td>\n",
       "      <td>0.988552</td>\n",
       "    </tr>\n",
       "    <tr>\n",
       "      <th>2000-01-12</th>\n",
       "      <td>0.778894</td>\n",
       "      <td>0.907775</td>\n",
       "      <td>0.984215</td>\n",
       "    </tr>\n",
       "    <tr>\n",
       "      <th>2000-01-13</th>\n",
       "      <td>0.864321</td>\n",
       "      <td>0.924933</td>\n",
       "      <td>0.996193</td>\n",
       "    </tr>\n",
       "    <tr>\n",
       "      <th>2000-01-14</th>\n",
       "      <td>0.897264</td>\n",
       "      <td>0.963003</td>\n",
       "      <td>1.006824</td>\n",
       "    </tr>\n",
       "  </tbody>\n",
       "</table>\n",
       "</div>"
      ],
      "text/plain": [
       "Ticker          AAPL      MSFT     ^GSPC\n",
       "Date                                    \n",
       "2000-01-03       NaN       NaN       NaN\n",
       "2000-01-04  0.915689  0.966219  0.961655\n",
       "2000-01-05  0.929090  0.976408  0.963504\n",
       "2000-01-06  0.848688  0.943700  0.964425\n",
       "2000-01-07  0.888889  0.956032  0.990551\n",
       "2000-01-10  0.873255  0.963003  1.001635\n",
       "2000-01-11  0.828587  0.938338  0.988552\n",
       "2000-01-12  0.778894  0.907775  0.984215\n",
       "2000-01-13  0.864321  0.924933  0.996193\n",
       "2000-01-14  0.897264  0.963003  1.006824"
      ]
     },
     "execution_count": 8,
     "metadata": {},
     "output_type": "execute_result"
    }
   ],
>>>>>>> fcc47fd0cf449ba27e57979c91745ab0d7acf858
   "source": [
    "# sum all prices variation percentages\n",
    "cart_return = (1 + cart_pct_change).cumprod()\n",
    "\n",
    "cart_return.head(10)"
   ]
  },
  {
   "cell_type": "markdown",
   "metadata": {},
   "source": [
    "Por fim, para verificarmos o rendimento final da carteira, basta visualizar o último valor da lista de produtos acumulados"
   ]
  },
  {
   "cell_type": "code",
<<<<<<< HEAD
   "execution_count": null,
   "metadata": {},
   "outputs": [],
=======
   "execution_count": 9,
   "metadata": {},
   "outputs": [
    {
     "data": {
      "text/html": [
       "<div>\n",
       "<style scoped>\n",
       "    .dataframe tbody tr th:only-of-type {\n",
       "        vertical-align: middle;\n",
       "    }\n",
       "\n",
       "    .dataframe tbody tr th {\n",
       "        vertical-align: top;\n",
       "    }\n",
       "\n",
       "    .dataframe thead th {\n",
       "        text-align: right;\n",
       "    }\n",
       "</style>\n",
       "<table border=\"1\" class=\"dataframe\">\n",
       "  <thead>\n",
       "    <tr style=\"text-align: right;\">\n",
       "      <th>Ticker</th>\n",
       "      <th>AAPL</th>\n",
       "      <th>MSFT</th>\n",
       "      <th>^GSPC</th>\n",
       "    </tr>\n",
       "    <tr>\n",
       "      <th>Date</th>\n",
       "      <th></th>\n",
       "      <th></th>\n",
       "      <th></th>\n",
       "    </tr>\n",
       "  </thead>\n",
       "  <tbody>\n",
       "    <tr>\n",
       "      <th>2018-12-31</th>\n",
       "      <td>5792.071851</td>\n",
       "      <td>140.145538</td>\n",
       "      <td>72.266059</td>\n",
       "    </tr>\n",
       "  </tbody>\n",
       "</table>\n",
       "</div>"
      ],
      "text/plain": [
       "Ticker             AAPL        MSFT      ^GSPC\n",
       "Date                                          \n",
       "2018-12-31  5792.071851  140.145538  72.266059"
      ]
     },
     "metadata": {},
     "output_type": "display_data"
    }
   ],
>>>>>>> fcc47fd0cf449ba27e57979c91745ab0d7acf858
   "source": [
    "# percentual values\n",
    "final_return = cart_return[-1:].apply(lambda x: (x - 1) *100)\n",
    "display(final_return)"
   ]
  },
  {
   "cell_type": "markdown",
   "metadata": {},
   "source": [
    "# Plotando Candlestick"
   ]
  },
  {
   "cell_type": "code",
<<<<<<< HEAD
   "execution_count": null,
   "metadata": {},
   "outputs": [],
=======
   "execution_count": 44,
   "metadata": {},
   "outputs": [
    {
     "data": {
      "text/html": [
       "<iframe id=\"igraph\" scrolling=\"no\" style=\"border:none;\" seamless=\"seamless\" src=\"https://plot.ly/~paulorodriguesxv/117.embed\" height=\"525px\" width=\"100%\"></iframe>"
      ],
      "text/plain": [
       "<plotly.tools.PlotlyDisplay object>"
      ]
     },
     "execution_count": 44,
     "metadata": {},
     "output_type": "execute_result"
    }
   ],
>>>>>>> fcc47fd0cf449ba27e57979c91745ab0d7acf858
   "source": [
    "trace = go.Candlestick(x=all_data.loc['MSFT'].index,\n",
    "                open=all_data.loc['MSFT'].Open,\n",
    "                high=all_data.loc['MSFT'].High,\n",
    "                low=all_data.loc['MSFT'].Low,\n",
    "                close=all_data.loc['MSFT'].Close)\n",
    "data = [trace]\n",
    "py.iplot(data)"
   ]
  },
  {
   "cell_type": "markdown",
   "metadata": {},
   "source": [
    "# Preparando os dados"
   ]
  },
  {
   "cell_type": "markdown",
   "metadata": {},
   "source": [
    "Primemiro reogarnizamos a estrutura do dataset para facilitar a manipulação dos dados e pegamos o preço de fechamento"
   ]
  },
  {
   "cell_type": "code",
<<<<<<< HEAD
   "execution_count": null,
=======
   "execution_count": 11,
>>>>>>> fcc47fd0cf449ba27e57979c91745ab0d7acf858
   "metadata": {},
   "outputs": [],
   "source": [
    "# rearrange data\n",
    "data = all_data.reset_index()\n",
    "data = data.set_index(['Date','Ticker']).sort_index()\n",
    "\n",
    "# Getting just the adjusted closing prices. This will return a Pandas DataFrame\n",
    "# The index in this DataFrame is the major index of the panel_data.\n",
    "close = data['Close']"
   ]
  },
  {
   "cell_type": "markdown",
   "metadata": {},
   "source": [
    "Descobrimos quais foram os dias úteis no período dentro do range de data que selecionamos anteriormente. Então reindexamos nosso dataset com esse novo range de data. Isto fará com que data inexistentes sejam criadas com o valores nulos (NaN)"
   ]
  },
  {
   "cell_type": "code",
<<<<<<< HEAD
   "execution_count": null,
   "metadata": {},
   "outputs": [],
=======
   "execution_count": 12,
   "metadata": {},
   "outputs": [
    {
     "data": {
      "text/plain": [
       "Date        Ticker\n",
       "2000-01-03  AAPL         3.997768\n",
       "            MSFT        58.281250\n",
       "            ^GSPC     1455.219971\n",
       "2000-01-04  AAPL         3.660714\n",
       "            MSFT        56.312500\n",
       "            ^GSPC     1399.420044\n",
       "2000-01-05  AAPL         3.714286\n",
       "            MSFT        56.906250\n",
       "            ^GSPC     1402.109985\n",
       "2000-01-06  AAPL         3.392857\n",
       "Name: Close, dtype: float64"
      ]
     },
     "execution_count": 12,
     "metadata": {},
     "output_type": "execute_result"
    }
   ],
>>>>>>> fcc47fd0cf449ba27e57979c91745ab0d7acf858
   "source": [
    "# Getting all weekdays between 01/01/2000 and 31/12/2018\n",
    "all_weekdays = pd.date_range(start=start_date, end=end_date, freq='B')\n",
    "\n",
    "# How do we align the existing prices in adj_close with our new set of dates?\n",
    "# All we need to do is reindex close using all_weekdays as the new index\n",
    "close = close.reindex( pd.MultiIndex.from_product([all_weekdays,  tickers], names=['Date', 'Ticker']),fill_value=np.NaN)\n",
    "#close = close.fillna(0)\n",
    "close.head(10)"
   ]
  },
  {
   "cell_type": "markdown",
   "metadata": {},
   "source": [
    "Por fim, iremos transformar a coluna ticker em 3 colunas distintas, uma para cada ativo."
   ]
  },
  {
   "cell_type": "code",
<<<<<<< HEAD
   "execution_count": null,
=======
   "execution_count": 13,
>>>>>>> fcc47fd0cf449ba27e57979c91745ab0d7acf858
   "metadata": {},
   "outputs": [],
   "source": [
    "close = close.reset_index().pivot(index=\"Date\", columns=\"Ticker\", values=\"Close\")"
   ]
  },
  {
   "cell_type": "markdown",
   "metadata": {},
   "source": [
    "Agora nosso dataset está pronto e podemos dar uma olhlada nele."
   ]
  },
  {
   "cell_type": "code",
<<<<<<< HEAD
   "execution_count": null,
   "metadata": {},
   "outputs": [],
=======
   "execution_count": 14,
   "metadata": {},
   "outputs": [
    {
     "data": {
      "text/html": [
       "<div>\n",
       "<style scoped>\n",
       "    .dataframe tbody tr th:only-of-type {\n",
       "        vertical-align: middle;\n",
       "    }\n",
       "\n",
       "    .dataframe tbody tr th {\n",
       "        vertical-align: top;\n",
       "    }\n",
       "\n",
       "    .dataframe thead th {\n",
       "        text-align: right;\n",
       "    }\n",
       "</style>\n",
       "<table border=\"1\" class=\"dataframe\">\n",
       "  <thead>\n",
       "    <tr style=\"text-align: right;\">\n",
       "      <th>Ticker</th>\n",
       "      <th>AAPL</th>\n",
       "      <th>MSFT</th>\n",
       "      <th>^GSPC</th>\n",
       "    </tr>\n",
       "  </thead>\n",
       "  <tbody>\n",
       "    <tr>\n",
       "      <th>count</th>\n",
       "      <td>4779.000000</td>\n",
       "      <td>4779.000000</td>\n",
       "      <td>4779.000000</td>\n",
       "    </tr>\n",
       "    <tr>\n",
       "      <th>mean</th>\n",
       "      <td>51.659933</td>\n",
       "      <td>37.620425</td>\n",
       "      <td>1504.437315</td>\n",
       "    </tr>\n",
       "    <tr>\n",
       "      <th>std</th>\n",
       "      <td>55.940578</td>\n",
       "      <td>19.614324</td>\n",
       "      <td>510.674174</td>\n",
       "    </tr>\n",
       "    <tr>\n",
       "      <th>min</th>\n",
       "      <td>0.937143</td>\n",
       "      <td>15.150000</td>\n",
       "      <td>676.530029</td>\n",
       "    </tr>\n",
       "    <tr>\n",
       "      <th>25%</th>\n",
       "      <td>4.358814</td>\n",
       "      <td>26.360001</td>\n",
       "      <td>1142.210022</td>\n",
       "    </tr>\n",
       "    <tr>\n",
       "      <th>50%</th>\n",
       "      <td>26.111429</td>\n",
       "      <td>29.280001</td>\n",
       "      <td>1336.640015</td>\n",
       "    </tr>\n",
       "    <tr>\n",
       "      <th>75%</th>\n",
       "      <td>90.550713</td>\n",
       "      <td>41.580000</td>\n",
       "      <td>1863.080017</td>\n",
       "    </tr>\n",
       "    <tr>\n",
       "      <th>max</th>\n",
       "      <td>232.070007</td>\n",
       "      <td>115.610001</td>\n",
       "      <td>2930.750000</td>\n",
       "    </tr>\n",
       "  </tbody>\n",
       "</table>\n",
       "</div>"
      ],
      "text/plain": [
       "Ticker         AAPL         MSFT        ^GSPC\n",
       "count   4779.000000  4779.000000  4779.000000\n",
       "mean      51.659933    37.620425  1504.437315\n",
       "std       55.940578    19.614324   510.674174\n",
       "min        0.937143    15.150000   676.530029\n",
       "25%        4.358814    26.360001  1142.210022\n",
       "50%       26.111429    29.280001  1336.640015\n",
       "75%       90.550713    41.580000  1863.080017\n",
       "max      232.070007   115.610001  2930.750000"
      ]
     },
     "execution_count": 14,
     "metadata": {},
     "output_type": "execute_result"
    }
   ],
>>>>>>> fcc47fd0cf449ba27e57979c91745ab0d7acf858
   "source": [
    "close.describe()"
   ]
  },
  {
   "cell_type": "markdown",
   "metadata": {},
   "source": [
    "Calcular o  alor percentual utilizando a função pct_change"
   ]
  },
  {
   "cell_type": "code",
<<<<<<< HEAD
   "execution_count": null,
   "metadata": {},
   "outputs": [],
=======
   "execution_count": 15,
   "metadata": {},
   "outputs": [
    {
     "data": {
      "text/plain": [
       "Date\n",
       "2000-01-03   -0.630523\n",
       "2000-01-04   -0.033780\n",
       "2000-01-05    0.010544\n",
       "2000-01-06   -0.033498\n",
       "2000-01-07    0.013068\n",
       "Name: Close, dtype: float64"
      ]
     },
     "execution_count": 15,
     "metadata": {},
     "output_type": "execute_result"
    }
   ],
>>>>>>> fcc47fd0cf449ba27e57979c91745ab0d7acf858
   "source": [
    "data = all_data.pct_change(1)\n",
    "data.loc['MSFT'].Close.head()"
   ]
  },
  {
   "cell_type": "markdown",
   "metadata": {},
   "source": [
    "É o equivalente ao que fizemos no cálculo do ganho da carteira"
   ]
  },
  {
   "cell_type": "code",
<<<<<<< HEAD
   "execution_count": null,
   "metadata": {},
   "outputs": [],
=======
   "execution_count": 16,
   "metadata": {},
   "outputs": [
    {
     "data": {
      "text/plain": [
       "Date\n",
       "2000-01-03         NaN\n",
       "2000-01-04   -0.033781\n",
       "2000-01-05    0.010545\n",
       "2000-01-06   -0.033498\n",
       "2000-01-07    0.013068\n",
       "Name: MSFT, dtype: float64"
      ]
     },
     "execution_count": 16,
     "metadata": {},
     "output_type": "execute_result"
    }
   ],
>>>>>>> fcc47fd0cf449ba27e57979c91745ab0d7acf858
   "source": [
    "(daily_close_px / daily_close_px.shift(1) - 1)['MSFT'].head()"
   ]
  },
  {
   "cell_type": "markdown",
   "metadata": {},
   "source": [
    "Como iremos trabalhar na forma logaritimica, iremos usar uma outra estratégia para cálculo do percentual. Primeiro aplicamos o logaritimo no valor do número e depois calculamos a diferança através função diff, que calcula a diferença dos valores ao longo de uma lista (out[n] = a[n+1] - a[n])"
   ]
  },
  {
   "cell_type": "code",
<<<<<<< HEAD
   "execution_count": null,
   "metadata": {},
   "outputs": [],
=======
   "execution_count": 17,
   "metadata": {},
   "outputs": [
    {
     "data": {
      "text/html": [
       "<div>\n",
       "<style scoped>\n",
       "    .dataframe tbody tr th:only-of-type {\n",
       "        vertical-align: middle;\n",
       "    }\n",
       "\n",
       "    .dataframe tbody tr th {\n",
       "        vertical-align: top;\n",
       "    }\n",
       "\n",
       "    .dataframe thead th {\n",
       "        text-align: right;\n",
       "    }\n",
       "</style>\n",
       "<table border=\"1\" class=\"dataframe\">\n",
       "  <thead>\n",
       "    <tr style=\"text-align: right;\">\n",
       "      <th>Ticker</th>\n",
       "      <th>AAPL</th>\n",
       "      <th>MSFT</th>\n",
       "      <th>^GSPC</th>\n",
       "    </tr>\n",
       "    <tr>\n",
       "      <th>Date</th>\n",
       "      <th></th>\n",
       "      <th></th>\n",
       "      <th></th>\n",
       "    </tr>\n",
       "  </thead>\n",
       "  <tbody>\n",
       "    <tr>\n",
       "      <th>2000-01-03</th>\n",
       "      <td>NaN</td>\n",
       "      <td>NaN</td>\n",
       "      <td>NaN</td>\n",
       "    </tr>\n",
       "    <tr>\n",
       "      <th>2000-01-04</th>\n",
       "      <td>-0.088078</td>\n",
       "      <td>-0.034364</td>\n",
       "      <td>-0.039099</td>\n",
       "    </tr>\n",
       "    <tr>\n",
       "      <th>2000-01-05</th>\n",
       "      <td>0.014528</td>\n",
       "      <td>0.010489</td>\n",
       "      <td>0.001920</td>\n",
       "    </tr>\n",
       "    <tr>\n",
       "      <th>2000-01-06</th>\n",
       "      <td>-0.090514</td>\n",
       "      <td>-0.034072</td>\n",
       "      <td>0.000955</td>\n",
       "    </tr>\n",
       "    <tr>\n",
       "      <th>2000-01-07</th>\n",
       "      <td>0.046281</td>\n",
       "      <td>0.012984</td>\n",
       "      <td>0.026730</td>\n",
       "    </tr>\n",
       "  </tbody>\n",
       "</table>\n",
       "</div>"
      ],
      "text/plain": [
       "Ticker          AAPL      MSFT     ^GSPC\n",
       "Date                                    \n",
       "2000-01-03       NaN       NaN       NaN\n",
       "2000-01-04 -0.088078 -0.034364 -0.039099\n",
       "2000-01-05  0.014528  0.010489  0.001920\n",
       "2000-01-06 -0.090514 -0.034072  0.000955\n",
       "2000-01-07  0.046281  0.012984  0.026730"
      ]
     },
     "execution_count": 17,
     "metadata": {},
     "output_type": "execute_result"
    }
   ],
>>>>>>> fcc47fd0cf449ba27e57979c91745ab0d7acf858
   "source": [
    "log_returns = np.log(close.dropna()).diff()\n",
    "log_returns.head()"
   ]
  },
  {
   "cell_type": "markdown",
   "metadata": {},
   "source": [
    "Além do preço relativo ou percentual da ação, muitas vezes também se trabalha com o total relativo acumalado, que é a medida que indica a rentabibilidade de um dado período.\n",
    "Os gráfico abaixo representamo o valorp percentual da ação seguido pelo gráfico representando o total acumulado. Por exemplo, no gráfico de total acumulado, notamos que se uma pessoa tivesse  investido 1000 na Apple no inicio dos anos 2000, teria aumentado seu capital em quase 6 vezes."
   ]
  },
  {
   "cell_type": "code",
<<<<<<< HEAD
   "execution_count": null,
   "metadata": {},
   "outputs": [],
=======
   "execution_count": 45,
   "metadata": {},
   "outputs": [
    {
     "data": {
      "text/html": [
       "<iframe id=\"igraph\" scrolling=\"no\" style=\"border:none;\" seamless=\"seamless\" src=\"https://plot.ly/~paulorodriguesxv/119.embed\" height=\"525px\" width=\"100%\"></iframe>"
      ],
      "text/plain": [
       "<plotly.tools.PlotlyDisplay object>"
      ]
     },
     "execution_count": 45,
     "metadata": {},
     "output_type": "execute_result"
    }
   ],
>>>>>>> fcc47fd0cf449ba27e57979c91745ab0d7acf858
   "source": [
    "layout = go.Layout(\n",
    "    title='Result',\n",
    "    yaxis=dict(\n",
    "        title='Cumulative log returns',\n",
    "        titlefont=dict(\n",
    "            size=26,\n",
    "            color='#7f7f7f'\n",
    "        )\n",
    "    )\n",
    ")\n",
    "    \n",
    "axis = []\n",
    "\n",
    "for d in log_returns:\n",
    "    axi = go.Scatter(\n",
    "                x=log_returns.index,\n",
    "                y=log_returns[d].cumsum(),\n",
    "                name = d,\n",
    "                opacity = 1)\n",
    "    axis.append(axi)\n",
    "    \n",
    "fig = dict(data=axis, layout=layout)\n",
    "py.iplot(fig)"
   ]
  },
  {
   "cell_type": "code",
<<<<<<< HEAD
   "execution_count": null,
   "metadata": {},
   "outputs": [],
=======
   "execution_count": 47,
   "metadata": {},
   "outputs": [
    {
     "data": {
      "text/html": [
       "<iframe id=\"igraph\" scrolling=\"no\" style=\"border:none;\" seamless=\"seamless\" src=\"https://plot.ly/~paulorodriguesxv/123.embed\" height=\"525px\" width=\"100%\"></iframe>"
      ],
      "text/plain": [
       "<plotly.tools.PlotlyDisplay object>"
      ]
     },
     "execution_count": 47,
     "metadata": {},
     "output_type": "execute_result"
    }
   ],
>>>>>>> fcc47fd0cf449ba27e57979c91745ab0d7acf858
   "source": [
    "layout = go.Layout(\n",
    "    title='Result',\n",
    "    yaxis=dict(\n",
    "        title='Total relative returns (%)',\n",
    "        titlefont=dict(\n",
    "            size=18,\n",
    "            color='#7f7f7f'\n",
    "        )\n",
    "    )\n",
    ")\n",
    "axis = []\n",
    "\n",
    "for d in log_returns:\n",
    "    axi = go.Scatter(\n",
    "                x=log_returns.index,\n",
    "                y= 100 * (np.exp(log_returns[d].cumsum()) -1),\n",
    "                name = d,\n",
    "                opacity = 1)\n",
    "    axis.append(axi)\n",
    "    \n",
    "fig = dict(data=axis, layout=layout)\n",
    "py.iplot(fig)"
   ]
  },
  {
   "cell_type": "markdown",
   "metadata": {},
   "source": [
    "# Buy and Hold\n",
    "Vamos assumir que iremos cálcular o rendimemnto do último dia disponível na nossa carteira. A forma mais simples de realizar este cálculo e multiplicando a matriz de pesos pela matriz de preços da ação neste dia. Primeiro devemos transpor a matriz dos preços"
   ]
  },
  {
   "cell_type": "code",
<<<<<<< HEAD
   "execution_count": null,
   "metadata": {},
   "outputs": [],
=======
   "execution_count": 20,
   "metadata": {},
   "outputs": [
    {
     "data": {
      "text/html": [
       "<div>\n",
       "<style scoped>\n",
       "    .dataframe tbody tr th:only-of-type {\n",
       "        vertical-align: middle;\n",
       "    }\n",
       "\n",
       "    .dataframe tbody tr th {\n",
       "        vertical-align: top;\n",
       "    }\n",
       "\n",
       "    .dataframe thead th {\n",
       "        text-align: right;\n",
       "    }\n",
       "</style>\n",
       "<table border=\"1\" class=\"dataframe\">\n",
       "  <thead>\n",
       "    <tr style=\"text-align: right;\">\n",
       "      <th>Date</th>\n",
       "      <th>2018-12-31 00:00:00</th>\n",
       "    </tr>\n",
       "    <tr>\n",
       "      <th>Ticker</th>\n",
       "      <th></th>\n",
       "    </tr>\n",
       "  </thead>\n",
       "  <tbody>\n",
       "    <tr>\n",
       "      <th>AAPL</th>\n",
       "      <td>0.009619</td>\n",
       "    </tr>\n",
       "    <tr>\n",
       "      <th>MSFT</th>\n",
       "      <td>0.011686</td>\n",
       "    </tr>\n",
       "    <tr>\n",
       "      <th>^GSPC</th>\n",
       "      <td>0.008457</td>\n",
       "    </tr>\n",
       "  </tbody>\n",
       "</table>\n",
       "</div>"
      ],
      "text/plain": [
       "Date    2018-12-31\n",
       "Ticker            \n",
       "AAPL      0.009619\n",
       "MSFT      0.011686\n",
       "^GSPC     0.008457"
      ]
     },
     "execution_count": 20,
     "metadata": {},
     "output_type": "execute_result"
    }
   ],
>>>>>>> fcc47fd0cf449ba27e57979c91745ab0d7acf858
   "source": [
    "r_t = log_returns.tail(1).transpose()\n",
    "r_t"
   ]
  },
  {
   "cell_type": "markdown",
   "metadata": {},
   "source": [
    "Em seguida criar a matriz dos pesos das ações dentro da carteira. Aqui utilizamos 1/3, pois cada uma das três ações possuem o mesmo peso dentro da carteira."
   ]
  },
  {
   "cell_type": "code",
<<<<<<< HEAD
   "execution_count": null,
   "metadata": {},
   "outputs": [],
=======
   "execution_count": 21,
   "metadata": {},
   "outputs": [
    {
     "data": {
      "text/html": [
       "<div>\n",
       "<style scoped>\n",
       "    .dataframe tbody tr th:only-of-type {\n",
       "        vertical-align: middle;\n",
       "    }\n",
       "\n",
       "    .dataframe tbody tr th {\n",
       "        vertical-align: top;\n",
       "    }\n",
       "\n",
       "    .dataframe thead th {\n",
       "        text-align: right;\n",
       "    }\n",
       "</style>\n",
       "<table border=\"1\" class=\"dataframe\">\n",
       "  <thead>\n",
       "    <tr style=\"text-align: right;\">\n",
       "      <th>Date</th>\n",
       "      <th>2018-12-31 00:00:00</th>\n",
       "    </tr>\n",
       "    <tr>\n",
       "      <th>Ticker</th>\n",
       "      <th></th>\n",
       "    </tr>\n",
       "  </thead>\n",
       "  <tbody>\n",
       "    <tr>\n",
       "      <th>AAPL</th>\n",
       "      <td>0.333333</td>\n",
       "    </tr>\n",
       "    <tr>\n",
       "      <th>MSFT</th>\n",
       "      <td>0.333333</td>\n",
       "    </tr>\n",
       "    <tr>\n",
       "      <th>^GSPC</th>\n",
       "      <td>0.333333</td>\n",
       "    </tr>\n",
       "  </tbody>\n",
       "</table>\n",
       "</div>"
      ],
      "text/plain": [
       "Date    2018-12-31\n",
       "Ticker            \n",
       "AAPL      0.333333\n",
       "MSFT      0.333333\n",
       "^GSPC     0.333333"
      ]
     },
     "execution_count": 21,
     "metadata": {},
     "output_type": "execute_result"
    }
   ],
>>>>>>> fcc47fd0cf449ba27e57979c91745ab0d7acf858
   "source": [
    "weights_vector = pd.DataFrame(1 / 3, index=r_t.index, columns=r_t.columns)\n",
    "weights_vector"
   ]
  },
  {
   "cell_type": "markdown",
   "metadata": {},
   "source": [
    "Realizamos a multiplicação e temos o rendimento da carteira como um todo"
   ]
  },
  {
   "cell_type": "code",
<<<<<<< HEAD
   "execution_count": null,
   "metadata": {},
   "outputs": [],
=======
   "execution_count": 22,
   "metadata": {},
   "outputs": [
    {
     "data": {
      "text/html": [
       "<div>\n",
       "<style scoped>\n",
       "    .dataframe tbody tr th:only-of-type {\n",
       "        vertical-align: middle;\n",
       "    }\n",
       "\n",
       "    .dataframe tbody tr th {\n",
       "        vertical-align: top;\n",
       "    }\n",
       "\n",
       "    .dataframe thead th {\n",
       "        text-align: right;\n",
       "    }\n",
       "</style>\n",
       "<table border=\"1\" class=\"dataframe\">\n",
       "  <thead>\n",
       "    <tr style=\"text-align: right;\">\n",
       "      <th>Date</th>\n",
       "      <th>2018-12-31 00:00:00</th>\n",
       "    </tr>\n",
       "    <tr>\n",
       "      <th>Date</th>\n",
       "      <th></th>\n",
       "    </tr>\n",
       "  </thead>\n",
       "  <tbody>\n",
       "    <tr>\n",
       "      <th>2018-12-31</th>\n",
       "      <td>0.00992</td>\n",
       "    </tr>\n",
       "  </tbody>\n",
       "</table>\n",
       "</div>"
      ],
      "text/plain": [
       "Date        2018-12-31\n",
       "Date                  \n",
       "2018-12-31     0.00992"
      ]
     },
     "execution_count": 22,
     "metadata": {},
     "output_type": "execute_result"
    }
   ],
>>>>>>> fcc47fd0cf449ba27e57979c91745ab0d7acf858
   "source": [
    "portfolio_log_return = weights_vector.transpose().dot(r_t)\n",
    "portfolio_log_return"
   ]
  },
  {
   "cell_type": "markdown",
   "metadata": {},
   "source": [
    "A fim de calcular para todo o período de tempo"
   ]
  },
  {
   "cell_type": "code",
<<<<<<< HEAD
   "execution_count": null,
   "metadata": {},
   "outputs": [],
=======
   "execution_count": 23,
   "metadata": {},
   "outputs": [
    {
     "data": {
      "text/html": [
       "<div>\n",
       "<style scoped>\n",
       "    .dataframe tbody tr th:only-of-type {\n",
       "        vertical-align: middle;\n",
       "    }\n",
       "\n",
       "    .dataframe tbody tr th {\n",
       "        vertical-align: top;\n",
       "    }\n",
       "\n",
       "    .dataframe thead th {\n",
       "        text-align: right;\n",
       "    }\n",
       "</style>\n",
       "<table border=\"1\" class=\"dataframe\">\n",
       "  <thead>\n",
       "    <tr style=\"text-align: right;\">\n",
       "      <th>Ticker</th>\n",
       "      <th>AAPL</th>\n",
       "      <th>MSFT</th>\n",
       "      <th>^GSPC</th>\n",
       "    </tr>\n",
       "    <tr>\n",
       "      <th>Date</th>\n",
       "      <th></th>\n",
       "      <th></th>\n",
       "      <th></th>\n",
       "    </tr>\n",
       "  </thead>\n",
       "  <tbody>\n",
       "    <tr>\n",
       "      <th>2000-01-03</th>\n",
       "      <td>0.333333</td>\n",
       "      <td>0.333333</td>\n",
       "      <td>0.333333</td>\n",
       "    </tr>\n",
       "    <tr>\n",
       "      <th>2000-01-04</th>\n",
       "      <td>0.333333</td>\n",
       "      <td>0.333333</td>\n",
       "      <td>0.333333</td>\n",
       "    </tr>\n",
       "    <tr>\n",
       "      <th>2000-01-05</th>\n",
       "      <td>0.333333</td>\n",
       "      <td>0.333333</td>\n",
       "      <td>0.333333</td>\n",
       "    </tr>\n",
       "    <tr>\n",
       "      <th>2000-01-06</th>\n",
       "      <td>0.333333</td>\n",
       "      <td>0.333333</td>\n",
       "      <td>0.333333</td>\n",
       "    </tr>\n",
       "    <tr>\n",
       "      <th>2000-01-07</th>\n",
       "      <td>0.333333</td>\n",
       "      <td>0.333333</td>\n",
       "      <td>0.333333</td>\n",
       "    </tr>\n",
       "  </tbody>\n",
       "</table>\n",
       "</div>"
      ],
      "text/plain": [
       "Ticker          AAPL      MSFT     ^GSPC\n",
       "Date                                    \n",
       "2000-01-03  0.333333  0.333333  0.333333\n",
       "2000-01-04  0.333333  0.333333  0.333333\n",
       "2000-01-05  0.333333  0.333333  0.333333\n",
       "2000-01-06  0.333333  0.333333  0.333333\n",
       "2000-01-07  0.333333  0.333333  0.333333"
      ]
     },
     "execution_count": 23,
     "metadata": {},
     "output_type": "execute_result"
    }
   ],
>>>>>>> fcc47fd0cf449ba27e57979c91745ab0d7acf858
   "source": [
    "weights_matrix = pd.DataFrame(1 / 3, index=log_returns.index, columns=log_returns.columns)\n",
    "weights_matrix.head()"
   ]
  },
  {
   "cell_type": "code",
<<<<<<< HEAD
   "execution_count": null,
   "metadata": {},
   "outputs": [],
=======
   "execution_count": 24,
   "metadata": {},
   "outputs": [
    {
     "data": {
      "text/html": [
       "<div>\n",
       "<style scoped>\n",
       "    .dataframe tbody tr th:only-of-type {\n",
       "        vertical-align: middle;\n",
       "    }\n",
       "\n",
       "    .dataframe tbody tr th {\n",
       "        vertical-align: top;\n",
       "    }\n",
       "\n",
       "    .dataframe thead th {\n",
       "        text-align: right;\n",
       "    }\n",
       "</style>\n",
       "<table border=\"1\" class=\"dataframe\">\n",
       "  <thead>\n",
       "    <tr style=\"text-align: right;\">\n",
       "      <th>Date</th>\n",
       "      <th>2000-01-03 00:00:00</th>\n",
       "      <th>2000-01-04 00:00:00</th>\n",
       "      <th>2000-01-05 00:00:00</th>\n",
       "      <th>2000-01-06 00:00:00</th>\n",
       "      <th>2000-01-07 00:00:00</th>\n",
       "      <th>2000-01-10 00:00:00</th>\n",
       "      <th>2000-01-11 00:00:00</th>\n",
       "      <th>2000-01-12 00:00:00</th>\n",
       "      <th>2000-01-13 00:00:00</th>\n",
       "      <th>2000-01-14 00:00:00</th>\n",
       "      <th>...</th>\n",
       "      <th>2018-12-17 00:00:00</th>\n",
       "      <th>2018-12-18 00:00:00</th>\n",
       "      <th>2018-12-19 00:00:00</th>\n",
       "      <th>2018-12-20 00:00:00</th>\n",
       "      <th>2018-12-21 00:00:00</th>\n",
       "      <th>2018-12-24 00:00:00</th>\n",
       "      <th>2018-12-26 00:00:00</th>\n",
       "      <th>2018-12-27 00:00:00</th>\n",
       "      <th>2018-12-28 00:00:00</th>\n",
       "      <th>2018-12-31 00:00:00</th>\n",
       "    </tr>\n",
       "    <tr>\n",
       "      <th>Date</th>\n",
       "      <th></th>\n",
       "      <th></th>\n",
       "      <th></th>\n",
       "      <th></th>\n",
       "      <th></th>\n",
       "      <th></th>\n",
       "      <th></th>\n",
       "      <th></th>\n",
       "      <th></th>\n",
       "      <th></th>\n",
       "      <th></th>\n",
       "      <th></th>\n",
       "      <th></th>\n",
       "      <th></th>\n",
       "      <th></th>\n",
       "      <th></th>\n",
       "      <th></th>\n",
       "      <th></th>\n",
       "      <th></th>\n",
       "      <th></th>\n",
       "      <th></th>\n",
       "    </tr>\n",
       "  </thead>\n",
       "  <tbody>\n",
       "    <tr>\n",
       "      <th>2018-12-24</th>\n",
       "      <td>NaN</td>\n",
       "      <td>-0.053847</td>\n",
       "      <td>0.008979</td>\n",
       "      <td>-0.04121</td>\n",
       "      <td>0.028665</td>\n",
       "      <td>0.000216</td>\n",
       "      <td>-0.030533</td>\n",
       "      <td>-0.033119</td>\n",
       "      <td>0.044963</td>\n",
       "      <td>0.029452</td>\n",
       "      <td>...</td>\n",
       "      <td>-0.020135</td>\n",
       "      <td>0.007812</td>\n",
       "      <td>-0.016634</td>\n",
       "      <td>-0.020902</td>\n",
       "      <td>-0.031107</td>\n",
       "      <td>-0.032112</td>\n",
       "      <td>0.060844</td>\n",
       "      <td>0.002721</td>\n",
       "      <td>-0.002856</td>\n",
       "      <td>0.00992</td>\n",
       "    </tr>\n",
       "    <tr>\n",
       "      <th>2018-12-26</th>\n",
       "      <td>NaN</td>\n",
       "      <td>-0.053847</td>\n",
       "      <td>0.008979</td>\n",
       "      <td>-0.04121</td>\n",
       "      <td>0.028665</td>\n",
       "      <td>0.000216</td>\n",
       "      <td>-0.030533</td>\n",
       "      <td>-0.033119</td>\n",
       "      <td>0.044963</td>\n",
       "      <td>0.029452</td>\n",
       "      <td>...</td>\n",
       "      <td>-0.020135</td>\n",
       "      <td>0.007812</td>\n",
       "      <td>-0.016634</td>\n",
       "      <td>-0.020902</td>\n",
       "      <td>-0.031107</td>\n",
       "      <td>-0.032112</td>\n",
       "      <td>0.060844</td>\n",
       "      <td>0.002721</td>\n",
       "      <td>-0.002856</td>\n",
       "      <td>0.00992</td>\n",
       "    </tr>\n",
       "    <tr>\n",
       "      <th>2018-12-27</th>\n",
       "      <td>NaN</td>\n",
       "      <td>-0.053847</td>\n",
       "      <td>0.008979</td>\n",
       "      <td>-0.04121</td>\n",
       "      <td>0.028665</td>\n",
       "      <td>0.000216</td>\n",
       "      <td>-0.030533</td>\n",
       "      <td>-0.033119</td>\n",
       "      <td>0.044963</td>\n",
       "      <td>0.029452</td>\n",
       "      <td>...</td>\n",
       "      <td>-0.020135</td>\n",
       "      <td>0.007812</td>\n",
       "      <td>-0.016634</td>\n",
       "      <td>-0.020902</td>\n",
       "      <td>-0.031107</td>\n",
       "      <td>-0.032112</td>\n",
       "      <td>0.060844</td>\n",
       "      <td>0.002721</td>\n",
       "      <td>-0.002856</td>\n",
       "      <td>0.00992</td>\n",
       "    </tr>\n",
       "    <tr>\n",
       "      <th>2018-12-28</th>\n",
       "      <td>NaN</td>\n",
       "      <td>-0.053847</td>\n",
       "      <td>0.008979</td>\n",
       "      <td>-0.04121</td>\n",
       "      <td>0.028665</td>\n",
       "      <td>0.000216</td>\n",
       "      <td>-0.030533</td>\n",
       "      <td>-0.033119</td>\n",
       "      <td>0.044963</td>\n",
       "      <td>0.029452</td>\n",
       "      <td>...</td>\n",
       "      <td>-0.020135</td>\n",
       "      <td>0.007812</td>\n",
       "      <td>-0.016634</td>\n",
       "      <td>-0.020902</td>\n",
       "      <td>-0.031107</td>\n",
       "      <td>-0.032112</td>\n",
       "      <td>0.060844</td>\n",
       "      <td>0.002721</td>\n",
       "      <td>-0.002856</td>\n",
       "      <td>0.00992</td>\n",
       "    </tr>\n",
       "    <tr>\n",
       "      <th>2018-12-31</th>\n",
       "      <td>NaN</td>\n",
       "      <td>-0.053847</td>\n",
       "      <td>0.008979</td>\n",
       "      <td>-0.04121</td>\n",
       "      <td>0.028665</td>\n",
       "      <td>0.000216</td>\n",
       "      <td>-0.030533</td>\n",
       "      <td>-0.033119</td>\n",
       "      <td>0.044963</td>\n",
       "      <td>0.029452</td>\n",
       "      <td>...</td>\n",
       "      <td>-0.020135</td>\n",
       "      <td>0.007812</td>\n",
       "      <td>-0.016634</td>\n",
       "      <td>-0.020902</td>\n",
       "      <td>-0.031107</td>\n",
       "      <td>-0.032112</td>\n",
       "      <td>0.060844</td>\n",
       "      <td>0.002721</td>\n",
       "      <td>-0.002856</td>\n",
       "      <td>0.00992</td>\n",
       "    </tr>\n",
       "  </tbody>\n",
       "</table>\n",
       "<p>5 rows × 4779 columns</p>\n",
       "</div>"
      ],
      "text/plain": [
       "Date        2000-01-03  2000-01-04  2000-01-05  2000-01-06  2000-01-07  \\\n",
       "Date                                                                     \n",
       "2018-12-24         NaN   -0.053847    0.008979    -0.04121    0.028665   \n",
       "2018-12-26         NaN   -0.053847    0.008979    -0.04121    0.028665   \n",
       "2018-12-27         NaN   -0.053847    0.008979    -0.04121    0.028665   \n",
       "2018-12-28         NaN   -0.053847    0.008979    -0.04121    0.028665   \n",
       "2018-12-31         NaN   -0.053847    0.008979    -0.04121    0.028665   \n",
       "\n",
       "Date        2000-01-10  2000-01-11  2000-01-12  2000-01-13  2000-01-14  ...  \\\n",
       "Date                                                                    ...   \n",
       "2018-12-24    0.000216   -0.030533   -0.033119    0.044963    0.029452  ...   \n",
       "2018-12-26    0.000216   -0.030533   -0.033119    0.044963    0.029452  ...   \n",
       "2018-12-27    0.000216   -0.030533   -0.033119    0.044963    0.029452  ...   \n",
       "2018-12-28    0.000216   -0.030533   -0.033119    0.044963    0.029452  ...   \n",
       "2018-12-31    0.000216   -0.030533   -0.033119    0.044963    0.029452  ...   \n",
       "\n",
       "Date        2018-12-17  2018-12-18  2018-12-19  2018-12-20  2018-12-21  \\\n",
       "Date                                                                     \n",
       "2018-12-24   -0.020135    0.007812   -0.016634   -0.020902   -0.031107   \n",
       "2018-12-26   -0.020135    0.007812   -0.016634   -0.020902   -0.031107   \n",
       "2018-12-27   -0.020135    0.007812   -0.016634   -0.020902   -0.031107   \n",
       "2018-12-28   -0.020135    0.007812   -0.016634   -0.020902   -0.031107   \n",
       "2018-12-31   -0.020135    0.007812   -0.016634   -0.020902   -0.031107   \n",
       "\n",
       "Date        2018-12-24  2018-12-26  2018-12-27  2018-12-28  2018-12-31  \n",
       "Date                                                                    \n",
       "2018-12-24   -0.032112    0.060844    0.002721   -0.002856     0.00992  \n",
       "2018-12-26   -0.032112    0.060844    0.002721   -0.002856     0.00992  \n",
       "2018-12-27   -0.032112    0.060844    0.002721   -0.002856     0.00992  \n",
       "2018-12-28   -0.032112    0.060844    0.002721   -0.002856     0.00992  \n",
       "2018-12-31   -0.032112    0.060844    0.002721   -0.002856     0.00992  \n",
       "\n",
       "[5 rows x 4779 columns]"
      ]
     },
     "execution_count": 24,
     "metadata": {},
     "output_type": "execute_result"
    }
   ],
>>>>>>> fcc47fd0cf449ba27e57979c91745ab0d7acf858
   "source": [
    "temp_var = weights_matrix.dot(log_returns.transpose())\n",
    "temp_var.tail()"
   ]
  },
  {
   "cell_type": "markdown",
   "metadata": {},
   "source": [
    "O valor que procuramos está na diganoal da matriz, pois veja que é quando as datas das matrizes de origem se interseccionam. Para estrar este valor utilizamos a função diag, do numpy"
   ]
  },
  {
   "cell_type": "code",
<<<<<<< HEAD
   "execution_count": null,
   "metadata": {},
   "outputs": [],
=======
   "execution_count": 25,
   "metadata": {},
   "outputs": [
    {
     "data": {
      "text/plain": [
       "Date\n",
       "2018-12-24   -0.032112\n",
       "2018-12-26    0.060844\n",
       "2018-12-27    0.002721\n",
       "2018-12-28   -0.002856\n",
       "2018-12-31    0.009920\n",
       "dtype: float64"
      ]
     },
     "execution_count": 25,
     "metadata": {},
     "output_type": "execute_result"
    }
   ],
>>>>>>> fcc47fd0cf449ba27e57979c91745ab0d7acf858
   "source": [
    "portfolio_log_returns = pd.Series(np.diag(temp_var), index=log_returns.index)\n",
    "portfolio_log_returns = portfolio_log_returns[1:]\n",
    "portfolio_log_returns.tail()"
   ]
  },
  {
   "cell_type": "markdown",
   "metadata": {},
   "source": [
    "A plotagem dos gráficos são similares ao que já fizemos anteriormente"
   ]
  },
  {
   "cell_type": "code",
<<<<<<< HEAD
   "execution_count": null,
   "metadata": {},
   "outputs": [],
=======
   "execution_count": 48,
   "metadata": {},
   "outputs": [
    {
     "data": {
      "text/html": [
       "<iframe id=\"igraph\" scrolling=\"no\" style=\"border:none;\" seamless=\"seamless\" src=\"https://plot.ly/~paulorodriguesxv/125.embed\" height=\"525px\" width=\"100%\"></iframe>"
      ],
      "text/plain": [
       "<plotly.tools.PlotlyDisplay object>"
      ]
     },
     "execution_count": 48,
     "metadata": {},
     "output_type": "execute_result"
    }
   ],
>>>>>>> fcc47fd0cf449ba27e57979c91745ab0d7acf858
   "source": [
    "layout = go.Layout(\n",
    "    title='Result',\n",
    "    yaxis=dict(\n",
    "        title='Portfolio cumulative log returns',\n",
    "        titlefont=dict(\n",
    "            size=18,\n",
    "            color='#7f7f7f'\n",
    "        )\n",
    "    )\n",
    ")\n",
    "    \n",
    "axis = go.Scatter(\n",
    "            x=portfolio_log_returns.index,\n",
    "            y=portfolio_log_returns.cumsum(),\n",
    "            opacity = 1)\n",
    "    \n",
    "fig = dict(data=[axis], layout=layout)\n",
    "py.iplot(fig)"
   ]
  },
  {
   "cell_type": "code",
<<<<<<< HEAD
   "execution_count": null,
   "metadata": {},
   "outputs": [],
=======
   "execution_count": 49,
   "metadata": {},
   "outputs": [
    {
     "data": {
      "text/html": [
       "<iframe id=\"igraph\" scrolling=\"no\" style=\"border:none;\" seamless=\"seamless\" src=\"https://plot.ly/~paulorodriguesxv/127.embed\" height=\"525px\" width=\"100%\"></iframe>"
      ],
      "text/plain": [
       "<plotly.tools.PlotlyDisplay object>"
      ]
     },
     "execution_count": 49,
     "metadata": {},
     "output_type": "execute_result"
    }
   ],
>>>>>>> fcc47fd0cf449ba27e57979c91745ab0d7acf858
   "source": [
    "total_relative_returns = (np.exp(portfolio_log_returns.cumsum()) - 1)\n",
    "\n",
    "layout = go.Layout(\n",
    "    title='Result',\n",
    "    yaxis=dict(\n",
    "        title='Portfolio total relative returns (%)',\n",
    "        titlefont=dict(\n",
    "            size=18,\n",
    "            color='#7f7f7f'\n",
    "        )\n",
    "    )\n",
    ")\n",
    "    \n",
    "axis = go.Scatter(\n",
    "            x = total_relative_returns.index,\n",
    "            y = total_relative_returns * 100,\n",
    "            opacity = 1)\n",
    "    \n",
    "fig = dict(data=[axis], layout=layout)\n",
    "py.iplot(fig)"
   ]
  },
  {
   "cell_type": "markdown",
   "metadata": {},
   "source": [
    "# Análise de trading por médias móveis"
   ]
  },
  {
   "cell_type": "markdown",
   "metadata": {},
   "source": [
    "## Média móvel simples"
   ]
  },
  {
   "cell_type": "code",
   "execution_count": null,
   "metadata": {},
   "outputs": [],
   "source": [
    "# Get the MSFT timeseries. This now returns a Pandas Series object indexed by date and drop NA rows.\n",
    "msft = all_data.loc['MSFT'].dropna()\n",
    "msft = msft['2018-06-01':]\n",
    "\n",
    "window = 21\n",
    "# Calculate the  21 days moving averages of the closing prices\n",
    "MA = msft.Close.rolling(window=window).mean()\n",
    "\n",
    "\n",
    "\n",
    "trace_avg = go.Scatter(\n",
    "                x=MA.index,\n",
    "                y=MA,\n",
    "                name = \"MSFT MA(21)\",\n",
    "                line = dict(color = '#BEBECF'),\n",
    "                opacity = 1)\n",
    "\n",
    "trace_candles = go.Candlestick(x=msft.index,\n",
    "                    open=msft.Open,\n",
    "                    high=msft.High,\n",
    "                    low=msft.Low,\n",
    "                    close=msft.Close,\n",
    "                    name = \"Price\")\n",
    "\n",
    "data = [trace_avg, trace_candles]\n",
    "\n",
    "fig = dict(data=data)\n",
    "py.iplot(fig)"
   ]
  },
  {
   "cell_type": "markdown",
   "metadata": {},
   "source": [
    "## Média móvel exponencial"
   ]
  },
  {
   "cell_type": "code",
   "execution_count": null,
   "metadata": {},
   "outputs": [],
   "source": [
    "window = 21\n",
    "K = ( 2 / (window + 1))\n",
    "\n",
    "msft = all_data.loc['MSFT'].dropna()\n",
    "msft = msft['2018-06-01':]\n",
    "\n",
    "MA = msft.Close.rolling(window=window).mean().dropna()\n"
   ]
  },
  {
   "cell_type": "code",
   "execution_count": null,
   "metadata": {},
   "outputs": [],
   "source": [
    "ema_data = pd.DataFrame(index=MA.index)\n",
    "ema_data['Price'] = msft.Close\n",
    "ema_data['MA'] = MA\n",
    "ema_data['EMA'] = np.NaN\n",
    "\n",
    "ema_data.EMA[0] = ema_data.MA[1]\n",
    "\n",
    "for i in range(1, len(ema_data)):\n",
    "    ema_data.EMA[i] = (ema_data.Price[i] * K) + ((1 - K) * ema_data.EMA[i-1]) "
   ]
  },
  {
   "cell_type": "code",
   "execution_count": null,
   "metadata": {},
   "outputs": [],
   "source": [
    "trace_ma = go.Scatter(\n",
    "                x=ema_data.index,\n",
    "                y=ema_data.MA,\n",
    "                name = \"MSFT MA(21)\",\n",
    "                line = dict(color = '#BEBECF'),\n",
    "                opacity = 1)\n",
    "\n",
    "trace_ema = go.Scatter(\n",
    "                x=ema_data.index,\n",
    "                y=ema_data.EMA,\n",
    "                name = \"MSFT EMA(21)\",\n",
    "                line = dict(color = '#17BECF'),\n",
    "                opacity = 1)\n",
    "\n",
    "trace_candles = go.Candlestick(x=msft.index,\n",
    "                    open=msft.Open,\n",
    "                    high=msft.High,\n",
    "                    low=msft.Low,\n",
    "                    close=msft.Close,\n",
    "                    name = \"Price\")\n",
    "\n",
    "data = [trace_ma, trace_ema, trace_candles]\n",
    "\n",
    "fig = dict(data=data)\n",
    "py.iplot(fig)"
   ]
  },
  {
   "cell_type": "markdown",
   "metadata": {},
   "source": [
    "# Cruzamento de Médias\n",
    "Calcular as duas médias móveis, de 9 e 21 períodos"
   ]
  },
  {
   "cell_type": "code",
<<<<<<< HEAD
   "execution_count": null,
=======
   "execution_count": 28,
>>>>>>> fcc47fd0cf449ba27e57979c91745ab0d7acf858
   "metadata": {},
   "outputs": [],
   "source": [
    "# Get the MSFT timeseries. This now returns a Pandas Series object indexed by date and drop NA rows.\n",
    "msft = close.loc[:, 'MSFT'].dropna()\n",
    "\n",
    "# Calculate the 9 and 21 days moving averages of the closing prices\n",
    "short_rolling_msft = msft.rolling(window=9).mean()\n",
    "long_rolling_msft = msft.rolling(window=21).mean()"
   ]
  },
  {
   "cell_type": "markdown",
   "metadata": {},
   "source": [
    "A função rolling foi utilizada em conjunto com a função mean(). Neste cenário estamos calculando as média dos valores selecionadas na nossa \"janela\" de tempo. Poderiamos utilizar outras funções, como sum() para somá-los ou std() para cálcular o desvio padrão.\n",
    "\n",
    "Para plotagem do gráfico, iremos utilziar o plotly. Começamos por criar os 3 eixos necessários: eixo da média curta, eixo da média longa, eixo do preço."
   ]
  },
  {
   "cell_type": "code",
<<<<<<< HEAD
   "execution_count": null,
=======
   "execution_count": 51,
>>>>>>> fcc47fd0cf449ba27e57979c91745ab0d7acf858
   "metadata": {},
   "outputs": [],
   "source": [
    "trace_short = go.Scatter(\n",
    "                x=short_rolling_msft.index,\n",
    "                y=short_rolling_msft,\n",
    "                name = \"MSFT Short\",\n",
    "                line = dict(color = '#17BECF'),\n",
    "                opacity = 1)\n",
    "\n",
    "trace_long = go.Scatter(\n",
    "                x=long_rolling_msft.index,\n",
    "                y=long_rolling_msft,\n",
    "                name = \"MSFT Long\",\n",
    "                line = dict(color = '#7F7F7F'),\n",
    "                opacity = 1)\n",
    "\n",
    "trace_price = go.Scatter(\n",
    "                x=msft.index,\n",
    "                y=msft,\n",
    "                name = \"MSFT Price\",\n",
    "                line = dict(color = '#B22222'),\n",
    "                opacity = 0.8)\n",
    "\n",
    "data = [trace_short, trace_long, trace_price]"
   ]
  },
  {
   "cell_type": "markdown",
   "metadata": {},
   "source": [
    "Então invocamos a função de plotagem"
   ]
  },
  {
   "cell_type": "code",
<<<<<<< HEAD
   "execution_count": null,
   "metadata": {},
   "outputs": [],
=======
   "execution_count": 52,
   "metadata": {},
   "outputs": [
    {
     "data": {
      "text/html": [
       "<iframe id=\"igraph\" scrolling=\"no\" style=\"border:none;\" seamless=\"seamless\" src=\"https://plot.ly/~paulorodriguesxv/131.embed\" height=\"525px\" width=\"100%\"></iframe>"
      ],
      "text/plain": [
       "<plotly.tools.PlotlyDisplay object>"
      ]
     },
     "execution_count": 52,
     "metadata": {},
     "output_type": "execute_result"
    }
   ],
>>>>>>> fcc47fd0cf449ba27e57979c91745ab0d7acf858
   "source": [
    "fig = dict(data=data)\n",
    "py.iplot(fig)"
   ]
  },
  {
   "cell_type": "markdown",
   "metadata": {},
   "source": [
    "# MACD"
   ]
  },
  {
   "cell_type": "code",
   "execution_count": null,
   "metadata": {},
   "outputs": [],
   "source": [
    "from plotly import tools\n",
    "\n",
    "msft = all_data.loc['MSFT'].dropna()\n",
    "msft = msft['2018-06-01':]"
   ]
  },
  {
   "cell_type": "code",
<<<<<<< HEAD
   "execution_count": null,
=======
   "execution_count": 53,
>>>>>>> fcc47fd0cf449ba27e57979c91745ab0d7acf858
   "metadata": {},
   "outputs": [],
   "source": [
    "def get_ema(window, prices):\n",
    "    K = ( 2 / (window + 1))\n",
    "    ma = prices.rolling(window=window).mean().dropna()\n",
    "\n",
    "    data = pd.DataFrame(index=ma.index)\n",
    "    data['Price'] = prices\n",
    "    data['EMA'] = np.NaN\n",
    "\n",
    "    data.EMA[0] = ma[1]\n",
    "\n",
    "    for i in range(1, len(data)):\n",
    "        data.EMA[i] = (data.Price[i] * K) + ((1 - K) * data.EMA[i-1]) \n",
    "\n",
    "    return data"
   ]
  },
  {
   "cell_type": "code",
   "execution_count": null,
   "metadata": {},
   "outputs": [],
   "source": [
    "mm_12 = get_ema(12, msft.Close)\n",
    "mm_26 = get_ema(26, msft.Close)\n",
    "\n",
    "mm_macd = mm_12.EMA - mm_26.EMA\n",
    "mm_signal = get_ema(9, mm_macd.dropna()).EMA"
   ]
  },
  {
   "cell_type": "code",
   "execution_count": null,
   "metadata": {},
   "outputs": [],
   "source": [
    "msft = msft[mm_signal.index[0]:]\n",
    "\n",
    "trace_macd = go.Scatter(\n",
    "                    x=mm_macd.index,\n",
    "                    y=mm_macd,\n",
    "                    name = \"MACD\",\n",
    "                    line = dict(color = '#17BECF'),\n",
    "                    opacity = 1)\n",
    "\n",
    "trace_signal = go.Scatter(\n",
    "                    x=mm_signal.index,\n",
    "                    y=mm_signal,\n",
    "                    name = \"Signal\",\n",
    "                    line = dict(color = '#B22222'),\n",
    "                    opacity = 1)\n",
    "\n",
    "trace_candles = go.Candlestick(x=msft.index,\n",
    "                    open=msft.Open,\n",
    "                    high=msft.High,\n",
    "                    low=msft.Low,\n",
    "                    close=msft.Close)\n",
    "\n",
    "fig = tools.make_subplots(rows=2, cols=1)\n",
    "\n",
    "fig.append_trace(trace_candles, 1, 1)\n",
    "fig.append_trace(trace_macd, 2, 1)\n",
    "fig.append_trace(trace_signal, 2, 1)\n",
    "\n",
    "fig['layout']['yaxis2'].update(range=[-3, 5])\n",
    "\n",
    "py.iplot(fig, filename='macd-line')"
   ]
  },
  {
   "cell_type": "markdown",
   "metadata": {},
   "source": [
    "## Histograma MACD"
   ]
  },
  {
   "cell_type": "code",
   "execution_count": null,
   "metadata": {},
   "outputs": [],
   "source": [
    "hist_macd = mm_macd - mm_signal\n",
    "\n",
    "trace_hist_macd = go.Scatter(\n",
    "                    x=hist_macd.index,\n",
    "                    y=hist_macd,\n",
    "                    fill='tozeroy')\n",
    "\n",
    "trace_candles = go.Candlestick(x=msft.index,\n",
    "                    open=msft.Open,\n",
    "                    high=msft.High,\n",
    "                    low=msft.Low,\n",
    "                    close=msft.Close)\n",
    "\n",
    "fig = tools.make_subplots(rows=2, cols=1)\n",
    "\n",
    "fig.append_trace(trace_candles, 1, 1)\n",
    "fig.append_trace(trace_hist_macd, 2, 1)\n",
    "\n",
    "fig['layout']['yaxis2'].update(range=[-2, 2])\n",
    "\n",
    "py.iplot(fig, filename='hist-macd-line')"
   ]
  },
  {
   "cell_type": "markdown",
   "metadata": {},
   "source": [
    "# HiLo Activator"
   ]
  },
  {
   "cell_type": "markdown",
   "metadata": {},
   "source": [
    "Calcular as médias do hilo"
   ]
  },
  {
   "cell_type": "code",
<<<<<<< HEAD
   "execution_count": null,
   "metadata": {},
   "outputs": [],
   "source": [
    "aapl = all_data.loc['AAPL']['2018-01-01':'2018-12-31'].dropna()\n",
    "\n",
    "aapl_high_avg = aapl.High.rolling(window=8).mean()\n",
    "aapl_low_avg = aapl.Low.rolling(window=8).mean()"
   ]
  },
  {
   "cell_type": "markdown",
   "metadata": {},
   "source": [
    "Plotar as médias em conjunto com o candle"
   ]
  },
  {
   "cell_type": "code",
   "execution_count": null,
   "metadata": {},
   "outputs": [],
=======
   "execution_count": 54,
   "metadata": {},
   "outputs": [
    {
     "data": {
      "text/html": [
       "<iframe id=\"igraph\" scrolling=\"no\" style=\"border:none;\" seamless=\"seamless\" src=\"https://plot.ly/~paulorodriguesxv/133.embed\" height=\"525px\" width=\"100%\"></iframe>"
      ],
      "text/plain": [
       "<plotly.tools.PlotlyDisplay object>"
      ]
     },
     "execution_count": 54,
     "metadata": {},
     "output_type": "execute_result"
    }
   ],
>>>>>>> fcc47fd0cf449ba27e57979c91745ab0d7acf858
   "source": [
    "trace_high = go.Scatter(\n",
    "                x=aapl_high_avg.index,\n",
    "                y=aapl_high_avg,\n",
    "                name = \"AAPL High Avg\",\n",
    "                line = dict(color = '#17BECF'),\n",
    "                opacity = 1)\n",
    "\n",
    "trace_low = go.Scatter(\n",
    "                x=aapl_low_avg.index,\n",
    "                y=aapl_low_avg,\n",
    "                name = \"AAPL Low Avg\",\n",
    "                line = dict(color = '#B22222'),\n",
    "                opacity = 1)\n",
    "\n",
    "trace = go.Candlestick(x=aapl.index,\n",
    "                open=aapl.Open,\n",
    "                high=aapl.High,\n",
    "                low=aapl.Low,\n",
    "                close=aapl.Close)\n",
    "data = [trace_high, trace_low, trace]\n",
    "py.iplot(data)"
   ]
  },
  {
   "cell_type": "code",
<<<<<<< HEAD
   "execution_count": null,
=======
   "execution_count": 55,
>>>>>>> fcc47fd0cf449ba27e57979c91745ab0d7acf858
   "metadata": {},
   "outputs": [],
   "source": [
    "aapl_high = pd.DataFrame(index=aapl.index)\n",
    "aapl_low = pd.DataFrame(index=aapl.index)"
   ]
  },
  {
   "cell_type": "code",
<<<<<<< HEAD
   "execution_count": null,
=======
   "execution_count": 56,
>>>>>>> fcc47fd0cf449ba27e57979c91745ab0d7acf858
   "metadata": {},
   "outputs": [],
   "source": [
    "aapl_high['high'] = np.where(aapl.Close > aapl_high_avg, aapl_low_avg, np.NaN)\n",
    "aapl_low['low'] = np.where(aapl.Close < aapl_low_avg, aapl_high_avg, np.NaN)"
   ]
  },
  {
   "cell_type": "code",
<<<<<<< HEAD
   "execution_count": null,
   "metadata": {},
   "outputs": [],
=======
   "execution_count": 57,
   "metadata": {},
   "outputs": [
    {
     "data": {
      "text/html": [
       "<iframe id=\"igraph\" scrolling=\"no\" style=\"border:none;\" seamless=\"seamless\" src=\"https://plot.ly/~paulorodriguesxv/135.embed\" height=\"525px\" width=\"100%\"></iframe>"
      ],
      "text/plain": [
       "<plotly.tools.PlotlyDisplay object>"
      ]
     },
     "execution_count": 57,
     "metadata": {},
     "output_type": "execute_result"
    }
   ],
>>>>>>> fcc47fd0cf449ba27e57979c91745ab0d7acf858
   "source": [
    "trace_high = go.Scatter(\n",
    "                x=aapl_high.index,\n",
    "                y=aapl_high,\n",
    "                line = dict(color = '#17BECF'),\n",
    "                opacity = 1)\n",
    "\n",
    "trace_low = go.Scatter(\n",
    "                x=aapl_low.index,\n",
    "                y=aapl_low,\n",
    "                line = dict(color = '#B22222'),\n",
    "                opacity = 1)\n",
    "\n",
    "trace = go.Candlestick(x=aapl.index,\n",
    "                open=aapl.Open,\n",
    "                high=aapl.High,\n",
    "                low=aapl.Low,\n",
    "                close=aapl.Close)\n",
    "data = [trace_high, trace_low, trace]\n",
    "py.iplot(data)"
   ]
  },
  {
   "cell_type": "markdown",
   "metadata": {},
   "source": [
    "# Bandas de Bollinger"
   ]
  },
  {
   "cell_type": "code",
   "execution_count": null,
   "metadata": {},
   "outputs": [],
   "source": [
    "window = 20\n",
    "\n",
    "aapl = all_data.loc['AAPL']['2018-01-01':'2018-12-31'].dropna()\n",
    "\n",
    "aapl_avg = aapl.Close.rolling(window=window).mean().dropna()\n",
    "aapl_std = aapl.Close.rolling(window=window).std().dropna()"
   ]
  },
  {
   "cell_type": "code",
   "execution_count": null,
   "metadata": {},
   "outputs": [],
   "source": [
    "aapl_bollinger = pd.DataFrame(index=aapl_avg.index)\n",
    "aapl_bollinger['mband'] = aapl_avg\n",
    "aapl_bollinger['uband'] = aapl_avg + aapl_std.apply(lambda x: (x * 2))\n",
    "aapl_bollinger['lband'] = aapl_avg - aapl_std.apply(lambda x: (x * 2))"
   ]
  },
  {
   "cell_type": "code",
   "execution_count": null,
   "metadata": {},
   "outputs": [],
   "source": [
    "aapl_prices = aapl[aapl_bollinger.index[0]:]\n",
    "\n",
    "prices = go.Candlestick(x=aapl_prices.index,\n",
    "                open=aapl_prices.Open,\n",
    "                high=aapl_prices.High,\n",
    "                low=aapl_prices.Low,\n",
    "                name = \"Prices\",\n",
    "                close=aapl_prices.Close)\n",
    "\n",
    "uband = go.Scatter(\n",
    "                x=aapl_bollinger.index,\n",
    "                y=aapl_bollinger.uband,\n",
    "                name = \"Upper Band\",\n",
    "                line = dict(color = '#17BECF'),\n",
    "                opacity = 1)\n",
    "\n",
    "mband = go.Scatter(\n",
    "                x=aapl_bollinger.index,\n",
    "                y=aapl_bollinger.mband,\n",
    "                name = \"Moving average\",\n",
    "                line = dict(color = '#B22222'),\n",
    "                opacity = 1)\n",
    "\n",
    "lband = go.Scatter(\n",
    "                x=aapl_bollinger.index,\n",
    "                y=aapl_bollinger.lband,\n",
    "                name = \"Lower Band\",\n",
    "                line = dict(color = '#17BECF'),\n",
    "                opacity = 1)\n",
    "data = [prices, uband, lband, mband]\n",
    "py.iplot(data)"
   ]
  },
  {
   "cell_type": "markdown",
   "metadata": {},
   "source": [
    "# IFR"
   ]
  },
  {
   "cell_type": "code",
   "execution_count": null,
   "metadata": {},
   "outputs": [],
   "source": [
    "window = 14\n",
    "\n",
    "aapl = all_data.loc['AAPL'].dropna()\n",
    "aapl = aapl['2018-06-01':'2019-02-22']\n",
    "\n",
    "ifr = pd.DataFrame(index=aapl.index)\n",
    "\n",
    "# get the percentual changes between day[i] and day[i-1]\n",
    "ifr_changes = aapl.Close.diff(1)\n",
    "\n",
    "# get days with positive profit (gain)\n",
    "ifr['gain'] = ifr_changes[ifr_changes > 0]\n",
    "\n",
    "# get days with negative profit (loss)\n",
    "ifr['loss'] = ifr_changes[ifr_changes < 0] * (-1)\n",
    "\n",
    "# gain and loss mean\n",
    "ifr['gainAvg'] = np.NaN\n",
    "ifr['lossAvg'] = np.NaN\n",
    "\n",
    "# get the mean for \"window\" period\n",
    "ifr.gainAvg[window] = ifr.iloc[0:window].gain.mean()\n",
    "ifr.lossAvg[window] = ifr.iloc[0:window].loss.mean()\n",
    "\n",
    "ifr = ifr[window:].fillna(0.0)\n",
    "\n",
    "# apply the formula\n",
    "for i in range(1, len(ifr)):\n",
    "    ifr.gainAvg[i] = (ifr.gainAvg[i-1] * (window -1) + ifr.gain[i]) / window\n",
    "    ifr.lossAvg[i] = (ifr.lossAvg[i-1] * (window -1) + ifr.loss[i]) / window\n",
    "        \n",
    "ifr['value'] = 100 - (100 / (1 + (ifr.gainAvg / ifr.lossAvg )))\n"
   ]
  },
  {
   "cell_type": "code",
   "execution_count": null,
   "metadata": {},
   "outputs": [],
   "source": [
    "trace_ifr = go.Scatter(\n",
    "                    x=ifr.index,\n",
    "                    y=ifr.value,\n",
    "                    xaxis='x2',\n",
    "                    yaxis='y2')\n",
    "\n",
    "trace_candles = go.Candlestick(x=aapl.index,\n",
    "                    open=aapl.Open,\n",
    "                    high=aapl.High,\n",
    "                    low=aapl.Low,\n",
    "                    close=aapl.Close)\n",
    "\n",
    "data = [trace_ifr, trace_candles]\n",
    "\n",
    "layout = go.Layout(\n",
    "    xaxis=dict(\n",
    "        domain=[0, 1],\n",
    "        rangeslider={\"visible\": False},\n",
    "    ),\n",
    "    yaxis=dict(\n",
    "        domain=[0.75, 1],        \n",
    "    ),\n",
    "    xaxis2=dict(\n",
    "        domain=[0, 1],\n",
    "        anchor='y2'\n",
    "    ),\n",
    "    yaxis2=dict(\n",
    "        domain=[0, 0.45],\n",
    "        anchor='x2',\n",
    "        range=[0, 100]\n",
    "        \n",
    "    ),\n",
    "        shapes=[\n",
    "            # Line Horizontal\n",
    "            {\n",
    "                'xref': 'x2',\n",
    "                'yref': 'y2',\n",
    "                'type': 'line',\n",
    "                'x0': aapl.index[0],\n",
    "                'y0': '20',\n",
    "                'x1': aapl.index[-1],\n",
    "                'y1': '20',\n",
    "                'line': {\n",
    "                    'color': 'rgb(50, 171, 96)',\n",
    "                    'width': 2,\n",
    "                    'dash': 'dashdot',\n",
    "                },\n",
    "            },\n",
    "            {\n",
    "                'xref': 'x2',\n",
    "                'yref': 'y2',\n",
    "                'type': 'line',\n",
    "                'x0': aapl.index[0],\n",
    "                'y0': '70',\n",
    "                'x1': aapl.index[-1],\n",
    "                'y1': '70',\n",
    "                'line': {\n",
    "                    'color': 'rgb(50, 171, 96)',\n",
    "                    'width': 2,\n",
    "                    'dash': 'dashdot',\n",
    "                },\n",
    "            }        \n",
    "        ]        \n",
    "    \n",
    ")\n",
    "fig = go.Figure(data=data, layout=layout)\n",
    "\n",
    "py.iplot(fig, filename='ifr-plot')"
   ]
  },
  {
   "cell_type": "markdown",
   "metadata": {},
   "source": [
    "# OBV"
   ]
  },
  {
   "cell_type": "code",
   "execution_count": null,
   "metadata": {},
   "outputs": [],
   "source": [
    "aapl = all_data.loc['AAPL'].dropna()\n",
    "aapl = aapl['2018-06-01':'2019-02-22']\n",
    "\n",
    "obv = pd.DataFrame(index=aapl.index)\n",
    "\n",
    "# get the percentual changes between day[i] and day[i-1]\n",
    "obv_changes = aapl.Close - aapl.Open\n",
    "\n",
    "obv['open'] = aapl.Open\n",
    "obv['close'] = aapl.Close\n",
    "obv['volume'] = np.where(obv_changes > 0, aapl.Volume , aapl.Volume * (-1))\n",
    "\n",
    "# get days with positive profit (gain)\n",
    "obv['volume_sum'] = obv.volume.cumsum()"
   ]
  },
  {
   "cell_type": "code",
   "execution_count": null,
   "metadata": {},
   "outputs": [],
   "source": [
    "trace_obv = go.Scatter(\n",
    "                    x=obv.index,\n",
    "                    y=obv.volume_sum,\n",
    "                    xaxis='x2',\n",
    "                    yaxis='y2')\n",
    "\n",
    "trace_candles = go.Candlestick(x=aapl.index,\n",
    "                    open=aapl.Open,\n",
    "                    high=aapl.High,\n",
    "                    low=aapl.Low,\n",
    "                    close=aapl.Close)\n",
    "\n",
    "data = [trace_obv, trace_candles]\n",
    "\n",
    "layout = go.Layout(\n",
    "    xaxis=dict(\n",
    "        domain=[0, 1],\n",
    "        rangeslider={\"visible\": False},\n",
    "    ),\n",
    "    yaxis=dict(\n",
    "        domain=[0.75, 1],        \n",
    "    ),\n",
    "    xaxis2=dict(\n",
    "        domain=[0, 1],\n",
    "        anchor='y2'\n",
    "        \n",
    "    ),\n",
    "    yaxis2=dict(\n",
    "        domain=[0, 0.45],\n",
    "        anchor='x2'\n",
    "        \n",
    "    )\n",
    ")\n",
    "fig = go.Figure(data=data, layout=layout)\n",
    "\n",
    "py.iplot(fig, filename='obv-plot')"
   ]
  },
  {
   "cell_type": "markdown",
   "metadata": {},
   "source": [
    "# Estratégia média 9"
   ]
  },
  {
   "cell_type": "code",
   "execution_count": null,
   "metadata": {},
   "outputs": [],
   "source": [
    "tickers = ['VALE3.SA']\n",
    "\n",
    "start_date = datetime.datetime(2018, 1, 1)\n",
    "end_date = datetime.datetime(2018, 6, 28)\n",
    "\n",
    "all_data = get(tickers, start_date, end_date)"
   ]
  },
  {
   "cell_type": "code",
   "execution_count": null,
   "metadata": {},
   "outputs": [],
   "source": [
    "\n",
    "vale3 = all_data.loc['VALE3.SA'].dropna()\n",
    "\n",
    "vale3['EMA'] = get_ema(9, vale3.Close).EMA\n",
    "\n",
    "# get the \"slope of EMA9 9\"\n",
    "dif = vale3.EMA - vale3.shift(1).EMA\n",
    "\n",
    "# ema 9 crossed the candle (open/close price) and ema 9 has an ascendent slope  ?\n",
    "vale3['mark_max'] = np.where((vale3.EMA < vale3.High) & (vale3.EMA > vale3.Low) & (dif > 0), vale3.High, 0)\n",
    "\n",
    "# ema 9 crossed the candle (open/close price) and ema 9 has an descendent slope  ?\n",
    "vale3['mark_min'] = np.where((vale3.EMA > vale3.Low) & (vale3.EMA < vale3.High) & (dif < 0), vale3.Low, 0)\n",
    "\n",
    "# get start point\n",
    "vale3['buy_start'] = np.where((vale3.Low < vale3.shift(1).mark_max) & (vale3.High > vale3.shift(1).mark_max), vale3.shift(1).mark_max, np.NaN)\n",
    "vale3['sell_start'] = np.where((vale3.Low < vale3.shift(1).mark_min) & (vale3.High > vale3.shift(1).mark_min), vale3.shift(1).mark_min, np.NaN)\n",
    "\n",
    "# set stop loss\n",
    "vale3['buy_stop'] = np.where((vale3.Low < vale3.shift(1).mark_max) & (vale3.High > vale3.shift(1).mark_max), vale3.shift(1).Low, np.NaN)\n",
    "vale3['sell_stop'] = np.where((vale3.Low < vale3.shift(1).mark_min) & (vale3.High > vale3.shift(1).mark_min), vale3.shift(1).High, np.NaN)\n",
    "\n",
    "display(vale3[[\"buy_start\", \"buy_stop\"]][(vale3.buy_start > 0)])\n",
    "display(vale3[[\"sell_start\", \"sell_stop\"]][(vale3.sell_start > 0)])"
   ]
  },
  {
   "cell_type": "markdown",
   "metadata": {},
   "source": [
    "## Média 9 com duas médias"
   ]
  },
  {
   "cell_type": "code",
   "execution_count": null,
   "metadata": {},
   "outputs": [],
   "source": [
    "tickers = ['VALE3.SA']\n",
    "\n",
    "start_date = datetime.datetime(2018, 1, 1)\n",
    "end_date = datetime.datetime(2018, 6, 28)\n",
    "\n",
    "all_data = get(tickers, start_date, end_date)"
   ]
  },
  {
   "cell_type": "code",
   "execution_count": null,
   "metadata": {},
   "outputs": [],
   "source": [
    "vale3 = all_data.loc['VALE3.SA'].dropna()\n",
    "\n",
    "vale3['EMA9'] = get_ema(9, vale3.Close).EMA\n",
    "vale3['EMA1'] = get_ema(1, vale3.Close).EMA\n",
    "\n",
    "\n",
    "buy_cross = (vale3.shift(1).EMA1 < vale3.shift(1).EMA9) & (vale3.EMA1 > vale3.shift(1).EMA9)\n",
    "sell_cross = (vale3.shift(1).EMA1 > vale3.shift(1).EMA9) & (vale3.EMA1 < vale3.shift(1).EMA9)\n",
    "\n",
    "# ema 9 crossed the candle (open/close price) and ema 9 has an ascendent slope  ?\n",
    "vale3['mark_max'] = np.where((vale3.EMA9 < vale3.High) & (vale3.EMA9 > vale3.Low) & (buy_cross == True), vale3.High, 0)\n",
    "\n",
    "# ema 9 crossed the candle (open/close price) and ema 9 has an descendent slope  ?\n",
    "vale3['mark_min'] = np.where((vale3.EMA9 > vale3.Low) & (vale3.EMA9 < vale3.High) & (sell_cross == True), vale3.Low, 0)\n",
    "\n",
    "# get start point\n",
    "vale3['buy_start'] = np.where((vale3.Low < vale3.shift(1).mark_max) & (vale3.High > vale3.shift(1).mark_max), vale3.shift(1).mark_max, np.NaN)\n",
    "vale3['sell_start'] = np.where((vale3.Low < vale3.shift(1).mark_min) & (vale3.High > vale3.shift(1).mark_min), vale3.shift(1).mark_min, np.NaN)\n",
    "\n",
    "# set stop loss\n",
    "vale3['buy_stop'] = np.where((vale3.Low < vale3.shift(1).mark_max) & (vale3.High > vale3.shift(1).mark_max), vale3.shift(1).Low, np.NaN)\n",
    "vale3['sell_stop'] = np.where((vale3.Low < vale3.shift(1).mark_min) & (vale3.High > vale3.shift(1).mark_min), vale3.shift(1).High, np.NaN)\n",
    "\n",
    "display(vale3[[\"buy_start\", \"buy_stop\"]][(vale3.buy_start > 0)])\n",
    "display(vale3[[\"sell_start\", \"sell_stop\"]][(vale3.sell_start > 0)])"
   ]
  },
  {
   "cell_type": "code",
   "execution_count": null,
   "metadata": {},
   "outputs": [],
   "source": [
    "trace_short = go.Scatter(\n",
    "                x=vale3.index,\n",
    "                y=vale3.EMA1,\n",
    "                name = \"EMA(1)\",\n",
    "                line = dict(color = '#FF00CF'),\n",
    "                opacity = 1)\n",
    "\n",
    "trace_long = go.Scatter(\n",
    "                x=vale3.index,\n",
    "                y=vale3.EMA9,\n",
    "                name = \"EMA(9)\",\n",
    "                line = dict(color = '#17BECF'),\n",
    "                opacity = 1)\n",
    "\n",
    "trace_candles = go.Candlestick(x=vale3.index,\n",
    "                    open=vale3.Open,\n",
    "                    high=vale3.High,\n",
    "                    low=vale3.Low,\n",
    "                    close=vale3.Close)\n",
    "\n",
    "data = [trace_short, trace_long, trace_candles]\n",
    "\n",
    "fig = go.Figure(data=data)\n",
    "\n",
    "py.iplot(fig, filename='cross-mm9-plot')"
   ]
  },
  {
   "cell_type": "markdown",
   "metadata": {},
   "source": [
    "# ADX"
   ]
  },
  {
   "cell_type": "code",
   "execution_count": null,
   "metadata": {},
   "outputs": [],
   "source": [
    "tickers = ['VALE3.SA']\n",
    "\n",
    "start_date = datetime.datetime(2018, 1, 1)\n",
    "end_date = datetime.datetime(2018, 12, 31)\n",
    "\n",
    "data = get(tickers, start_date, end_date).loc['VALE3.SA'].dropna()\n",
    "\n",
    "\n",
    "data_ant = data.shift(1)\n",
    "\n",
    "# intermediate dataset, whose purpose is to find out the TR value\n",
    "tr = pd.DataFrame([\n",
    "        data.High - data.Low, \n",
    "        np.absolute(data.High - data_ant.Close), \n",
    "        np.absolute(data.Low - data_ant.Close)])\n",
    "\n",
    "# to facilitate our calculation, we have to transpose the matrix, \n",
    "tr = tr.transpose()\n",
    "\n",
    "# get the max value of each row\n",
    "tr= tr.max(axis=1)\n",
    "\n",
    "# assign TR to our dataset\n",
    "data['tr'] = tr\n",
    "\n",
    "\n",
    "# get +DM\n",
    "dm_plus = np.where((data.High - data_ant.High) > (data_ant.Low - data.Low), \n",
    "                     (data.High - data_ant.High).apply(\n",
    "                             lambda x: np.max([x, 0])),\n",
    "                     0)\n",
    "\n",
    "# get -DM\n",
    "dm_minus = np.where((data_ant.Low - data.Low) > (data.High - data_ant.High), \n",
    "                     (data_ant.Low - data.Low).apply(\n",
    "                             lambda x: np.max([x, 0])),\n",
    "                     0)\n",
    "\n",
    "# assign DM's to our dataset\n",
    "data['dmPlus'] = dm_plus\n",
    "data['dmMinus'] = dm_minus\n",
    "\n",
    "# remove first line, becouse we won't use it\n",
    "data = data[1:]\n",
    "\n",
    "data.head()"
   ]
  },
  {
   "cell_type": "code",
   "execution_count": null,
   "metadata": {},
   "outputs": [],
   "source": [
    "window = 14\n",
    "\n",
    "data['trAvg'] = np.NaN\n",
    "data['dmPlusAvg'] = np.NaN\n",
    "data['dmMinusAvg'] = np.NaN\n",
    "\n",
    "# sum of 14 periodos for calcaulation of the tr, dmPlus and dmMinus\n",
    "data.trAvg[window-1] = np.sum(data.iloc[0:window].tr)\n",
    "data.dmPlusAvg[window-1] = np.sum(data.iloc[0:window].dmPlus)\n",
    "data.dmMinusAvg[window-1] = np.sum(data.iloc[0:window].dmMinus)\n",
    "\n",
    "# get data from 14th row until end of the dataset\n",
    "for i in range(window, len(data)):\n",
    "    data.trAvg[i] = data.trAvg[i-1] - (data.trAvg[i-1] / window) + data.tr[i]\n",
    "    data.dmPlusAvg[i] = data.dmPlusAvg[i-1] - (data.dmPlusAvg[i-1] / window) + data.dmPlus[i]\n",
    "    data.dmMinusAvg[i] = data.dmMinusAvg[i-1] - (data.dmMinusAvg[i-1] / window) + data.dmMinus[i]\n",
    "    \n",
    "data = data.dropna()\n",
    "data.head()    "
   ]
  },
  {
   "cell_type": "code",
   "execution_count": null,
   "metadata": {},
   "outputs": [],
   "source": [
    "# get DI's values\n",
    "data['diPlus'] = (data.dmPlusAvg / data.trAvg) * 100\n",
    "data['diMinus'] = (data.dmMinusAvg / data.trAvg) * 100\n",
    "\n",
    "data.head()"
   ]
  },
  {
   "cell_type": "code",
   "execution_count": null,
   "metadata": {},
   "outputs": [],
   "source": [
    "# get DX value\n",
    "data['DX'] = (np.absolute(data.diPlus - data.diMinus) / (data.diPlus + data.diMinus)) * 100\n",
    "data.head()"
   ]
  },
  {
   "cell_type": "code",
   "execution_count": null,
   "metadata": {},
   "outputs": [],
   "source": [
    "data['ADX'] = np.NaN\n",
    "\n",
    "# average of 14 periods \n",
    "data.ADX[window-1] = data.DX[0:window].mean()\n",
    "\n",
    "# get data from 14th row until end of the dataset\n",
    "for i in range(window, len(data)):\n",
    "    data.ADX[i] = (data.ADX[i-1] * (window - 1) + data.DX[i]) / window\n",
    "    \n",
    "data = data.dropna()\n",
    "data.head()"
   ]
  },
  {
   "cell_type": "code",
   "execution_count": null,
   "metadata": {},
   "outputs": [],
   "source": [
    "trace_candles = go.Candlestick(x=data.index,\n",
    "                    name=\"VALE3.SA\",\n",
    "                    open=data.Open,\n",
    "                    high=data.High,\n",
    "                    low=data.Low,\n",
    "                    close=data.Close)\n",
    "\n",
    "trace_di_minus = go.Scatter(\n",
    "                    x=data.index,\n",
    "                    y=data.diMinus,\n",
    "                    name = \"-DI\",\n",
    "                    line = dict(color = '#B22222'),\n",
    "                    opacity = 1)\n",
    "\n",
    "trace_di_plus = go.Scatter(\n",
    "                    x=data.index,\n",
    "                    y=data.diPlus,\n",
    "                    name = \"+DI\",\n",
    "                    line = dict(color = '#17BECF'),\n",
    "                    opacity = 1)\n",
    "\n",
    "trace_adx = go.Scatter(\n",
    "                    x=data.index,\n",
    "                    y=data.ADX,\n",
    "                    name = \"ADX\",\n",
    "                    line = dict(color = '#9932CC'),\n",
    "                    opacity = 1)\n",
    "\n",
    "fig = dict(data=[trace_di_minus, trace_di_plus, trace_adx])\n",
    "\n",
    "py.iplot(fig, filename='adx-line')"
   ]
  },
  {
   "cell_type": "code",
   "execution_count": null,
   "metadata": {},
   "outputs": [],
   "source": [
    "fig = tools.make_subplots(rows=2, cols=1)\n",
    "\n",
    "fig.append_trace(trace_candles, 1, 1)\n",
    "fig.append_trace(trace_di_minus, 2, 1)\n",
    "fig.append_trace(trace_di_plus, 2, 1)\n",
    "fig.append_trace(trace_adx, 2, 1)\n",
    "\n",
    "fig['layout']['yaxis2'].update(range=[0, 100])\n",
    "\n",
    "py.iplot(fig, filename='adx-line')"
   ]
  },
  {
   "cell_type": "markdown",
   "metadata": {},
   "source": [
    "# Backtest"
   ]
  },
  {
   "cell_type": "code",
<<<<<<< HEAD
   "execution_count": null,
=======
   "execution_count": 58,
>>>>>>> fcc47fd0cf449ba27e57979c91745ab0d7acf858
   "metadata": {},
   "outputs": [],
   "source": [
    "from enum import Enum\n",
    "\n",
    "class TradeType(Enum):\n",
    "    NONE = 0\n",
    "    LONG = 1\n",
    "    SHORT  = -1\n",
    "\n",
    "class BackTest:\n",
    "    def __init__(self, stock, signals, **kwargs):\n",
    "        self._position = 0\n",
    "        self._position_opened = False\n",
    "        self._amount = 0\n",
    "        self._stock = stock\n",
    "        self.trades = []\n",
    "        self._signals = signals\n",
    "        self._status = None\n",
    "        self._std_qty_shares = 100\n",
    "        self._reverse = True\n",
    "        \n",
    "        self._show_logs = (\"log\" in kwargs) and (kwargs[\"log\"])\n",
    "        \n",
    "        self.win_trades = 0\n",
    "        self.loss_trades = 0\n",
    "        \n",
    "        \n",
    "    def _get_win_trades(self, x):\n",
    "        return x >= 0 \n",
    "    \n",
    "    def _get_loss_trades(self, x):\n",
    "        return x < 0\n",
    "    \n",
    "    def _trade(self, position, index):\n",
    "        \"\"\"        \n",
    "        execute a trade\n",
    "        :position : LONG or SHORT\n",
    "        :index : index of stock list        \n",
    "        \"\"\"\n",
    "        \n",
    "        # if has a opened trading, then it will close the position\n",
    "        if self._position_opened:   \n",
    "            # set the operating profit\n",
    "            profit = ((self._std_qty_shares * self._stock.Close[index]) - self._amount)  * (self._position * -1) \n",
    "            \n",
    "            # add proft to trade list\n",
    "            self.trades.append(profit)            \n",
    "            \n",
    "            # close position\n",
    "            self._position_opened = False            \n",
    "            \n",
    "            # log            \n",
    "            if self._show_logs:\n",
    "                print(f'Opened[{self._amount}] -> Closed[{self._std_qty_shares * self._stock.Close[index]}] {position.name}')                             \n",
    "        else:\n",
    "            # If it hasn't an opened position, open it.\n",
    "            self._position_opened = True\n",
    "            self._amount = self._std_qty_shares * self._stock.Close[index]\n",
    "    \n",
    "    def start(self): \n",
    "        \"\"\"\n",
    "            execute the backtest\n",
    "        \"\"\"\n",
    "        for index, item in self._stock.iterrows():\n",
    "            \n",
    "            # for long signal (buy)\n",
    "            if TradeType(self._signals.signal[index]) == TradeType.LONG:\n",
    "                # Was last signal long signal? go to next iteration\n",
    "                if TradeType(self._position) == TradeType.LONG: continue\n",
    "\n",
    "                self._position = self._signals.signal[index]                      \n",
    "                #if it has a opened short position, then sell\n",
    "                if self._position_opened:\n",
    "                    self._trade(TradeType.SHORT, index)\n",
    "                    # because I'm want to revert my position\n",
    "                    if self._reverse:\n",
    "                        self._trade(TradeType.LONG, index)\n",
    "                else:\n",
    "                    # ok, I need to open a position\n",
    "                    self._trade(TradeType.LONG, index)\n",
    "\n",
    "            # for short signal (sell)\n",
    "            if TradeType(self._signals.signal[index]) == TradeType.SHORT:\n",
    "                if TradeType(self._position) == TradeType.SHORT: continue\n",
    "\n",
    "                self._position = self._signals.signal[index]       \n",
    "\n",
    "                if self._position_opened:\n",
    "                    self._trade(TradeType.LONG, index)\n",
    "                    if self._reverse:\n",
    "                        self._trade(TradeType.SHORT, index)\n",
    "                else:\n",
    "                    self._trade(TradeType.SHORT, index)\n",
    "\n",
    "        self.win_trades = len(list(filter(self._get_win_trades, self.trades)))\n",
    "        self.loss_trades = len(list(filter(self._get_loss_trades, self.trades)))"
   ]
  },
  {
   "cell_type": "code",
<<<<<<< HEAD
   "execution_count": null,
=======
   "execution_count": 59,
>>>>>>> fcc47fd0cf449ba27e57979c91745ab0d7acf858
   "metadata": {},
   "outputs": [],
   "source": [
    "signal_start_date = '2018-01-01'\n",
    "signal_end_date = '2018-12-31'\n",
    "aapl = all_data.loc['AAPL'][signal_start_date:signal_end_date].dropna()\n",
    "\n",
    "def build_hilo_signal_list(window=5):\n",
    "    aapl_high_avg = aapl.High.rolling(window=window).mean()\n",
    "    aapl_low_avg = aapl.Low.rolling(window=window).mean()\n",
    "\n",
    "    aapl_hilo = pd.DataFrame(index=aapl.index)\n",
    "    aapl_hilo['high'] = np.where(aapl.Close > aapl_high_avg, 1, 0)\n",
    "    aapl_hilo['low'] = np.where(aapl.Close < aapl_low_avg, 1, 0)\n",
    "    aapl_hilo['signal'] = (aapl_hilo.high - aapl_hilo.low)\n",
    "    \n",
    "    return aapl_hilo"
   ]
  },
  {
   "cell_type": "code",
<<<<<<< HEAD
   "execution_count": null,
   "metadata": {},
   "outputs": [],
=======
   "execution_count": 60,
   "metadata": {},
   "outputs": [
    {
     "name": "stdout",
     "output_type": "stream",
     "text": [
      "Opened[17527.999877929688] -> Closed[17422.000122070312] LONG\n",
      "Opened[17422.000122070312] -> Closed[16433.999633789062] SHORT\n",
      "Opened[16433.999633789062] -> Closed[17502.999877929688] LONG\n",
      "Opened[17502.999877929688] -> Closed[17997.999572753906] SHORT\n",
      "Opened[17997.999572753906] -> Closed[17530.00030517578] LONG\n",
      "Opened[17530.00030517578] -> Closed[17161.000061035156] SHORT\n",
      "Opened[17161.000061035156] -> Closed[17280.00030517578] LONG\n",
      "Opened[17280.00030517578] -> Closed[16910.000610351562] SHORT\n",
      "Opened[16910.000610351562] -> Closed[18630.999755859375] LONG\n",
      "Opened[18630.999755859375] -> Closed[19024.000549316406] SHORT\n",
      "Opened[19024.000549316406] -> Closed[19069.99969482422] LONG\n",
      "Opened[19069.99969482422] -> Closed[18717.999267578125] SHORT\n",
      "Opened[18717.999267578125] -> Closed[18991.000366210938] LONG\n",
      "Opened[18991.000366210938] -> Closed[20150.0] SHORT\n",
      "Opened[20150.0] -> Closed[22130.00030517578] LONG\n",
      "Opened[22130.00030517578] -> Closed[22641.000366210938] SHORT\n",
      "Opened[22641.000366210938] -> Closed[21788.00048828125] LONG\n",
      "Opened[21788.00048828125] -> Closed[22494.99969482422] SHORT\n",
      "Opened[22494.99969482422] -> Closed[22428.99932861328] LONG\n",
      "Opened[22428.99932861328] -> Closed[22272.999572753906] SHORT\n",
      "Opened[22272.999572753906] -> Closed[21508.999633789062] LONG\n",
      "Opened[21508.999633789062] -> Closed[22222.000122070312] SHORT\n",
      "Opened[22222.000122070312] -> Closed[20747.999572753906] LONG\n",
      "Opened[20747.999572753906] -> Closed[18482.000732421875] SHORT\n",
      "Opened[18482.000732421875] -> Closed[17472.000122070312] LONG\n"
     ]
    },
    {
     "data": {
      "text/plain": [
       "989.9993896484375"
      ]
     },
     "metadata": {},
     "output_type": "display_data"
    }
   ],
>>>>>>> fcc47fd0cf449ba27e57979c91745ab0d7acf858
   "source": [
    "signals = build_hilo_signal_list(window=8)\n",
    "bb = BackTest(aapl, signals, log=True)        \n",
    "bb.start()\n",
    "display(sum(bb.trades))"
   ]
  },
  {
   "cell_type": "code",
<<<<<<< HEAD
   "execution_count": null,
   "metadata": {},
   "outputs": [],
=======
   "execution_count": 61,
   "metadata": {},
   "outputs": [
    {
     "name": "stdout",
     "output_type": "stream",
     "text": [
      "BACKTEST HILO - Start Date: 2018-01-01 / End Date: 2018-12-31\n",
      "----------------------------------------------------------------------------------------------------\n",
      "Profit for window=2: 1243.0038452148438\n",
      "Profit for window=3: 405.00030517578125\n",
      "Profit for window=4: 1092.999267578125\n",
      "Profit for window=5: 6072.996520996094\n",
      "Profit for window=6: 5559.996032714844\n",
      "Profit for window=7: 4229.997253417969\n",
      "Profit for window=8: 989.9993896484375\n",
      "Profit for window=9: 2574.0036010742188\n",
      "Profit for window=10: 1591.0003662109375\n",
      "Profit for window=11: 727.9998779296875\n",
      "Profit for window=12: -2371.0006713867188\n",
      "Profit for window=13: -2291.0018920898438\n",
      "Profit for window=14: -1723.0010986328125\n",
      "Profit for window=15: -3179.998779296875\n",
      "Profit for window=16: -2897.9995727539062\n",
      "Profit for window=17: -3229.0008544921875\n",
      "Profit for window=18: -1571.002197265625\n",
      "Profit for window=19: -1926.0009765625\n",
      "Profit for window=20: 15.00091552734375\n",
      "Profit for window=21: -561.0000610351562\n",
      "----------------------------------------------------------------------------------------------------\n",
      "Best Profit: window=5: 6072.996520996094\n"
     ]
    }
   ],
>>>>>>> fcc47fd0cf449ba27e57979c91745ab0d7acf858
   "source": [
    "best_profit = None\n",
    "print(f'BACKTEST HILO - Start Date: {signal_start_date} / End Date: {signal_end_date}')\n",
    "print('-' * 100)\n",
    "\n",
    "for window in range(2, 22):\n",
    "    signals = build_hilo_signal_list(window=window)\n",
    "    bb = BackTest(aapl, signals, log=False)        \n",
    "    bb.start()\n",
    "    \n",
    "    profit = sum(bb.trades)\n",
    "    \n",
    "    if (best_profit is None) or (best_profit[1] < profit):\n",
    "        best_profit = (window, profit)\n",
    "    \n",
    "    print(f'Profit for window={window}: {profit}')\n",
    "    \n",
    "print('-' * 100)    \n",
    "print(f'Best Profit: window={best_profit[0]}: {best_profit[1]}')    "
   ]
  },
  {
   "cell_type": "code",
<<<<<<< HEAD
   "execution_count": null,
=======
   "execution_count": 62,
>>>>>>> fcc47fd0cf449ba27e57979c91745ab0d7acf858
   "metadata": {},
   "outputs": [],
   "source": [
    "signal_start_date = '2018-01-01'\n",
    "signal_end_date = '2018-12-31'\n",
    "aapl = all_data.loc['AAPL'][signal_start_date:signal_end_date].dropna()\n",
    "\n",
    "def build_cross_avg_signal_list(short_window=5, long_window=9):\n",
    "    aapl_short_avg = aapl.Close.rolling(window=short_window).mean()\n",
    "    aapl_long_avg = aapl.Close.rolling(window=long_window).mean()\n",
    "\n",
    "    aapl_cross_avg = pd.DataFrame(index=aapl.index)\n",
    "    aapl_cross_avg['signal'] = np.where(aapl_short_avg > aapl_long_avg, 1, -1)\n",
    "    \n",
    "    return aapl_cross_avg"
   ]
  },
  {
   "cell_type": "code",
<<<<<<< HEAD
   "execution_count": null,
   "metadata": {},
   "outputs": [],
=======
   "execution_count": 63,
   "metadata": {},
   "outputs": [
    {
     "name": "stdout",
     "output_type": "stream",
     "text": [
      "1135.003662109375\n"
     ]
    },
    {
     "data": {
      "text/plain": [
       "10"
      ]
     },
     "metadata": {},
     "output_type": "display_data"
    },
    {
     "data": {
      "text/plain": [
       "14"
      ]
     },
     "metadata": {},
     "output_type": "display_data"
    }
   ],
>>>>>>> fcc47fd0cf449ba27e57979c91745ab0d7acf858
   "source": [
    "signals = build_cross_avg_signal_list(short_window=5, long_window=9)\n",
    "bb = BackTest(aapl, signals, log=False)        \n",
    "bb.start()\n",
    "    \n",
    "print(sum(bb.trades))\n",
    "display(bb.win_trades)\n",
    "display(bb.loss_trades)"
   ]
  },
  {
   "cell_type": "code",
<<<<<<< HEAD
   "execution_count": null,
   "metadata": {},
   "outputs": [],
=======
   "execution_count": 64,
   "metadata": {},
   "outputs": [
    {
     "name": "stdout",
     "output_type": "stream",
     "text": [
      "BACKTEST CROSS AVG - Start Date: 2018-01-01 / End Date: 2018-12-31\n",
      "----------------------------------------------------------------------------------------------------\n",
      "Profit for window=2/2: 0\n",
      "Profit for window=2/3: -3558.013916015625\n",
      "Profit for window=2/4: -1431.0104370117188\n",
      "Profit for window=2/5: 1570.9915161132812\n",
      "Profit for window=2/6: 3926.9943237304688\n",
      "Profit for window=2/7: 3872.9934692382812\n",
      "Profit for window=2/8: 3353.99169921875\n",
      "Profit for window=2/9: 2715.997314453125\n",
      "Profit for window=2/10: -1562.0010375976562\n",
      "Profit for window=2/11: -1491.9998168945312\n",
      "Profit for window=2/12: -2462.0010375976562\n",
      "Profit for window=2/13: -5032.002258300781\n",
      "Profit for window=2/14: -5168.0023193359375\n",
      "Profit for window=2/15: -3648.0010986328125\n",
      "Profit for window=2/16: -4242.0013427734375\n",
      "Profit for window=2/17: -4652.001953125\n",
      "Profit for window=2/18: -3788.0035400390625\n",
      "Profit for window=2/19: -4310.003662109375\n",
      "Profit for window=2/20: -3398.004150390625\n",
      "Profit for window=2/21: -3430.0018310546875\n",
      "Profit for window=3/2: 3404.0130615234375\n",
      "Profit for window=3/3: 0\n",
      "Profit for window=3/4: 1535.992431640625\n",
      "Profit for window=3/5: -741.0003662109375\n",
      "Profit for window=3/6: 665.00244140625\n",
      "Profit for window=3/7: 1377.001953125\n",
      "Profit for window=3/8: 3609.002685546875\n",
      "Profit for window=3/9: 706.0028076171875\n",
      "Profit for window=3/10: 215.00244140625\n",
      "Profit for window=3/11: -1266.998291015625\n",
      "Profit for window=3/12: 366.998291015625\n",
      "Profit for window=3/13: -3199.0005493164062\n",
      "Profit for window=3/14: -2326.0040283203125\n",
      "Profit for window=3/15: -902.001953125\n",
      "Profit for window=3/16: -2764.00146484375\n",
      "Profit for window=3/17: -2036.004638671875\n",
      "Profit for window=3/18: -2036.004638671875\n",
      "Profit for window=3/19: -1394.000244140625\n",
      "Profit for window=3/20: -1394.000244140625\n",
      "Profit for window=3/21: 784.002685546875\n",
      "Profit for window=4/2: 1093.0099487304688\n",
      "Profit for window=4/3: -2083.9935302734375\n",
      "Profit for window=4/4: 0\n",
      "Profit for window=4/5: 1822.9949951171875\n",
      "Profit for window=4/6: 4013.0035400390625\n",
      "Profit for window=4/7: 4066.0003662109375\n",
      "Profit for window=4/8: 6355.999755859375\n",
      "Profit for window=4/9: 3768.0023193359375\n",
      "Profit for window=4/10: 1697.0001220703125\n",
      "Profit for window=4/11: 2071.002197265625\n",
      "Profit for window=4/12: 1073.004150390625\n",
      "Profit for window=4/13: -2021.9970703125\n",
      "Profit for window=4/14: -1895.9991455078125\n",
      "Profit for window=4/15: -3445.9991455078125\n",
      "Profit for window=4/16: 427.9998779296875\n",
      "Profit for window=4/17: 634.002685546875\n",
      "Profit for window=4/18: 622.003173828125\n",
      "Profit for window=4/19: 311.99951171875\n",
      "Profit for window=4/20: 470.001220703125\n",
      "Profit for window=4/21: -323.9990234375\n",
      "Profit for window=5/2: -1988.9938354492188\n",
      "Profit for window=5/3: 322.998046875\n",
      "Profit for window=5/4: -2240.997314453125\n",
      "Profit for window=5/5: 0\n",
      "Profit for window=5/6: 6550.006103515625\n",
      "Profit for window=5/7: 2454.0008544921875\n",
      "Profit for window=5/8: 9961.001586914062\n",
      "Profit for window=5/9: 1135.003662109375\n",
      "Profit for window=5/10: 702.0004272460938\n",
      "Profit for window=5/11: 2212.0040893554688\n",
      "Profit for window=5/12: 3862.0040893554688\n",
      "Profit for window=5/13: 1145.9991455078125\n",
      "Profit for window=5/14: 1172.003173828125\n",
      "Profit for window=5/15: 844.0032958984375\n",
      "Profit for window=5/16: -1958.9996337890625\n",
      "Profit for window=5/17: -1382.9986572265625\n",
      "Profit for window=5/18: -2072.998046875\n",
      "Profit for window=5/19: -1910.99853515625\n",
      "Profit for window=5/20: -2973.0010986328125\n",
      "Profit for window=5/21: -2973.0010986328125\n",
      "Profit for window=6/2: -4340.995788574219\n",
      "Profit for window=6/3: -1079.00390625\n",
      "Profit for window=6/4: -4427.0050048828125\n",
      "Profit for window=6/5: -6964.007568359375\n",
      "Profit for window=6/6: 0\n",
      "Profit for window=6/7: -2345.00732421875\n",
      "Profit for window=6/8: 5666.9952392578125\n",
      "Profit for window=6/9: 3236.0000610351562\n",
      "Profit for window=6/10: 2144.0017700195312\n",
      "Profit for window=6/11: 3442.0028686523438\n",
      "Profit for window=6/12: 1990.0039672851562\n",
      "Profit for window=6/13: 1370.99609375\n",
      "Profit for window=6/14: -350.9979248046875\n",
      "Profit for window=6/15: -1720.9991455078125\n",
      "Profit for window=6/16: -2870.9991455078125\n",
      "Profit for window=6/17: -2064.9993896484375\n",
      "Profit for window=6/18: -2704.998779296875\n",
      "Profit for window=6/19: -2821.002197265625\n",
      "Profit for window=6/20: -3161.0015869140625\n",
      "Profit for window=6/21: -3161.0015869140625\n",
      "Profit for window=7/2: -4278.993225097656\n",
      "Profit for window=7/3: -1783.001708984375\n",
      "Profit for window=7/4: -4472.0001220703125\n",
      "Profit for window=7/5: -2860.0006103515625\n",
      "Profit for window=7/6: 1939.007568359375\n",
      "Profit for window=7/7: 0\n",
      "Profit for window=7/8: 5148.005676269531\n",
      "Profit for window=7/9: 1416.0079956054688\n",
      "Profit for window=7/10: 3116.0049438476562\n",
      "Profit for window=7/11: 2812.9989624023438\n",
      "Profit for window=7/12: 2613.0050659179688\n",
      "Profit for window=7/13: 3930.9982299804688\n",
      "Profit for window=7/14: -1497.0001220703125\n",
      "Profit for window=7/15: -2151.0009765625\n",
      "Profit for window=7/16: -3308.9996337890625\n",
      "Profit for window=7/17: -2525.0\n",
      "Profit for window=7/18: -2914.9993896484375\n",
      "Profit for window=7/19: -2545.001220703125\n",
      "Profit for window=7/20: -2187.0025634765625\n",
      "Profit for window=7/21: -1911.0015869140625\n",
      "Profit for window=8/2: -3957.9925537109375\n",
      "Profit for window=8/3: -4213.0035400390625\n",
      "Profit for window=8/4: -6960.0006103515625\n",
      "Profit for window=8/5: -10565.00244140625\n",
      "Profit for window=8/6: -6270.99609375\n",
      "Profit for window=8/7: -5752.006530761719\n",
      "Profit for window=8/8: 0\n",
      "Profit for window=8/9: -1016.9998168945312\n",
      "Profit for window=8/10: -672.9995727539062\n",
      "Profit for window=8/11: -981.0012817382812\n",
      "Profit for window=8/12: 677.0065307617188\n",
      "Profit for window=8/13: 1219.0017700195312\n",
      "Profit for window=8/14: -3586.9964599609375\n",
      "Profit for window=8/15: -5394.9981689453125\n",
      "Profit for window=8/16: -3932.9986572265625\n",
      "Profit for window=8/17: -3866.0003662109375\n",
      "Profit for window=8/18: -4213.9984130859375\n",
      "Profit for window=8/19: -3348.0010986328125\n",
      "Profit for window=8/20: -2666.00341796875\n",
      "Profit for window=8/21: -3188.0035400390625\n",
      "Profit for window=9/2: -3681.9976806640625\n",
      "Profit for window=9/3: -1672.003173828125\n",
      "Profit for window=9/4: -4734.002685546875\n",
      "Profit for window=9/5: -2101.0040283203125\n",
      "Profit for window=9/6: -4202.000427246094\n",
      "Profit for window=9/7: -2382.0083618164062\n",
      "Profit for window=9/8: 50.99945068359375\n",
      "Profit for window=9/9: 0\n",
      "Profit for window=9/10: 3127.9983520507812\n",
      "Profit for window=9/11: -272.00469970703125\n",
      "Profit for window=9/12: 3378.0044555664062\n",
      "Profit for window=9/13: 958.0001831054688\n",
      "Profit for window=9/14: -663.9999389648438\n",
      "Profit for window=9/15: -5429.998779296875\n",
      "Profit for window=9/16: -4874.0020751953125\n",
      "Profit for window=9/17: -4688.0035400390625\n",
      "Profit for window=9/18: -4272.0001220703125\n",
      "Profit for window=9/19: -2971.0037231445312\n",
      "Profit for window=9/20: -3059.0011596679688\n",
      "Profit for window=9/21: -3059.0011596679688\n",
      "Profit for window=10/2: 775.9994506835938\n",
      "Profit for window=10/3: -1001.0040283203125\n",
      "Profit for window=10/4: -2483.001708984375\n",
      "Profit for window=10/5: -1488.0020141601562\n",
      "Profit for window=10/6: -2930.0033569335938\n",
      "Profit for window=10/7: -3902.0065307617188\n",
      "Profit for window=10/8: -113.00201416015625\n",
      "Profit for window=10/9: -3913.9999389648438\n",
      "Profit for window=10/10: 0\n",
      "Profit for window=10/11: -2120.9991455078125\n",
      "Profit for window=10/12: -1162.9974365234375\n",
      "Profit for window=10/13: -2939.0045166015625\n",
      "Profit for window=10/14: -1011.0015869140625\n",
      "Profit for window=10/15: -1837.005615234375\n",
      "Profit for window=10/16: -7022.003173828125\n",
      "Profit for window=10/17: -5777.003479003906\n",
      "Profit for window=10/18: -4345.002746582031\n",
      "Profit for window=10/19: -3465.0009155273438\n",
      "Profit for window=10/20: -3992.9977416992188\n",
      "Profit for window=10/21: -4661.000061035156\n",
      "Profit for window=11/2: 123.99749755859375\n",
      "Profit for window=11/3: -101.0040283203125\n",
      "Profit for window=11/4: -3439.0045166015625\n",
      "Profit for window=11/5: -3580.0064086914062\n",
      "Profit for window=11/6: -4810.005187988281\n",
      "Profit for window=11/7: -4181.001281738281\n",
      "Profit for window=11/8: -387.00103759765625\n",
      "Profit for window=11/9: -1095.9976196289062\n",
      "Profit for window=11/10: 752.996826171875\n",
      "Profit for window=11/11: 0\n",
      "Profit for window=11/12: -2798.0010986328125\n",
      "Profit for window=11/13: -2814.0045166015625\n",
      "Profit for window=11/14: -1354.010009765625\n",
      "Profit for window=11/15: -1290.0054931640625\n",
      "Profit for window=11/16: -6519.004821777344\n",
      "Profit for window=11/17: -5845.002746582031\n",
      "Profit for window=11/18: -5632.997131347656\n",
      "Profit for window=11/19: -4500.996398925781\n",
      "Profit for window=11/20: -5769.001770019531\n",
      "Profit for window=11/21: -6461.000061035156\n",
      "Profit for window=12/2: 1062.0010375976562\n",
      "Profit for window=12/3: -1766.998291015625\n",
      "Profit for window=12/4: -2473.004150390625\n",
      "Profit for window=12/5: -5262.004089355469\n",
      "Profit for window=12/6: -3390.0039672851562\n",
      "Profit for window=12/7: -4013.0050659179688\n",
      "Profit for window=12/8: -2077.0065307617188\n",
      "Profit for window=12/9: -4778.004455566406\n",
      "Profit for window=12/10: -237.0025634765625\n",
      "Profit for window=12/11: 1398.0010986328125\n",
      "Profit for window=12/12: 0\n",
      "Profit for window=12/13: 1185.992431640625\n",
      "Profit for window=12/14: 1357.989501953125\n",
      "Profit for window=12/15: -624.0066528320312\n",
      "Profit for window=12/16: -6198.005676269531\n",
      "Profit for window=12/17: -7619.001770019531\n",
      "Profit for window=12/18: -6079.002380371094\n",
      "Profit for window=12/19: -5810.003662109375\n",
      "Profit for window=12/20: -6212.0025634765625\n",
      "Profit for window=12/21: -7620.001220703125\n",
      "Profit for window=13/2: 3791.9998168945312\n",
      "Profit for window=13/3: 1958.9981079101562\n",
      "Profit for window=13/4: 781.99462890625\n",
      "Profit for window=13/5: -2386.0015869140625\n",
      "Profit for window=13/6: -2610.99853515625\n",
      "Profit for window=13/7: -5171.000671386719\n",
      "Profit for window=13/8: -2459.0042114257812\n",
      "Profit for window=13/9: -2198.0026245117188\n",
      "Profit for window=13/10: 1699.0020751953125\n",
      "Profit for window=13/11: 1574.0020751953125\n",
      "Profit for window=13/12: -2425.994873046875\n",
      "Profit for window=13/13: 0\n",
      "Profit for window=13/14: -3026.007080078125\n",
      "Profit for window=13/15: -887.9989624023438\n",
      "Profit for window=13/16: -7038.0035400390625\n",
      "Profit for window=13/17: -9377.999877929688\n",
      "Profit for window=13/18: -6269.9981689453125\n",
      "Profit for window=13/19: -7480.0018310546875\n",
      "Profit for window=13/20: -7761.99951171875\n",
      "Profit for window=13/21: -7387.001037597656\n",
      "Profit for window=14/2: 4220.001220703125\n",
      "Profit for window=14/3: 1378.0029296875\n",
      "Profit for window=14/4: 947.998046875\n",
      "Profit for window=14/5: -2120.0042724609375\n",
      "Profit for window=14/6: -597.003173828125\n",
      "Profit for window=14/7: 548.9990234375\n",
      "Profit for window=14/8: 2638.995361328125\n",
      "Profit for window=14/9: -284.00115966796875\n",
      "Profit for window=14/10: 63.00048828125\n",
      "Profit for window=14/11: 406.0089111328125\n",
      "Profit for window=14/12: -2305.9906005859375\n",
      "Profit for window=14/13: 2078.0059814453125\n",
      "Profit for window=14/14: 0\n",
      "Profit for window=14/15: -1396.0006713867188\n",
      "Profit for window=14/16: -7928.0029296875\n",
      "Profit for window=14/17: -7591.998291015625\n",
      "Profit for window=14/18: -5890.989685058594\n",
      "Profit for window=14/19: -7649.000549316406\n",
      "Profit for window=14/20: -7107.005310058594\n",
      "Profit for window=14/21: -7371.003723144531\n",
      "Profit for window=15/2: 2692.0013427734375\n",
      "Profit for window=15/3: -53.997802734375\n",
      "Profit for window=15/4: 2489.9993896484375\n",
      "Profit for window=15/5: -1800.0030517578125\n",
      "Profit for window=15/6: 764.9993896484375\n",
      "Profit for window=15/7: 1195.001220703125\n",
      "Profit for window=15/8: 4438.9984130859375\n",
      "Profit for window=15/9: 4473.9990234375\n",
      "Profit for window=15/10: 881.005859375\n",
      "Profit for window=15/11: 334.0057373046875\n",
      "Profit for window=15/12: -331.99310302734375\n",
      "Profit for window=15/13: -68.00079345703125\n",
      "Profit for window=15/14: 440.00091552734375\n",
      "Profit for window=15/15: 0\n",
      "Profit for window=15/16: -2579.0054321289062\n",
      "Profit for window=15/17: -6045.9930419921875\n",
      "Profit for window=15/18: -5504.997253417969\n",
      "Profit for window=15/19: -5945.005798339844\n",
      "Profit for window=15/20: -6571.006774902344\n",
      "Profit for window=15/21: -6066.999816894531\n",
      "Profit for window=16/2: 3850.0\n",
      "Profit for window=16/3: 2372.0001220703125\n",
      "Profit for window=16/4: -820.001220703125\n",
      "Profit for window=16/5: 1566.998291015625\n",
      "Profit for window=16/6: 2478.997802734375\n",
      "Profit for window=16/7: 2916.998291015625\n",
      "Profit for window=16/8: 3540.997314453125\n",
      "Profit for window=16/9: 4482.000732421875\n",
      "Profit for window=16/10: 6630.0018310546875\n",
      "Profit for window=16/11: 6127.003479003906\n",
      "Profit for window=16/12: 5806.004333496094\n",
      "Profit for window=16/13: 6646.002197265625\n",
      "Profit for window=16/14: 7536.0015869140625\n",
      "Profit for window=16/15: 2187.0040893554688\n",
      "Profit for window=16/16: 0\n",
      "Profit for window=16/17: -2138.9984130859375\n",
      "Profit for window=16/18: -5967.002868652344\n",
      "Profit for window=16/19: -6523.005676269531\n",
      "Profit for window=16/20: -6573.002624511719\n",
      "Profit for window=16/21: -6786.997985839844\n",
      "Profit for window=17/2: 4882.000732421875\n",
      "Profit for window=17/3: 2266.00341796875\n",
      "Profit for window=17/4: -404.00390625\n",
      "Profit for window=17/5: 1612.9974365234375\n",
      "Profit for window=17/6: 2294.9981689453125\n",
      "Profit for window=17/7: 2754.998779296875\n",
      "Profit for window=17/8: 4095.9991455078125\n",
      "Profit for window=17/9: 4918.0023193359375\n",
      "Profit for window=17/10: 6007.002258300781\n",
      "Profit for window=17/11: 6075.001525878906\n",
      "Profit for window=17/12: 7849.000549316406\n",
      "Profit for window=17/13: 9607.998657226562\n",
      "Profit for window=17/14: 7821.9970703125\n",
      "Profit for window=17/15: 6275.9918212890625\n",
      "Profit for window=17/16: 2368.9971923828125\n",
      "Profit for window=17/17: 0\n",
      "Profit for window=17/18: -1664.9993896484375\n",
      "Profit for window=17/19: -1611.004638671875\n",
      "Profit for window=17/20: -3948.9990234375\n",
      "Profit for window=17/21: -5747.0001220703125\n",
      "Profit for window=18/2: 3938.0035400390625\n",
      "Profit for window=18/3: 2186.004638671875\n",
      "Profit for window=18/4: -472.003173828125\n",
      "Profit for window=18/5: 2222.998046875\n",
      "Profit for window=18/6: 2854.998779296875\n",
      "Profit for window=18/7: 3064.9993896484375\n",
      "Profit for window=18/8: 4363.9984130859375\n",
      "Profit for window=18/9: 4422.0001220703125\n",
      "Profit for window=18/10: 4495.002746582031\n",
      "Profit for window=18/11: 5782.997131347656\n",
      "Profit for window=18/12: 6229.002380371094\n",
      "Profit for window=18/13: 6419.9981689453125\n",
      "Profit for window=18/14: 6040.989685058594\n",
      "Profit for window=18/15: 5654.997253417969\n",
      "Profit for window=18/16: 6117.002868652344\n",
      "Profit for window=18/17: 1814.9993896484375\n",
      "Profit for window=18/18: 0\n",
      "Profit for window=18/19: 1920.989990234375\n",
      "Profit for window=18/20: -203.0029296875\n",
      "Profit for window=18/21: -2050.9963989257812\n",
      "Profit for window=19/2: 5170.001220703125\n",
      "Profit for window=19/3: 2253.997802734375\n",
      "Profit for window=19/4: 547.998046875\n",
      "Profit for window=19/5: 2770.99609375\n",
      "Profit for window=19/6: 3680.999755859375\n",
      "Profit for window=19/7: 3404.998779296875\n",
      "Profit for window=19/8: 4207.9986572265625\n",
      "Profit for window=19/9: 3831.0012817382812\n",
      "Profit for window=19/10: 4324.998474121094\n",
      "Profit for window=19/11: 5360.993957519531\n",
      "Profit for window=19/12: 6670.001220703125\n",
      "Profit for window=19/13: 8339.999389648438\n",
      "Profit for window=19/14: 8508.998107910156\n",
      "Profit for window=19/15: 6805.003356933594\n",
      "Profit for window=19/16: 7383.003234863281\n",
      "Profit for window=19/17: 2471.002197265625\n",
      "Profit for window=19/18: -1060.992431640625\n",
      "Profit for window=19/19: 0\n",
      "Profit for window=19/20: -5002.9937744140625\n",
      "Profit for window=19/21: -3648.9959716796875\n",
      "Profit for window=20/2: 4456.0028076171875\n",
      "Profit for window=20/3: 2451.9989013671875\n",
      "Profit for window=20/4: 587.9974365234375\n",
      "Profit for window=20/5: 4030.999755859375\n",
      "Profit for window=20/6: 4219.000244140625\n",
      "Profit for window=20/7: 3245.001220703125\n",
      "Profit for window=20/8: 3724.0020751953125\n",
      "Profit for window=20/9: 4116.999816894531\n",
      "Profit for window=20/10: 5050.996398925781\n",
      "Profit for window=20/11: 6827.000427246094\n",
      "Profit for window=20/12: 7270.001220703125\n",
      "Profit for window=20/13: 8819.998168945312\n",
      "Profit for window=20/14: 8165.003967285156\n",
      "Profit for window=20/15: 7629.005432128906\n",
      "Profit for window=20/16: 7631.001281738281\n",
      "Profit for window=20/17: 5006.9976806640625\n",
      "Profit for window=20/18: 1261.0015869140625\n",
      "Profit for window=20/19: 6060.992431640625\n",
      "Profit for window=20/20: 0\n",
      "Profit for window=20/21: 1181.0043334960938\n",
      "Profit for window=21/2: 4396.002197265625\n",
      "Profit for window=21/3: 181.9976806640625\n",
      "Profit for window=21/4: 1289.9993896484375\n",
      "Profit for window=21/5: 3939.00146484375\n",
      "Profit for window=21/6: 4127.001953125\n",
      "Profit for window=21/7: 2877.001953125\n",
      "Profit for window=21/8: 4154.00390625\n",
      "Profit for window=21/9: 4025.0015258789062\n",
      "Profit for window=21/10: 5627.000427246094\n",
      "Profit for window=21/11: 7427.000427246094\n",
      "Profit for window=21/12: 8586.001586914062\n",
      "Profit for window=21/13: 8353.001403808594\n",
      "Profit for window=21/14: 8337.004089355469\n",
      "Profit for window=21/15: 7033.000183105469\n",
      "Profit for window=21/16: 7752.998352050781\n",
      "Profit for window=21/17: 6713.00048828125\n",
      "Profit for window=21/18: 3016.9967651367188\n",
      "Profit for window=21/19: 4614.996337890625\n",
      "Profit for window=21/20: -215.00396728515625\n",
      "Profit for window=21/21: 0\n",
      "----------------------------------------------------------------------------------------------------\n",
      "Best Profit: window=(5, 8): 9961.001586914062\n"
     ]
    }
   ],
>>>>>>> fcc47fd0cf449ba27e57979c91745ab0d7acf858
   "source": [
    "best_profit = None\n",
    "print(f'BACKTEST CROSS AVG - Start Date: {signal_start_date} / End Date: {signal_end_date}')\n",
    "print('-' * 100)\n",
    "\n",
    "for short_window in range(2, 22):\n",
    "    for long_window in range(2, 22):\n",
    "        signals = build_cross_avg_signal_list(short_window=short_window, long_window=long_window)\n",
    "        bb = BackTest(aapl, signals, log=False)        \n",
    "        bb.start()\n",
    "\n",
    "        profit = sum(bb.trades)\n",
    "\n",
    "        if (best_profit is None) or (best_profit[1] < profit):\n",
    "            best_profit = ((short_window,long_window), profit)\n",
    "\n",
    "        print(f'Profit for window={short_window}/{long_window}: {profit}')\n",
    "    \n",
    "print('-' * 100)    \n",
    "print(f'Best Profit: window={best_profit[0]}: {best_profit[1]}')    "
   ]
  },
  {
   "cell_type": "code",
<<<<<<< HEAD
   "execution_count": null,
=======
   "execution_count": 65,
>>>>>>> fcc47fd0cf449ba27e57979c91745ab0d7acf858
   "metadata": {},
   "outputs": [],
   "source": [
    "buy = float(100 * aapl.head(1).Close)\n",
    "sell = float(100 * aapl.tail(1).Close)\n",
    "\n",
    "print(f'BACKTEST BUY AND HOLD - Start Date: {signal_start_date} / End Date: {signal_end_date}')\n",
    "print('-' * 100)\n",
    "\n",
    "print(f'Profit: {buy - sell}')"
   ]
  },
  {
   "cell_type": "markdown",
   "metadata": {},
   "source": [
    "# Script para apagar os gráficos gerados no plotly"
   ]
  },
  {
   "cell_type": "code",
<<<<<<< HEAD
   "execution_count": null,
=======
   "execution_count": 43,
>>>>>>> fcc47fd0cf449ba27e57979c91745ab0d7acf858
   "metadata": {},
   "outputs": [],
   "source": [
    "import json\n",
    "import requests\n",
    "from requests.auth import HTTPBasicAuth\n",
    "\n",
    "username = plotly_username\n",
    "api_key = plotly_key\n",
    "headers = {'Plotly-Client-Platform': 'python'}\n",
    "\n",
    "auth = HTTPBasicAuth(username, api_key)\n",
    "\n",
    "def get_pages(username, page_size):\n",
    "    url = 'https://api.plot.ly/v2/folders/all?user='+username+'&page_size='+str(page_size)\n",
    "    response = requests.get(url, auth=auth, headers=headers)\n",
    "    if response.status_code != 200:\n",
    "        return\n",
    "    page = json.loads(response.content)\n",
    "    yield page\n",
    "    while True:\n",
    "        resource = page['children']['next'] \n",
    "        if not resource:\n",
    "            break\n",
    "        response = requests.get(resource, auth=auth, headers=headers)\n",
    "        if response.status_code != 200:\n",
    "            break\n",
    "        page = json.loads(response.content)\n",
    "        yield page\n",
    "        \n",
    "def permanently_delete_files(username, page_size=500, filetype_to_delete='plot'):\n",
    "    for page in get_pages(username, page_size):\n",
    "        for x in range(0, len(page['children']['results'])):\n",
    "            fid = page['children']['results'][x]['fid']\n",
    "            res = requests.get('https://api.plot.ly/v2/files/' + fid, auth=auth, headers=headers)\n",
    "            res.raise_for_status()\n",
    "            if res.status_code == 200:\n",
    "                json_res = json.loads(res.content)\n",
    "                if json_res['filetype'] == filetype_to_delete:\n",
    "                    # move to trash\n",
    "                    requests.post('https://api.plot.ly/v2/files/'+fid+'/trash', auth=auth, headers=headers)\n",
    "                    # permanently delete\n",
    "                    requests.delete('https://api.plot.ly/v2/files/'+fid+'/permanent_delete', auth=auth, headers=headers)\n",
    "\n",
    "\n",
    "permanently_delete_files(username, filetype_to_delete='plot')\n",
    "permanently_delete_files(username, filetype_to_delete='grid')"
   ]
  },
  {
   "cell_type": "code",
   "execution_count": null,
   "metadata": {},
   "outputs": [],
   "source": [
    "aapl = all_data.loc['AAPL']['2018-01-01':'2018-12-31'].dropna()"
   ]
  },
  {
   "cell_type": "code",
   "execution_count": null,
   "metadata": {},
   "outputs": [],
   "source": []
  }
 ],
 "metadata": {
  "kernelspec": {
   "display_name": "Python 3",
   "language": "python",
   "name": "python3"
  },
  "language_info": {
   "codemirror_mode": {
    "name": "ipython",
    "version": 3
   },
   "file_extension": ".py",
   "mimetype": "text/x-python",
   "name": "python",
   "nbconvert_exporter": "python",
   "pygments_lexer": "ipython3",
   "version": "3.6.6"
  }
 },
 "nbformat": 4,
 "nbformat_minor": 2
}
